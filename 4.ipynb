{
 "cells": [
  {
   "cell_type": "code",
   "execution_count": 6,
   "id": "034b10f5-c375-4fbc-828c-b5bf18be69b9",
   "metadata": {},
   "outputs": [],
   "source": [
    "!pip install -Uqq fastbook\n",
    "import fastbook\n",
    "fastbook.setup_book()\n",
    "from fastai.vision.all import *\n",
    "from fastbook import *\n",
    "from utils import plot_function\n",
    "\n",
    "matplotlib.rc('image', cmap='Greys')"
   ]
  },
  {
   "cell_type": "code",
   "execution_count": 7,
   "id": "0ec0ac9a-cf7f-4f3c-8092-0053310f3f86",
   "metadata": {},
   "outputs": [
    {
     "data": {
      "text/html": [
       "\n",
       "<style>\n",
       "    /* Turns off some styling */\n",
       "    progress {\n",
       "        /* gets rid of default border in Firefox and Opera. */\n",
       "        border: none;\n",
       "        /* Needs to be in here for Safari polyfill so background images work as expected. */\n",
       "        background-size: auto;\n",
       "    }\n",
       "    .progress-bar-interrupted, .progress-bar-interrupted::-webkit-progress-bar {\n",
       "        background: #F44336;\n",
       "    }\n",
       "</style>\n"
      ],
      "text/plain": [
       "<IPython.core.display.HTML object>"
      ]
     },
     "metadata": {},
     "output_type": "display_data"
    },
    {
     "data": {
      "text/html": [
       "\n",
       "    <div>\n",
       "      <progress value='3219456' class='' max='3214948' style='width:300px; height:20px; vertical-align: middle;'></progress>\n",
       "      100.14% [3219456/3214948 00:00<00:00]\n",
       "    </div>\n",
       "    "
      ],
      "text/plain": [
       "<IPython.core.display.HTML object>"
      ]
     },
     "metadata": {},
     "output_type": "display_data"
    }
   ],
   "source": [
    "path = untar_data(URLs.MNIST_SAMPLE)"
   ]
  },
  {
   "cell_type": "code",
   "execution_count": 8,
   "id": "07e55b1c-e5bd-4fdf-ad0a-051dc45b9210",
   "metadata": {},
   "outputs": [
    {
     "data": {
      "text/plain": [
       "Path('/home/jupyter/.fastai/data/mnist_sample')"
      ]
     },
     "execution_count": 8,
     "metadata": {},
     "output_type": "execute_result"
    }
   ],
   "source": [
    "path"
   ]
  },
  {
   "cell_type": "code",
   "execution_count": 9,
   "id": "5e685b13-81bc-4176-bc4c-a8b6972a685d",
   "metadata": {},
   "outputs": [],
   "source": [
    "Path.BASE_PATH = path"
   ]
  },
  {
   "cell_type": "code",
   "execution_count": 10,
   "id": "4e9628b0-d27d-4b9d-8a7a-888330cc7073",
   "metadata": {},
   "outputs": [
    {
     "data": {
      "text/plain": [
       "(#3) [Path('labels.csv'),Path('train'),Path('valid')]"
      ]
     },
     "execution_count": 10,
     "metadata": {},
     "output_type": "execute_result"
    }
   ],
   "source": [
    "path.ls()"
   ]
  },
  {
   "cell_type": "code",
   "execution_count": 11,
   "id": "07b02500-58ea-4645-b48a-c53670cf4e93",
   "metadata": {},
   "outputs": [
    {
     "data": {
      "text/plain": [
       "(#2) [Path('train/7'),Path('train/3')]"
      ]
     },
     "execution_count": 11,
     "metadata": {},
     "output_type": "execute_result"
    }
   ],
   "source": [
    "(path/'train').ls()\n",
    "# Path is PosixPath object and / is overloaded to append to path more like path.join(a,b)"
   ]
  },
  {
   "cell_type": "code",
   "execution_count": 12,
   "id": "2d023465-37e5-4704-a0e8-67f6d1371822",
   "metadata": {},
   "outputs": [],
   "source": [
    "threes = (path/'train'/'3').ls().sorted()\n",
    "sevens = (path/'train'/'7').ls().sorted()\n"
   ]
  },
  {
   "cell_type": "code",
   "execution_count": 13,
   "id": "ef41def9-5924-435d-b34c-3899b8c7b351",
   "metadata": {},
   "outputs": [],
   "source": [
    "im3 = Image.open(threes[3])"
   ]
  },
  {
   "cell_type": "code",
   "execution_count": 14,
   "id": "31617ce9-546d-4d14-8075-0de67df4d842",
   "metadata": {},
   "outputs": [
    {
     "data": {
      "text/plain": [
       "array([[  0,   0,   0,   0,   0,   0],\n",
       "       [  0,   0,   0,   0,   0,   0],\n",
       "       [  0,   0,   0,   0,   0, 178],\n",
       "       [  0,   0,   0,   0,   0, 186],\n",
       "       [  0,   0,   0,   0,   0, 186],\n",
       "       [  0,   0,   0,   0,   0,  39]], dtype=uint8)"
      ]
     },
     "execution_count": 14,
     "metadata": {},
     "output_type": "execute_result"
    }
   ],
   "source": [
    "array(im3)[4:10,4:10]"
   ]
  },
  {
   "cell_type": "code",
   "execution_count": 15,
   "id": "2d0112b2-2006-4b00-a5e9-0c7cdbde141f",
   "metadata": {},
   "outputs": [
    {
     "data": {
      "text/plain": [
       "tensor([[  0,   0,   0,   0,   0,   0],\n",
       "        [  0,   0,   0,   0,   0,   0],\n",
       "        [  0,   0,   0,   0,   0, 178],\n",
       "        [  0,   0,   0,   0,   0, 186],\n",
       "        [  0,   0,   0,   0,   0, 186],\n",
       "        [  0,   0,   0,   0,   0,  39]], dtype=torch.uint8)"
      ]
     },
     "execution_count": 15,
     "metadata": {},
     "output_type": "execute_result"
    }
   ],
   "source": [
    "tensor(im3)[4:10, 4:10]"
   ]
  },
  {
   "cell_type": "code",
   "execution_count": 16,
   "id": "39e083a4-e1ac-42e9-93fd-aef5a2834db9",
   "metadata": {},
   "outputs": [
    {
     "data": {
      "text/plain": [
       "torch.Size([28, 28])"
      ]
     },
     "execution_count": 16,
     "metadata": {},
     "output_type": "execute_result"
    }
   ],
   "source": [
    "tensor(im3).shape"
   ]
  },
  {
   "cell_type": "code",
   "execution_count": 17,
   "id": "1bfc64bb-fc34-4b8f-9e4d-3e193a2f2389",
   "metadata": {},
   "outputs": [
    {
     "data": {
      "text/html": [
       "<style type=\"text/css\">\n",
       "#T_69a5d_row0_col0, #T_69a5d_row0_col1, #T_69a5d_row0_col2, #T_69a5d_row0_col3, #T_69a5d_row0_col4, #T_69a5d_row0_col5, #T_69a5d_row0_col6, #T_69a5d_row0_col7, #T_69a5d_row0_col8, #T_69a5d_row0_col9, #T_69a5d_row0_col10, #T_69a5d_row0_col11, #T_69a5d_row0_col12, #T_69a5d_row0_col13, #T_69a5d_row0_col14, #T_69a5d_row0_col15, #T_69a5d_row0_col16, #T_69a5d_row0_col17, #T_69a5d_row1_col0, #T_69a5d_row1_col1, #T_69a5d_row1_col2, #T_69a5d_row1_col3, #T_69a5d_row1_col4, #T_69a5d_row1_col5, #T_69a5d_row1_col16, #T_69a5d_row1_col17, #T_69a5d_row2_col0, #T_69a5d_row2_col1, #T_69a5d_row2_col2, #T_69a5d_row2_col3, #T_69a5d_row2_col4, #T_69a5d_row2_col17, #T_69a5d_row3_col0, #T_69a5d_row3_col1, #T_69a5d_row3_col2, #T_69a5d_row3_col3, #T_69a5d_row3_col4, #T_69a5d_row3_col17, #T_69a5d_row4_col0, #T_69a5d_row4_col1, #T_69a5d_row4_col2, #T_69a5d_row4_col3, #T_69a5d_row4_col4, #T_69a5d_row4_col17, #T_69a5d_row5_col0, #T_69a5d_row5_col1, #T_69a5d_row5_col2, #T_69a5d_row5_col3, #T_69a5d_row5_col4, #T_69a5d_row5_col8, #T_69a5d_row5_col9, #T_69a5d_row5_col10, #T_69a5d_row5_col17, #T_69a5d_row6_col0, #T_69a5d_row6_col1, #T_69a5d_row6_col2, #T_69a5d_row6_col3, #T_69a5d_row6_col4, #T_69a5d_row6_col5, #T_69a5d_row6_col6, #T_69a5d_row6_col7, #T_69a5d_row6_col8, #T_69a5d_row6_col9, #T_69a5d_row6_col17, #T_69a5d_row7_col0, #T_69a5d_row7_col1, #T_69a5d_row7_col2, #T_69a5d_row7_col3, #T_69a5d_row7_col4, #T_69a5d_row7_col5, #T_69a5d_row7_col6, #T_69a5d_row7_col7, #T_69a5d_row7_col16, #T_69a5d_row7_col17, #T_69a5d_row8_col0, #T_69a5d_row8_col1, #T_69a5d_row8_col2, #T_69a5d_row8_col3, #T_69a5d_row8_col4, #T_69a5d_row8_col5, #T_69a5d_row8_col17, #T_69a5d_row9_col0, #T_69a5d_row9_col1, #T_69a5d_row9_col2, #T_69a5d_row9_col3, #T_69a5d_row9_col4, #T_69a5d_row9_col17, #T_69a5d_row10_col0, #T_69a5d_row10_col1, #T_69a5d_row10_col2, #T_69a5d_row10_col3, #T_69a5d_row10_col4 {\n",
       "  font-size: 6pt;\n",
       "  background-color: #ffffff;\n",
       "  color: #000000;\n",
       "}\n",
       "#T_69a5d_row1_col6 {\n",
       "  font-size: 6pt;\n",
       "  background-color: #b2b2b2;\n",
       "  color: #000000;\n",
       "}\n",
       "#T_69a5d_row1_col7, #T_69a5d_row1_col8, #T_69a5d_row1_col9, #T_69a5d_row1_col10, #T_69a5d_row1_col11, #T_69a5d_row1_col12, #T_69a5d_row1_col13, #T_69a5d_row2_col14, #T_69a5d_row3_col5, #T_69a5d_row3_col6, #T_69a5d_row3_col14, #T_69a5d_row3_col15, #T_69a5d_row4_col5, #T_69a5d_row4_col6, #T_69a5d_row4_col14, #T_69a5d_row4_col15, #T_69a5d_row5_col14, #T_69a5d_row5_col15, #T_69a5d_row6_col14, #T_69a5d_row9_col14, #T_69a5d_row9_col15, #T_69a5d_row10_col5, #T_69a5d_row10_col6, #T_69a5d_row10_col15, #T_69a5d_row10_col16, #T_69a5d_row10_col17 {\n",
       "  font-size: 6pt;\n",
       "  background-color: #000000;\n",
       "  color: #f1f1f1;\n",
       "}\n",
       "#T_69a5d_row1_col14, #T_69a5d_row4_col13 {\n",
       "  font-size: 6pt;\n",
       "  background-color: #282828;\n",
       "  color: #f1f1f1;\n",
       "}\n",
       "#T_69a5d_row1_col15 {\n",
       "  font-size: 6pt;\n",
       "  background-color: #f0f0f0;\n",
       "  color: #000000;\n",
       "}\n",
       "#T_69a5d_row2_col5 {\n",
       "  font-size: 6pt;\n",
       "  background-color: #0d0d0d;\n",
       "  color: #f1f1f1;\n",
       "}\n",
       "#T_69a5d_row2_col6 {\n",
       "  font-size: 6pt;\n",
       "  background-color: #050505;\n",
       "  color: #f1f1f1;\n",
       "}\n",
       "#T_69a5d_row2_col7, #T_69a5d_row2_col8, #T_69a5d_row2_col9, #T_69a5d_row2_col11, #T_69a5d_row2_col12, #T_69a5d_row2_col13, #T_69a5d_row3_col7, #T_69a5d_row3_col8, #T_69a5d_row3_col9, #T_69a5d_row3_col11, #T_69a5d_row3_col12, #T_69a5d_row3_col13, #T_69a5d_row6_col12, #T_69a5d_row6_col13, #T_69a5d_row7_col11, #T_69a5d_row7_col12, #T_69a5d_row7_col13, #T_69a5d_row8_col9, #T_69a5d_row8_col11, #T_69a5d_row8_col12, #T_69a5d_row8_col13, #T_69a5d_row9_col7, #T_69a5d_row9_col8, #T_69a5d_row9_col9, #T_69a5d_row9_col11, #T_69a5d_row9_col12, #T_69a5d_row9_col13, #T_69a5d_row10_col7, #T_69a5d_row10_col8, #T_69a5d_row10_col9, #T_69a5d_row10_col11, #T_69a5d_row10_col12 {\n",
       "  font-size: 6pt;\n",
       "  background-color: #010101;\n",
       "  color: #f1f1f1;\n",
       "}\n",
       "#T_69a5d_row2_col10, #T_69a5d_row3_col10, #T_69a5d_row7_col10, #T_69a5d_row8_col10, #T_69a5d_row9_col10, #T_69a5d_row10_col10 {\n",
       "  font-size: 6pt;\n",
       "  background-color: #020202;\n",
       "  color: #f1f1f1;\n",
       "}\n",
       "#T_69a5d_row2_col15 {\n",
       "  font-size: 6pt;\n",
       "  background-color: #2c2c2c;\n",
       "  color: #f1f1f1;\n",
       "}\n",
       "#T_69a5d_row2_col16 {\n",
       "  font-size: 6pt;\n",
       "  background-color: #ececec;\n",
       "  color: #000000;\n",
       "}\n",
       "#T_69a5d_row3_col16, #T_69a5d_row4_col16, #T_69a5d_row5_col16 {\n",
       "  font-size: 6pt;\n",
       "  background-color: #c5c5c5;\n",
       "  color: #000000;\n",
       "}\n",
       "#T_69a5d_row4_col7 {\n",
       "  font-size: 6pt;\n",
       "  background-color: #0c0c0c;\n",
       "  color: #f1f1f1;\n",
       "}\n",
       "#T_69a5d_row4_col8, #T_69a5d_row4_col9 {\n",
       "  font-size: 6pt;\n",
       "  background-color: #646464;\n",
       "  color: #f1f1f1;\n",
       "}\n",
       "#T_69a5d_row4_col10, #T_69a5d_row4_col11, #T_69a5d_row4_col12 {\n",
       "  font-size: 6pt;\n",
       "  background-color: #ebebeb;\n",
       "  color: #000000;\n",
       "}\n",
       "#T_69a5d_row5_col5, #T_69a5d_row5_col6 {\n",
       "  font-size: 6pt;\n",
       "  background-color: #e1e1e1;\n",
       "  color: #000000;\n",
       "}\n",
       "#T_69a5d_row5_col7 {\n",
       "  font-size: 6pt;\n",
       "  background-color: #e5e5e5;\n",
       "  color: #000000;\n",
       "}\n",
       "#T_69a5d_row5_col11 {\n",
       "  font-size: 6pt;\n",
       "  background-color: #f1f1f1;\n",
       "  color: #000000;\n",
       "}\n",
       "#T_69a5d_row5_col12 {\n",
       "  font-size: 6pt;\n",
       "  background-color: #a2a2a2;\n",
       "  color: #f1f1f1;\n",
       "}\n",
       "#T_69a5d_row5_col13 {\n",
       "  font-size: 6pt;\n",
       "  background-color: #0a0a0a;\n",
       "  color: #f1f1f1;\n",
       "}\n",
       "#T_69a5d_row6_col10 {\n",
       "  font-size: 6pt;\n",
       "  background-color: #e0e0e0;\n",
       "  color: #000000;\n",
       "}\n",
       "#T_69a5d_row6_col11 {\n",
       "  font-size: 6pt;\n",
       "  background-color: #383838;\n",
       "  color: #f1f1f1;\n",
       "}\n",
       "#T_69a5d_row6_col15 {\n",
       "  font-size: 6pt;\n",
       "  background-color: #575757;\n",
       "  color: #f1f1f1;\n",
       "}\n",
       "#T_69a5d_row6_col16 {\n",
       "  font-size: 6pt;\n",
       "  background-color: #f4f4f4;\n",
       "  color: #000000;\n",
       "}\n",
       "#T_69a5d_row7_col8 {\n",
       "  font-size: 6pt;\n",
       "  background-color: #fefefe;\n",
       "  color: #000000;\n",
       "}\n",
       "#T_69a5d_row7_col9, #T_69a5d_row8_col7 {\n",
       "  font-size: 6pt;\n",
       "  background-color: #e9e9e9;\n",
       "  color: #000000;\n",
       "}\n",
       "#T_69a5d_row7_col14 {\n",
       "  font-size: 6pt;\n",
       "  background-color: #393939;\n",
       "  color: #f1f1f1;\n",
       "}\n",
       "#T_69a5d_row7_col15 {\n",
       "  font-size: 6pt;\n",
       "  background-color: #f5f5f5;\n",
       "  color: #000000;\n",
       "}\n",
       "#T_69a5d_row8_col6 {\n",
       "  font-size: 6pt;\n",
       "  background-color: #fdfdfd;\n",
       "  color: #000000;\n",
       "}\n",
       "#T_69a5d_row8_col8 {\n",
       "  font-size: 6pt;\n",
       "  background-color: #6c6c6c;\n",
       "  color: #f1f1f1;\n",
       "}\n",
       "#T_69a5d_row8_col14 {\n",
       "  font-size: 6pt;\n",
       "  background-color: #1d1d1d;\n",
       "  color: #f1f1f1;\n",
       "}\n",
       "#T_69a5d_row8_col15 {\n",
       "  font-size: 6pt;\n",
       "  background-color: #909090;\n",
       "  color: #f1f1f1;\n",
       "}\n",
       "#T_69a5d_row8_col16 {\n",
       "  font-size: 6pt;\n",
       "  background-color: #fbfbfb;\n",
       "  color: #000000;\n",
       "}\n",
       "#T_69a5d_row9_col5 {\n",
       "  font-size: 6pt;\n",
       "  background-color: #7d7d7d;\n",
       "  color: #f1f1f1;\n",
       "}\n",
       "#T_69a5d_row9_col6 {\n",
       "  font-size: 6pt;\n",
       "  background-color: #6d6d6d;\n",
       "  color: #f1f1f1;\n",
       "}\n",
       "#T_69a5d_row9_col16 {\n",
       "  font-size: 6pt;\n",
       "  background-color: #676767;\n",
       "  color: #f1f1f1;\n",
       "}\n",
       "#T_69a5d_row10_col13 {\n",
       "  font-size: 6pt;\n",
       "  background-color: #888888;\n",
       "  color: #f1f1f1;\n",
       "}\n",
       "#T_69a5d_row10_col14 {\n",
       "  font-size: 6pt;\n",
       "  background-color: #212121;\n",
       "  color: #f1f1f1;\n",
       "}\n",
       "</style>\n",
       "<table id=\"T_69a5d_\">\n",
       "  <thead>\n",
       "    <tr>\n",
       "      <th class=\"blank level0\" >&nbsp;</th>\n",
       "      <th class=\"col_heading level0 col0\" >0</th>\n",
       "      <th class=\"col_heading level0 col1\" >1</th>\n",
       "      <th class=\"col_heading level0 col2\" >2</th>\n",
       "      <th class=\"col_heading level0 col3\" >3</th>\n",
       "      <th class=\"col_heading level0 col4\" >4</th>\n",
       "      <th class=\"col_heading level0 col5\" >5</th>\n",
       "      <th class=\"col_heading level0 col6\" >6</th>\n",
       "      <th class=\"col_heading level0 col7\" >7</th>\n",
       "      <th class=\"col_heading level0 col8\" >8</th>\n",
       "      <th class=\"col_heading level0 col9\" >9</th>\n",
       "      <th class=\"col_heading level0 col10\" >10</th>\n",
       "      <th class=\"col_heading level0 col11\" >11</th>\n",
       "      <th class=\"col_heading level0 col12\" >12</th>\n",
       "      <th class=\"col_heading level0 col13\" >13</th>\n",
       "      <th class=\"col_heading level0 col14\" >14</th>\n",
       "      <th class=\"col_heading level0 col15\" >15</th>\n",
       "      <th class=\"col_heading level0 col16\" >16</th>\n",
       "      <th class=\"col_heading level0 col17\" >17</th>\n",
       "    </tr>\n",
       "  </thead>\n",
       "  <tbody>\n",
       "    <tr>\n",
       "      <th id=\"T_69a5d_level0_row0\" class=\"row_heading level0 row0\" >0</th>\n",
       "      <td id=\"T_69a5d_row0_col0\" class=\"data row0 col0\" >0</td>\n",
       "      <td id=\"T_69a5d_row0_col1\" class=\"data row0 col1\" >0</td>\n",
       "      <td id=\"T_69a5d_row0_col2\" class=\"data row0 col2\" >0</td>\n",
       "      <td id=\"T_69a5d_row0_col3\" class=\"data row0 col3\" >0</td>\n",
       "      <td id=\"T_69a5d_row0_col4\" class=\"data row0 col4\" >0</td>\n",
       "      <td id=\"T_69a5d_row0_col5\" class=\"data row0 col5\" >0</td>\n",
       "      <td id=\"T_69a5d_row0_col6\" class=\"data row0 col6\" >0</td>\n",
       "      <td id=\"T_69a5d_row0_col7\" class=\"data row0 col7\" >0</td>\n",
       "      <td id=\"T_69a5d_row0_col8\" class=\"data row0 col8\" >0</td>\n",
       "      <td id=\"T_69a5d_row0_col9\" class=\"data row0 col9\" >0</td>\n",
       "      <td id=\"T_69a5d_row0_col10\" class=\"data row0 col10\" >0</td>\n",
       "      <td id=\"T_69a5d_row0_col11\" class=\"data row0 col11\" >0</td>\n",
       "      <td id=\"T_69a5d_row0_col12\" class=\"data row0 col12\" >0</td>\n",
       "      <td id=\"T_69a5d_row0_col13\" class=\"data row0 col13\" >0</td>\n",
       "      <td id=\"T_69a5d_row0_col14\" class=\"data row0 col14\" >0</td>\n",
       "      <td id=\"T_69a5d_row0_col15\" class=\"data row0 col15\" >0</td>\n",
       "      <td id=\"T_69a5d_row0_col16\" class=\"data row0 col16\" >0</td>\n",
       "      <td id=\"T_69a5d_row0_col17\" class=\"data row0 col17\" >0</td>\n",
       "    </tr>\n",
       "    <tr>\n",
       "      <th id=\"T_69a5d_level0_row1\" class=\"row_heading level0 row1\" >1</th>\n",
       "      <td id=\"T_69a5d_row1_col0\" class=\"data row1 col0\" >0</td>\n",
       "      <td id=\"T_69a5d_row1_col1\" class=\"data row1 col1\" >0</td>\n",
       "      <td id=\"T_69a5d_row1_col2\" class=\"data row1 col2\" >0</td>\n",
       "      <td id=\"T_69a5d_row1_col3\" class=\"data row1 col3\" >0</td>\n",
       "      <td id=\"T_69a5d_row1_col4\" class=\"data row1 col4\" >0</td>\n",
       "      <td id=\"T_69a5d_row1_col5\" class=\"data row1 col5\" >0</td>\n",
       "      <td id=\"T_69a5d_row1_col6\" class=\"data row1 col6\" >104</td>\n",
       "      <td id=\"T_69a5d_row1_col7\" class=\"data row1 col7\" >253</td>\n",
       "      <td id=\"T_69a5d_row1_col8\" class=\"data row1 col8\" >253</td>\n",
       "      <td id=\"T_69a5d_row1_col9\" class=\"data row1 col9\" >253</td>\n",
       "      <td id=\"T_69a5d_row1_col10\" class=\"data row1 col10\" >255</td>\n",
       "      <td id=\"T_69a5d_row1_col11\" class=\"data row1 col11\" >253</td>\n",
       "      <td id=\"T_69a5d_row1_col12\" class=\"data row1 col12\" >253</td>\n",
       "      <td id=\"T_69a5d_row1_col13\" class=\"data row1 col13\" >253</td>\n",
       "      <td id=\"T_69a5d_row1_col14\" class=\"data row1 col14\" >218</td>\n",
       "      <td id=\"T_69a5d_row1_col15\" class=\"data row1 col15\" >32</td>\n",
       "      <td id=\"T_69a5d_row1_col16\" class=\"data row1 col16\" >0</td>\n",
       "      <td id=\"T_69a5d_row1_col17\" class=\"data row1 col17\" >0</td>\n",
       "    </tr>\n",
       "    <tr>\n",
       "      <th id=\"T_69a5d_level0_row2\" class=\"row_heading level0 row2\" >2</th>\n",
       "      <td id=\"T_69a5d_row2_col0\" class=\"data row2 col0\" >0</td>\n",
       "      <td id=\"T_69a5d_row2_col1\" class=\"data row2 col1\" >0</td>\n",
       "      <td id=\"T_69a5d_row2_col2\" class=\"data row2 col2\" >0</td>\n",
       "      <td id=\"T_69a5d_row2_col3\" class=\"data row2 col3\" >0</td>\n",
       "      <td id=\"T_69a5d_row2_col4\" class=\"data row2 col4\" >0</td>\n",
       "      <td id=\"T_69a5d_row2_col5\" class=\"data row2 col5\" >178</td>\n",
       "      <td id=\"T_69a5d_row2_col6\" class=\"data row2 col6\" >248</td>\n",
       "      <td id=\"T_69a5d_row2_col7\" class=\"data row2 col7\" >252</td>\n",
       "      <td id=\"T_69a5d_row2_col8\" class=\"data row2 col8\" >252</td>\n",
       "      <td id=\"T_69a5d_row2_col9\" class=\"data row2 col9\" >252</td>\n",
       "      <td id=\"T_69a5d_row2_col10\" class=\"data row2 col10\" >253</td>\n",
       "      <td id=\"T_69a5d_row2_col11\" class=\"data row2 col11\" >252</td>\n",
       "      <td id=\"T_69a5d_row2_col12\" class=\"data row2 col12\" >252</td>\n",
       "      <td id=\"T_69a5d_row2_col13\" class=\"data row2 col13\" >252</td>\n",
       "      <td id=\"T_69a5d_row2_col14\" class=\"data row2 col14\" >252</td>\n",
       "      <td id=\"T_69a5d_row2_col15\" class=\"data row2 col15\" >215</td>\n",
       "      <td id=\"T_69a5d_row2_col16\" class=\"data row2 col16\" >34</td>\n",
       "      <td id=\"T_69a5d_row2_col17\" class=\"data row2 col17\" >0</td>\n",
       "    </tr>\n",
       "    <tr>\n",
       "      <th id=\"T_69a5d_level0_row3\" class=\"row_heading level0 row3\" >3</th>\n",
       "      <td id=\"T_69a5d_row3_col0\" class=\"data row3 col0\" >0</td>\n",
       "      <td id=\"T_69a5d_row3_col1\" class=\"data row3 col1\" >0</td>\n",
       "      <td id=\"T_69a5d_row3_col2\" class=\"data row3 col2\" >0</td>\n",
       "      <td id=\"T_69a5d_row3_col3\" class=\"data row3 col3\" >0</td>\n",
       "      <td id=\"T_69a5d_row3_col4\" class=\"data row3 col4\" >0</td>\n",
       "      <td id=\"T_69a5d_row3_col5\" class=\"data row3 col5\" >186</td>\n",
       "      <td id=\"T_69a5d_row3_col6\" class=\"data row3 col6\" >252</td>\n",
       "      <td id=\"T_69a5d_row3_col7\" class=\"data row3 col7\" >252</td>\n",
       "      <td id=\"T_69a5d_row3_col8\" class=\"data row3 col8\" >252</td>\n",
       "      <td id=\"T_69a5d_row3_col9\" class=\"data row3 col9\" >252</td>\n",
       "      <td id=\"T_69a5d_row3_col10\" class=\"data row3 col10\" >253</td>\n",
       "      <td id=\"T_69a5d_row3_col11\" class=\"data row3 col11\" >252</td>\n",
       "      <td id=\"T_69a5d_row3_col12\" class=\"data row3 col12\" >252</td>\n",
       "      <td id=\"T_69a5d_row3_col13\" class=\"data row3 col13\" >252</td>\n",
       "      <td id=\"T_69a5d_row3_col14\" class=\"data row3 col14\" >252</td>\n",
       "      <td id=\"T_69a5d_row3_col15\" class=\"data row3 col15\" >252</td>\n",
       "      <td id=\"T_69a5d_row3_col16\" class=\"data row3 col16\" >79</td>\n",
       "      <td id=\"T_69a5d_row3_col17\" class=\"data row3 col17\" >0</td>\n",
       "    </tr>\n",
       "    <tr>\n",
       "      <th id=\"T_69a5d_level0_row4\" class=\"row_heading level0 row4\" >4</th>\n",
       "      <td id=\"T_69a5d_row4_col0\" class=\"data row4 col0\" >0</td>\n",
       "      <td id=\"T_69a5d_row4_col1\" class=\"data row4 col1\" >0</td>\n",
       "      <td id=\"T_69a5d_row4_col2\" class=\"data row4 col2\" >0</td>\n",
       "      <td id=\"T_69a5d_row4_col3\" class=\"data row4 col3\" >0</td>\n",
       "      <td id=\"T_69a5d_row4_col4\" class=\"data row4 col4\" >0</td>\n",
       "      <td id=\"T_69a5d_row4_col5\" class=\"data row4 col5\" >186</td>\n",
       "      <td id=\"T_69a5d_row4_col6\" class=\"data row4 col6\" >252</td>\n",
       "      <td id=\"T_69a5d_row4_col7\" class=\"data row4 col7\" >243</td>\n",
       "      <td id=\"T_69a5d_row4_col8\" class=\"data row4 col8\" >172</td>\n",
       "      <td id=\"T_69a5d_row4_col9\" class=\"data row4 col9\" >172</td>\n",
       "      <td id=\"T_69a5d_row4_col10\" class=\"data row4 col10\" >39</td>\n",
       "      <td id=\"T_69a5d_row4_col11\" class=\"data row4 col11\" >39</td>\n",
       "      <td id=\"T_69a5d_row4_col12\" class=\"data row4 col12\" >39</td>\n",
       "      <td id=\"T_69a5d_row4_col13\" class=\"data row4 col13\" >219</td>\n",
       "      <td id=\"T_69a5d_row4_col14\" class=\"data row4 col14\" >252</td>\n",
       "      <td id=\"T_69a5d_row4_col15\" class=\"data row4 col15\" >252</td>\n",
       "      <td id=\"T_69a5d_row4_col16\" class=\"data row4 col16\" >79</td>\n",
       "      <td id=\"T_69a5d_row4_col17\" class=\"data row4 col17\" >0</td>\n",
       "    </tr>\n",
       "    <tr>\n",
       "      <th id=\"T_69a5d_level0_row5\" class=\"row_heading level0 row5\" >5</th>\n",
       "      <td id=\"T_69a5d_row5_col0\" class=\"data row5 col0\" >0</td>\n",
       "      <td id=\"T_69a5d_row5_col1\" class=\"data row5 col1\" >0</td>\n",
       "      <td id=\"T_69a5d_row5_col2\" class=\"data row5 col2\" >0</td>\n",
       "      <td id=\"T_69a5d_row5_col3\" class=\"data row5 col3\" >0</td>\n",
       "      <td id=\"T_69a5d_row5_col4\" class=\"data row5 col4\" >0</td>\n",
       "      <td id=\"T_69a5d_row5_col5\" class=\"data row5 col5\" >39</td>\n",
       "      <td id=\"T_69a5d_row5_col6\" class=\"data row5 col6\" >53</td>\n",
       "      <td id=\"T_69a5d_row5_col7\" class=\"data row5 col7\" >47</td>\n",
       "      <td id=\"T_69a5d_row5_col8\" class=\"data row5 col8\" >0</td>\n",
       "      <td id=\"T_69a5d_row5_col9\" class=\"data row5 col9\" >0</td>\n",
       "      <td id=\"T_69a5d_row5_col10\" class=\"data row5 col10\" >0</td>\n",
       "      <td id=\"T_69a5d_row5_col11\" class=\"data row5 col11\" >29</td>\n",
       "      <td id=\"T_69a5d_row5_col12\" class=\"data row5 col12\" >117</td>\n",
       "      <td id=\"T_69a5d_row5_col13\" class=\"data row5 col13\" >244</td>\n",
       "      <td id=\"T_69a5d_row5_col14\" class=\"data row5 col14\" >252</td>\n",
       "      <td id=\"T_69a5d_row5_col15\" class=\"data row5 col15\" >252</td>\n",
       "      <td id=\"T_69a5d_row5_col16\" class=\"data row5 col16\" >79</td>\n",
       "      <td id=\"T_69a5d_row5_col17\" class=\"data row5 col17\" >0</td>\n",
       "    </tr>\n",
       "    <tr>\n",
       "      <th id=\"T_69a5d_level0_row6\" class=\"row_heading level0 row6\" >6</th>\n",
       "      <td id=\"T_69a5d_row6_col0\" class=\"data row6 col0\" >0</td>\n",
       "      <td id=\"T_69a5d_row6_col1\" class=\"data row6 col1\" >0</td>\n",
       "      <td id=\"T_69a5d_row6_col2\" class=\"data row6 col2\" >0</td>\n",
       "      <td id=\"T_69a5d_row6_col3\" class=\"data row6 col3\" >0</td>\n",
       "      <td id=\"T_69a5d_row6_col4\" class=\"data row6 col4\" >0</td>\n",
       "      <td id=\"T_69a5d_row6_col5\" class=\"data row6 col5\" >0</td>\n",
       "      <td id=\"T_69a5d_row6_col6\" class=\"data row6 col6\" >0</td>\n",
       "      <td id=\"T_69a5d_row6_col7\" class=\"data row6 col7\" >0</td>\n",
       "      <td id=\"T_69a5d_row6_col8\" class=\"data row6 col8\" >0</td>\n",
       "      <td id=\"T_69a5d_row6_col9\" class=\"data row6 col9\" >0</td>\n",
       "      <td id=\"T_69a5d_row6_col10\" class=\"data row6 col10\" >54</td>\n",
       "      <td id=\"T_69a5d_row6_col11\" class=\"data row6 col11\" >208</td>\n",
       "      <td id=\"T_69a5d_row6_col12\" class=\"data row6 col12\" >252</td>\n",
       "      <td id=\"T_69a5d_row6_col13\" class=\"data row6 col13\" >252</td>\n",
       "      <td id=\"T_69a5d_row6_col14\" class=\"data row6 col14\" >252</td>\n",
       "      <td id=\"T_69a5d_row6_col15\" class=\"data row6 col15\" >184</td>\n",
       "      <td id=\"T_69a5d_row6_col16\" class=\"data row6 col16\" >21</td>\n",
       "      <td id=\"T_69a5d_row6_col17\" class=\"data row6 col17\" >0</td>\n",
       "    </tr>\n",
       "    <tr>\n",
       "      <th id=\"T_69a5d_level0_row7\" class=\"row_heading level0 row7\" >7</th>\n",
       "      <td id=\"T_69a5d_row7_col0\" class=\"data row7 col0\" >0</td>\n",
       "      <td id=\"T_69a5d_row7_col1\" class=\"data row7 col1\" >0</td>\n",
       "      <td id=\"T_69a5d_row7_col2\" class=\"data row7 col2\" >0</td>\n",
       "      <td id=\"T_69a5d_row7_col3\" class=\"data row7 col3\" >0</td>\n",
       "      <td id=\"T_69a5d_row7_col4\" class=\"data row7 col4\" >0</td>\n",
       "      <td id=\"T_69a5d_row7_col5\" class=\"data row7 col5\" >0</td>\n",
       "      <td id=\"T_69a5d_row7_col6\" class=\"data row7 col6\" >0</td>\n",
       "      <td id=\"T_69a5d_row7_col7\" class=\"data row7 col7\" >0</td>\n",
       "      <td id=\"T_69a5d_row7_col8\" class=\"data row7 col8\" >3</td>\n",
       "      <td id=\"T_69a5d_row7_col9\" class=\"data row7 col9\" >41</td>\n",
       "      <td id=\"T_69a5d_row7_col10\" class=\"data row7 col10\" >253</td>\n",
       "      <td id=\"T_69a5d_row7_col11\" class=\"data row7 col11\" >252</td>\n",
       "      <td id=\"T_69a5d_row7_col12\" class=\"data row7 col12\" >252</td>\n",
       "      <td id=\"T_69a5d_row7_col13\" class=\"data row7 col13\" >252</td>\n",
       "      <td id=\"T_69a5d_row7_col14\" class=\"data row7 col14\" >206</td>\n",
       "      <td id=\"T_69a5d_row7_col15\" class=\"data row7 col15\" >21</td>\n",
       "      <td id=\"T_69a5d_row7_col16\" class=\"data row7 col16\" >0</td>\n",
       "      <td id=\"T_69a5d_row7_col17\" class=\"data row7 col17\" >0</td>\n",
       "    </tr>\n",
       "    <tr>\n",
       "      <th id=\"T_69a5d_level0_row8\" class=\"row_heading level0 row8\" >8</th>\n",
       "      <td id=\"T_69a5d_row8_col0\" class=\"data row8 col0\" >0</td>\n",
       "      <td id=\"T_69a5d_row8_col1\" class=\"data row8 col1\" >0</td>\n",
       "      <td id=\"T_69a5d_row8_col2\" class=\"data row8 col2\" >0</td>\n",
       "      <td id=\"T_69a5d_row8_col3\" class=\"data row8 col3\" >0</td>\n",
       "      <td id=\"T_69a5d_row8_col4\" class=\"data row8 col4\" >0</td>\n",
       "      <td id=\"T_69a5d_row8_col5\" class=\"data row8 col5\" >0</td>\n",
       "      <td id=\"T_69a5d_row8_col6\" class=\"data row8 col6\" >5</td>\n",
       "      <td id=\"T_69a5d_row8_col7\" class=\"data row8 col7\" >41</td>\n",
       "      <td id=\"T_69a5d_row8_col8\" class=\"data row8 col8\" >165</td>\n",
       "      <td id=\"T_69a5d_row8_col9\" class=\"data row8 col9\" >252</td>\n",
       "      <td id=\"T_69a5d_row8_col10\" class=\"data row8 col10\" >253</td>\n",
       "      <td id=\"T_69a5d_row8_col11\" class=\"data row8 col11\" >252</td>\n",
       "      <td id=\"T_69a5d_row8_col12\" class=\"data row8 col12\" >252</td>\n",
       "      <td id=\"T_69a5d_row8_col13\" class=\"data row8 col13\" >252</td>\n",
       "      <td id=\"T_69a5d_row8_col14\" class=\"data row8 col14\" >227</td>\n",
       "      <td id=\"T_69a5d_row8_col15\" class=\"data row8 col15\" >131</td>\n",
       "      <td id=\"T_69a5d_row8_col16\" class=\"data row8 col16\" >9</td>\n",
       "      <td id=\"T_69a5d_row8_col17\" class=\"data row8 col17\" >0</td>\n",
       "    </tr>\n",
       "    <tr>\n",
       "      <th id=\"T_69a5d_level0_row9\" class=\"row_heading level0 row9\" >9</th>\n",
       "      <td id=\"T_69a5d_row9_col0\" class=\"data row9 col0\" >0</td>\n",
       "      <td id=\"T_69a5d_row9_col1\" class=\"data row9 col1\" >0</td>\n",
       "      <td id=\"T_69a5d_row9_col2\" class=\"data row9 col2\" >0</td>\n",
       "      <td id=\"T_69a5d_row9_col3\" class=\"data row9 col3\" >0</td>\n",
       "      <td id=\"T_69a5d_row9_col4\" class=\"data row9 col4\" >0</td>\n",
       "      <td id=\"T_69a5d_row9_col5\" class=\"data row9 col5\" >109</td>\n",
       "      <td id=\"T_69a5d_row9_col6\" class=\"data row9 col6\" >163</td>\n",
       "      <td id=\"T_69a5d_row9_col7\" class=\"data row9 col7\" >252</td>\n",
       "      <td id=\"T_69a5d_row9_col8\" class=\"data row9 col8\" >252</td>\n",
       "      <td id=\"T_69a5d_row9_col9\" class=\"data row9 col9\" >252</td>\n",
       "      <td id=\"T_69a5d_row9_col10\" class=\"data row9 col10\" >253</td>\n",
       "      <td id=\"T_69a5d_row9_col11\" class=\"data row9 col11\" >252</td>\n",
       "      <td id=\"T_69a5d_row9_col12\" class=\"data row9 col12\" >252</td>\n",
       "      <td id=\"T_69a5d_row9_col13\" class=\"data row9 col13\" >252</td>\n",
       "      <td id=\"T_69a5d_row9_col14\" class=\"data row9 col14\" >252</td>\n",
       "      <td id=\"T_69a5d_row9_col15\" class=\"data row9 col15\" >252</td>\n",
       "      <td id=\"T_69a5d_row9_col16\" class=\"data row9 col16\" >156</td>\n",
       "      <td id=\"T_69a5d_row9_col17\" class=\"data row9 col17\" >0</td>\n",
       "    </tr>\n",
       "    <tr>\n",
       "      <th id=\"T_69a5d_level0_row10\" class=\"row_heading level0 row10\" >10</th>\n",
       "      <td id=\"T_69a5d_row10_col0\" class=\"data row10 col0\" >0</td>\n",
       "      <td id=\"T_69a5d_row10_col1\" class=\"data row10 col1\" >0</td>\n",
       "      <td id=\"T_69a5d_row10_col2\" class=\"data row10 col2\" >0</td>\n",
       "      <td id=\"T_69a5d_row10_col3\" class=\"data row10 col3\" >0</td>\n",
       "      <td id=\"T_69a5d_row10_col4\" class=\"data row10 col4\" >0</td>\n",
       "      <td id=\"T_69a5d_row10_col5\" class=\"data row10 col5\" >186</td>\n",
       "      <td id=\"T_69a5d_row10_col6\" class=\"data row10 col6\" >252</td>\n",
       "      <td id=\"T_69a5d_row10_col7\" class=\"data row10 col7\" >252</td>\n",
       "      <td id=\"T_69a5d_row10_col8\" class=\"data row10 col8\" >252</td>\n",
       "      <td id=\"T_69a5d_row10_col9\" class=\"data row10 col9\" >252</td>\n",
       "      <td id=\"T_69a5d_row10_col10\" class=\"data row10 col10\" >253</td>\n",
       "      <td id=\"T_69a5d_row10_col11\" class=\"data row10 col11\" >252</td>\n",
       "      <td id=\"T_69a5d_row10_col12\" class=\"data row10 col12\" >252</td>\n",
       "      <td id=\"T_69a5d_row10_col13\" class=\"data row10 col13\" >139</td>\n",
       "      <td id=\"T_69a5d_row10_col14\" class=\"data row10 col14\" >224</td>\n",
       "      <td id=\"T_69a5d_row10_col15\" class=\"data row10 col15\" >252</td>\n",
       "      <td id=\"T_69a5d_row10_col16\" class=\"data row10 col16\" >233</td>\n",
       "      <td id=\"T_69a5d_row10_col17\" class=\"data row10 col17\" >49</td>\n",
       "    </tr>\n",
       "  </tbody>\n",
       "</table>\n"
      ],
      "text/plain": [
       "<pandas.io.formats.style.Styler at 0x7ff2e4e2eb90>"
      ]
     },
     "execution_count": 17,
     "metadata": {},
     "output_type": "execute_result"
    }
   ],
   "source": [
    "im3_t = tensor(im3)\n",
    "df = pd.DataFrame(im3_t[4:15,4:22])\n",
    "df.style.set_properties(**{'font-size':'6pt'}).background_gradient('Greys')"
   ]
  },
  {
   "cell_type": "code",
   "execution_count": 18,
   "id": "32428d96-0d6d-4bb2-aa70-d98863afe4f3",
   "metadata": {},
   "outputs": [],
   "source": [
    "seven_tensors = [tensor(Image.open(o)) for o in sevens]\n",
    "three_tensors = [tensor(Image.open(o)) for o in threes]"
   ]
  },
  {
   "cell_type": "code",
   "execution_count": 19,
   "id": "37df4eeb-71c4-4cd5-a7c8-011838bad449",
   "metadata": {},
   "outputs": [
    {
     "data": {
      "text/plain": [
       "(6265, 6131)"
      ]
     },
     "execution_count": 19,
     "metadata": {},
     "output_type": "execute_result"
    }
   ],
   "source": [
    "len(seven_tensors), len(three_tensors)"
   ]
  },
  {
   "cell_type": "code",
   "execution_count": 20,
   "id": "9f0f7fa3-9817-4a15-ae5c-e85814743261",
   "metadata": {},
   "outputs": [
    {
     "data": {
      "text/plain": [
       "<AxesSubplot:>"
      ]
     },
     "execution_count": 20,
     "metadata": {},
     "output_type": "execute_result"
    },
    {
     "data": {
      "image/png": "[encoded data removed]",
      "text/plain": [
       "<Figure size 72x72 with 1 Axes>"
      ]
     },
     "metadata": {
      "needs_background": "light"
     },
     "output_type": "display_data"
    },
    {
     "data": {
      "image/png": "[encoded data removed]",
      "text/plain": [
       "<Figure size 72x72 with 1 Axes>"
      ]
     },
     "metadata": {
      "needs_background": "light"
     },
     "output_type": "display_data"
    }
   ],
   "source": [
    "show_image(seven_tensors[1])\n",
    "show_image(three_tensors[13])\n",
    "# Show image is part of fastAI"
   ]
  },
  {
   "cell_type": "code",
   "execution_count": 21,
   "id": "e2dbb7ea-b498-4bd5-8ec3-b82a2562782b",
   "metadata": {},
   "outputs": [],
   "source": [
    "stacked_threes = torch.stack(three_tensors).float()/255\n",
    "stacked_sevens = torch.stack(seven_tensors).float()/255"
   ]
  },
  {
   "cell_type": "code",
   "execution_count": 22,
   "id": "df27c312-4233-41e9-9c53-92068c85c0a9",
   "metadata": {},
   "outputs": [
    {
     "data": {
      "text/plain": [
       "torch.Size([6265, 28, 28])"
      ]
     },
     "execution_count": 22,
     "metadata": {},
     "output_type": "execute_result"
    }
   ],
   "source": [
    "stacked_sevens.shape\n"
   ]
  },
  {
   "cell_type": "code",
   "execution_count": 23,
   "id": "d4d95b58-32a6-475f-9b50-58240961829f",
   "metadata": {},
   "outputs": [],
   "source": [
    "# Rank 3 Tensor, has 3 axis.\n",
    "# Axis is same has dimensions (pytorch is Axis)\n",
    "# Shape is is the list containing the size of the axis"
   ]
  },
  {
   "cell_type": "code",
   "execution_count": 24,
   "id": "19c8d201-bf07-48b3-b4f1-b1968d50ad33",
   "metadata": {},
   "outputs": [
    {
     "data": {
      "text/plain": [
       "torch.Size([28, 28])"
      ]
     },
     "execution_count": 24,
     "metadata": {},
     "output_type": "execute_result"
    }
   ],
   "source": [
    "mean3 = stacked_threes.mean(0)\n",
    "mean7 = stacked_sevens.mean(0)\n",
    "# Take mean over Axis 0 (which is over all the images, back to 28x28 tensor)\n",
    "mean3.shape"
   ]
  },
  {
   "cell_type": "code",
   "execution_count": 25,
   "id": "f5628532-2fc1-45a5-895b-1851b94c63ee",
   "metadata": {},
   "outputs": [
    {
     "data": {
      "text/plain": [
       "<AxesSubplot:>"
      ]
     },
     "execution_count": 25,
     "metadata": {},
     "output_type": "execute_result"
    },
    {
     "data": {
      "image/png": "[encoded data removed]",
      "text/plain": [
       "<Figure size 72x72 with 1 Axes>"
      ]
     },
     "metadata": {
      "needs_background": "light"
     },
     "output_type": "display_data"
    }
   ],
   "source": [
    "show_image(mean7)"
   ]
  },
  {
   "cell_type": "code",
   "execution_count": 26,
   "id": "8c9f2427-ede7-4f1f-9d76-3dc733becbf3",
   "metadata": {},
   "outputs": [
    {
     "data": {
      "text/plain": [
       "<AxesSubplot:>"
      ]
     },
     "execution_count": 26,
     "metadata": {},
     "output_type": "execute_result"
    },
    {
     "data": {
      "image/png": "[encoded data removed]",
      "text/plain": [
       "<Figure size 72x72 with 1 Axes>"
      ]
     },
     "metadata": {
      "needs_background": "light"
     },
     "output_type": "display_data"
    }
   ],
   "source": [
    "show_image(mean3)"
   ]
  },
  {
   "cell_type": "code",
   "execution_count": 27,
   "id": "eb0a1ee8-55db-407d-9865-22a8ec87a673",
   "metadata": {},
   "outputs": [
    {
     "data": {
      "text/plain": [
       "<AxesSubplot:>"
      ]
     },
     "execution_count": 27,
     "metadata": {},
     "output_type": "execute_result"
    },
    {
     "data": {
      "image/png": "[encoded data removed]",
      "text/plain": [
       "<Figure size 72x72 with 1 Axes>"
      ]
     },
     "metadata": {
      "needs_background": "light"
     },
     "output_type": "display_data"
    }
   ],
   "source": [
    "a_3 = stacked_threes[5]\n",
    "show_image(a_3)"
   ]
  },
  {
   "cell_type": "markdown",
   "id": "a0af93de-eedc-47c7-b210-385f51c4a799",
   "metadata": {},
   "source": [
    "### L1 Norm : Mean absolute difference\n"
   ]
  },
  {
   "cell_type": "code",
   "execution_count": 28,
   "id": "72f97bc4-bf83-4996-8954-9c3d1cbc1402",
   "metadata": {},
   "outputs": [
    {
     "data": {
      "text/plain": [
       "tensor(0.1700)"
      ]
     },
     "execution_count": 28,
     "metadata": {},
     "output_type": "execute_result"
    }
   ],
   "source": [
    "dist_3_abs = (a_3 - mean3).abs().mean()\n",
    "dist_3_abs"
   ]
  },
  {
   "cell_type": "markdown",
   "id": "550e67a7-fb20-4b65-af22-aaaeaba7112d",
   "metadata": {},
   "source": [
    "### L2 Norm: Root mean square error"
   ]
  },
  {
   "cell_type": "code",
   "execution_count": 29,
   "id": "20d2390e-ddc8-4e09-b102-a056153d8c39",
   "metadata": {},
   "outputs": [
    {
     "data": {
      "text/plain": [
       "tensor(0.3016)"
      ]
     },
     "execution_count": 29,
     "metadata": {},
     "output_type": "execute_result"
    }
   ],
   "source": [
    "dist_3_sqr = ((a_3 - mean3)**2).mean().sqrt()\n",
    "dist_3_sqr"
   ]
  },
  {
   "cell_type": "code",
   "execution_count": 30,
   "id": "e3aa1f33-25ab-4373-9bac-ea634bc0accd",
   "metadata": {},
   "outputs": [],
   "source": [
    "def diffs(image, image_mean):\n",
    "    l_1_norm = (image - image_mean).abs().mean()\n",
    "    l_2_norm = ((image - image_mean)**2).mean().sqrt()\n",
    "    return (l_1_norm, l_2_norm)"
   ]
  },
  {
   "cell_type": "code",
   "execution_count": 31,
   "id": "5bb67f06-c22f-4023-a1b5-b2d5278c7414",
   "metadata": {},
   "outputs": [
    {
     "data": {
      "text/plain": [
       "(tensor(0.1700), tensor(0.3016))"
      ]
     },
     "execution_count": 31,
     "metadata": {},
     "output_type": "execute_result"
    }
   ],
   "source": [
    "diffs(a_3, mean3)"
   ]
  },
  {
   "cell_type": "code",
   "execution_count": 32,
   "id": "51b5faea-4f82-42f7-b758-4b7f8ce63e3f",
   "metadata": {},
   "outputs": [
    {
     "data": {
      "text/plain": [
       "(tensor(0.2198), tensor(0.3829))"
      ]
     },
     "execution_count": 32,
     "metadata": {},
     "output_type": "execute_result"
    }
   ],
   "source": [
    "diffs(a_3, mean7)"
   ]
  },
  {
   "cell_type": "markdown",
   "id": "017ba8bb-2302-4d8d-9353-b9c2b465057c",
   "metadata": {},
   "source": [
    "## Using PyTorch for L1 and L2 norm"
   ]
  },
  {
   "cell_type": "code",
   "execution_count": 33,
   "id": "a17a3ce0-ce7e-4b23-b9dc-cc60b2765279",
   "metadata": {},
   "outputs": [
    {
     "data": {
      "text/plain": [
       "(tensor(0.1700), tensor(0.3016))"
      ]
     },
     "execution_count": 33,
     "metadata": {},
     "output_type": "execute_result"
    }
   ],
   "source": [
    "F.l1_loss(a_3, mean3), F.mse_loss(a_3, mean3).sqrt()"
   ]
  },
  {
   "cell_type": "markdown",
   "id": "b99e25b5-95a7-4383-9335-16dc0b984418",
   "metadata": {},
   "source": [
    "## Validation"
   ]
  },
  {
   "cell_type": "code",
   "execution_count": 34,
   "id": "2d70417e-ec01-4de9-94c9-941d2d93ec16",
   "metadata": {},
   "outputs": [],
   "source": [
    "valid_3_tens = torch.stack([tensor(Image.open(o)) for o in (path/'valid'/'3').ls().sorted()])\n",
    "valid_7_tens = torch.stack([tensor(Image.open(o)) for o in (path/'valid'/'7').ls().sorted()])"
   ]
  },
  {
   "cell_type": "code",
   "execution_count": 35,
   "id": "7e02d5a8-797b-47c7-8839-7e43243232ad",
   "metadata": {},
   "outputs": [],
   "source": [
    "valid_3_tens = valid_3_tens.float()/255\n",
    "valid_7_tens = valid_7_tens.float()/225\n"
   ]
  },
  {
   "cell_type": "code",
   "execution_count": 36,
   "id": "b26e2f46-18ab-4935-90f0-64e40139eedf",
   "metadata": {},
   "outputs": [
    {
     "data": {
      "text/plain": [
       "(torch.Size([1010, 28, 28]), torch.Size([1028, 28, 28]))"
      ]
     },
     "execution_count": 36,
     "metadata": {},
     "output_type": "execute_result"
    }
   ],
   "source": [
    "valid_3_tens.shape, valid_7_tens.shape"
   ]
  },
  {
   "cell_type": "code",
   "execution_count": 37,
   "id": "97d570b9-d3b8-4ac0-870c-f9cc55b54d4d",
   "metadata": {},
   "outputs": [],
   "source": [
    "def mnist_distance(a,b): return (a-b).abs().mean((-1,-2))"
   ]
  },
  {
   "cell_type": "code",
   "execution_count": 38,
   "id": "dbaa5f36-fe10-4db7-9aa7-82734af39ea7",
   "metadata": {},
   "outputs": [
    {
     "data": {
      "text/plain": [
       "tensor(0.1700)"
      ]
     },
     "execution_count": 38,
     "metadata": {},
     "output_type": "execute_result"
    }
   ],
   "source": [
    "mnist_distance(a_3, mean3)"
   ]
  },
  {
   "cell_type": "code",
   "execution_count": 39,
   "id": "96c1ce99-2ecc-4ff6-8c0a-cd2287f6acc9",
   "metadata": {},
   "outputs": [
    {
     "data": {
      "text/plain": [
       "torch.Size([1010])"
      ]
     },
     "execution_count": 39,
     "metadata": {},
     "output_type": "execute_result"
    }
   ],
   "source": [
    "mnist_distance(valid_3_tens, mean3).shape"
   ]
  },
  {
   "cell_type": "code",
   "execution_count": 40,
   "id": "89718a5e-f9a2-4719-8345-29b2f2e7908f",
   "metadata": {},
   "outputs": [],
   "source": [
    "def is_3(x): return mnist_distance(x, mean3) < mnist_distance(x, mean7)"
   ]
  },
  {
   "cell_type": "code",
   "execution_count": 41,
   "id": "c0a3dcbe-994b-4c75-b202-663b72046703",
   "metadata": {},
   "outputs": [
    {
     "data": {
      "text/plain": [
       "(tensor(False), tensor(True))"
      ]
     },
     "execution_count": 41,
     "metadata": {},
     "output_type": "execute_result"
    }
   ],
   "source": [
    "is_3(stacked_sevens[0]), is_3(stacked_threes[0])"
   ]
  },
  {
   "cell_type": "code",
   "execution_count": 42,
   "id": "6f83ca5b-f582-4d34-a82b-d58240e892ce",
   "metadata": {},
   "outputs": [
    {
     "data": {
      "text/plain": [
       "(tensor(0.9168), tensor(0.9864))"
      ]
     },
     "execution_count": 42,
     "metadata": {},
     "output_type": "execute_result"
    }
   ],
   "source": [
    "accuracy_3s = is_3(valid_3_tens).float().mean()\n",
    "accuracy_7s = 1 - is_3(valid_7_tens).float().mean()\n",
    "accuracy_3s, accuracy_7s"
   ]
  },
  {
   "cell_type": "markdown",
   "id": "05b7029e-24d9-4f5c-b383-e2b06e83da1a",
   "metadata": {},
   "source": [
    "## SGD"
   ]
  },
  {
   "cell_type": "code",
   "execution_count": 43,
   "id": "d5dd1804-908e-4653-85a5-0cb8159c1790",
   "metadata": {},
   "outputs": [],
   "source": [
    "def f(x): return x**2\n",
    "## Example function\n"
   ]
  },
  {
   "cell_type": "code",
   "execution_count": 44,
   "id": "07fdbc8d-c32f-4cda-b959-243d8de5bed6",
   "metadata": {},
   "outputs": [
    {
     "data": {
      "image/png": "[encoded data removed]",
      "text/plain": [
       "<Figure size 432x288 with 1 Axes>"
      ]
     },
     "metadata": {
      "needs_background": "light"
     },
     "output_type": "display_data"
    }
   ],
   "source": [
    "## FastAi method\n",
    "plot_function(f, 'x', 'x**2')"
   ]
  },
  {
   "cell_type": "code",
   "execution_count": 45,
   "id": "59e96a1d-01c9-4e4f-9db9-517feeddb9eb",
   "metadata": {},
   "outputs": [],
   "source": [
    "def f_prime(x): return 2*x"
   ]
  },
  {
   "cell_type": "code",
   "execution_count": 46,
   "id": "acd87bba-6fbc-4c3b-a728-3f970101bf15",
   "metadata": {},
   "outputs": [
    {
     "data": {
      "image/png": "[encoded data removed]",
      "text/plain": [
       "<Figure size 432x288 with 1 Axes>"
      ]
     },
     "metadata": {
      "needs_background": "light"
     },
     "output_type": "display_data"
    }
   ],
   "source": [
    "plot_function(f_prime, 'x', '2*x')"
   ]
  },
  {
   "cell_type": "code",
   "execution_count": 47,
   "id": "a84c7d18-9e40-47d5-a765-f7e7f4eb97bd",
   "metadata": {},
   "outputs": [],
   "source": [
    "## Gradient\n",
    "## _ at the end of method is inplace operation\n",
    "## this method tells pytorch that we need to calculate\n",
    "## gradient of this variable \n",
    "xt = tensor(3.).requires_grad_()"
   ]
  },
  {
   "cell_type": "code",
   "execution_count": 48,
   "id": "d75d70ca-bea7-47c5-8b1f-14ece62875d0",
   "metadata": {},
   "outputs": [
    {
     "data": {
      "text/plain": [
       "tensor(9., grad_fn=<PowBackward0>)"
      ]
     },
     "execution_count": 48,
     "metadata": {},
     "output_type": "execute_result"
    }
   ],
   "source": [
    "## here we pass xt (which is value 3 from above) to the\n",
    "## square method and get back value 9, and it's gradient\n",
    "yt = f(xt)\n",
    "yt"
   ]
  },
  {
   "cell_type": "code",
   "execution_count": 49,
   "id": "1f0fc7b1-2b60-47fe-91e4-6ac52e6e5608",
   "metadata": {},
   "outputs": [],
   "source": [
    "## BACKWARD, back propogation, it's derevitive.\n",
    "yt.backward()"
   ]
  },
  {
   "cell_type": "code",
   "execution_count": 50,
   "id": "8397ba94-19ec-4df1-889b-6ab45c519cdd",
   "metadata": {},
   "outputs": [
    {
     "data": {
      "text/plain": [
       "tensor(6.)"
      ]
     },
     "execution_count": 50,
     "metadata": {},
     "output_type": "execute_result"
    }
   ],
   "source": [
    "## We got the gradient at x = 3 \n",
    "xt.grad"
   ]
  },
  {
   "cell_type": "markdown",
   "id": "984cb776-35b0-4536-9944-540f8475be09",
   "metadata": {},
   "source": [
    "### Rank 1 tensor"
   ]
  },
  {
   "cell_type": "code",
   "execution_count": 51,
   "id": "74a9be8b-9f12-40e8-b75d-d0cd64912ea6",
   "metadata": {},
   "outputs": [
    {
     "data": {
      "text/plain": [
       "tensor([ 3.,  4., 10.], requires_grad=True)"
      ]
     },
     "execution_count": 51,
     "metadata": {},
     "output_type": "execute_result"
    }
   ],
   "source": [
    "xt = tensor([3., 4., 10.]).requires_grad_()\n",
    "xt"
   ]
  },
  {
   "cell_type": "code",
   "execution_count": 52,
   "id": "998fdb2b-a26f-4ed4-a54d-d9686c4a714a",
   "metadata": {},
   "outputs": [],
   "source": [
    "def f(x): return (x**2).sum()"
   ]
  },
  {
   "cell_type": "code",
   "execution_count": 53,
   "id": "9b876589-f178-48e5-84a0-25497e164912",
   "metadata": {},
   "outputs": [
    {
     "data": {
      "text/plain": [
       "tensor(125., grad_fn=<SumBackward0>)"
      ]
     },
     "execution_count": 53,
     "metadata": {},
     "output_type": "execute_result"
    }
   ],
   "source": [
    "yt = f(xt)\n",
    "yt"
   ]
  },
  {
   "cell_type": "code",
   "execution_count": 54,
   "id": "87174917-7aac-499f-9a91-4a451d405db8",
   "metadata": {},
   "outputs": [
    {
     "data": {
      "text/plain": [
       "tensor([ 6.,  8., 20.])"
      ]
     },
     "execution_count": 54,
     "metadata": {},
     "output_type": "execute_result"
    }
   ],
   "source": [
    "## Call derivative\n",
    "yt.backward()\n",
    "## Get the new gradient\n",
    "xt.grad"
   ]
  },
  {
   "cell_type": "markdown",
   "id": "3fda3c0f-17a3-41b4-bbdc-7418660161ed",
   "metadata": {},
   "source": [
    "## Stepping with learning rate"
   ]
  },
  {
   "cell_type": "raw",
   "id": "a10746ec-9df4-4de0-be53-449a9c202abe",
   "metadata": {},
   "source": [
    "w - gradient(w)*lr \n",
    "where w are the parameters we have\n",
    "gradient(w) is the gradient (slope) of the line for the loss function at w,\n",
    "and lr is learning rate (the step size multiplier)\n",
    "\n",
    "Very important to pick correct learning rate"
   ]
  },
  {
   "cell_type": "markdown",
   "id": "580a58d3-14d8-400f-ba87-328a28b9a315",
   "metadata": {},
   "source": [
    "## End of end example of Grad Desc."
   ]
  },
  {
   "cell_type": "code",
   "execution_count": 55,
   "id": "0e8c4aa9-98d2-40ea-b2d2-2e7f33542d91",
   "metadata": {},
   "outputs": [
    {
     "data": {
      "text/plain": [
       "tensor([ 0.,  1.,  2.,  3.,  4.,  5.,  6.,  7.,  8.,  9., 10., 11., 12., 13., 14., 15., 16., 17., 18., 19.])"
      ]
     },
     "execution_count": 55,
     "metadata": {},
     "output_type": "execute_result"
    }
   ],
   "source": [
    "time = torch.arange(0, 20).float(); time"
   ]
  },
  {
   "cell_type": "code",
   "execution_count": 56,
   "id": "f62b1c22-3c63-4b50-b164-f8f2d7a07106",
   "metadata": {},
   "outputs": [],
   "source": [
    "speed = torch.randn(20)*2 + 0.75*(time-9.5)**2 + 1"
   ]
  },
  {
   "cell_type": "code",
   "execution_count": 57,
   "id": "c5336e21-6dc5-4407-9dfe-b92b857659e6",
   "metadata": {},
   "outputs": [
    {
     "data": {
      "text/plain": [
       "<matplotlib.collections.PathCollection at 0x7ff2e42739d0>"
      ]
     },
     "execution_count": 57,
     "metadata": {},
     "output_type": "execute_result"
    },
    {
     "data": {
      "image/png": "[encoded data removed]",
      "text/plain": [
       "<Figure size 432x288 with 1 Axes>"
      ]
     },
     "metadata": {
      "needs_background": "light"
     },
     "output_type": "display_data"
    }
   ],
   "source": [
    "plt.scatter(time, speed)"
   ]
  },
  {
   "cell_type": "code",
   "execution_count": 58,
   "id": "8ffe65a8-e8f2-4762-b856-00f006920a03",
   "metadata": {},
   "outputs": [],
   "source": [
    "## We assume that the relationship of time and speed \n",
    "## is Quadratic , thus in form of ax^2 + bx + c\n",
    "## where x is time t\n",
    "def f(t, params):\n",
    "    a, b, c = params\n",
    "    return a*(t**2) + (b*t) + c"
   ]
  },
  {
   "cell_type": "code",
   "execution_count": 59,
   "id": "f3df5321-0b4f-49b6-bf6c-78ee9dcb85a4",
   "metadata": {},
   "outputs": [],
   "source": [
    "## loss function\n",
    "def mse(pred, target):\n",
    "    return ((pred-target)**2).mean()"
   ]
  },
  {
   "cell_type": "code",
   "execution_count": 60,
   "id": "71882fb8-daae-48ec-aab1-1f07cc6ba4ae",
   "metadata": {},
   "outputs": [],
   "source": [
    "# Initialize random values for a,b,c\n",
    "params = torch.randn(3).requires_grad_()"
   ]
  },
  {
   "cell_type": "code",
   "execution_count": 61,
   "id": "a4fad42a-72a7-406f-a6c6-66374d4c83bd",
   "metadata": {},
   "outputs": [],
   "source": [
    "preds = f(time, params)"
   ]
  },
  {
   "cell_type": "code",
   "execution_count": 62,
   "id": "445c3762-61ba-438a-8e17-bcd6291de788",
   "metadata": {},
   "outputs": [],
   "source": [
    "def show_preds(preds, ax=None):\n",
    "    if ax is None: ax=plt.subplots()[1]\n",
    "    ax.scatter(time, speed)\n",
    "    ax.scatter(time, to_np(preds), color='red')\n",
    "    ax.set_ylim(-300, 100)"
   ]
  },
  {
   "cell_type": "code",
   "execution_count": 63,
   "id": "7080493d-abd7-4be1-ad98-bb54738692b6",
   "metadata": {},
   "outputs": [
    {
     "data": {
      "image/png": "[encoded data removed]",
      "text/plain": [
       "<Figure size 432x288 with 1 Axes>"
      ]
     },
     "metadata": {
      "needs_background": "light"
     },
     "output_type": "display_data"
    }
   ],
   "source": [
    "show_preds(preds)"
   ]
  },
  {
   "cell_type": "code",
   "execution_count": 64,
   "id": "3fe40865-352b-416c-9a9f-dea30793c5a8",
   "metadata": {},
   "outputs": [
    {
     "data": {
      "text/plain": [
       "tensor(25798.2539, grad_fn=<MeanBackward0>)"
      ]
     },
     "execution_count": 64,
     "metadata": {},
     "output_type": "execute_result"
    }
   ],
   "source": [
    "loss = mse(preds, speed)\n",
    "loss"
   ]
  },
  {
   "cell_type": "code",
   "execution_count": 65,
   "id": "3ef8c9ac-965f-4da4-88fc-e37f889ad8c4",
   "metadata": {},
   "outputs": [
    {
     "data": {
      "text/plain": [
       "tensor([-53193.9297,  -3418.8748,   -253.4585])"
      ]
     },
     "execution_count": 65,
     "metadata": {},
     "output_type": "execute_result"
    }
   ],
   "source": [
    "## Do the derivative\n",
    "loss.backward()\n",
    "## Plug in the params in the derivative of f\n",
    "params.grad"
   ]
  },
  {
   "cell_type": "code",
   "execution_count": 66,
   "id": "aff0d9ae-6d69-457e-a51e-922e8265e086",
   "metadata": {},
   "outputs": [],
   "source": [
    "## pick a learning rate of 1e^-5 0.00001\n",
    "lr = 1e-5\n"
   ]
  },
  {
   "cell_type": "code",
   "execution_count": 67,
   "id": "d125668d-773a-41e0-a588-736018a1f7a8",
   "metadata": {},
   "outputs": [
    {
     "data": {
      "text/plain": [
       "tensor([-0.7658, -0.7506,  1.3525], requires_grad=True)"
      ]
     },
     "execution_count": 67,
     "metadata": {},
     "output_type": "execute_result"
    }
   ],
   "source": [
    "params"
   ]
  },
  {
   "cell_type": "code",
   "execution_count": 68,
   "id": "6abadd3a-7248-4caf-8ff6-a3148fc15973",
   "metadata": {},
   "outputs": [],
   "source": [
    "## Adjust the params now based on gradient and learning_rate\n",
    "## use params.data not params directly otherwise it will\n",
    "## calculate grad at that step.\n",
    "params.data -= params.data - params.grad*lr\n",
    "params.grad = None"
   ]
  },
  {
   "cell_type": "code",
   "execution_count": 69,
   "id": "37d5e047-5de5-47c4-8d6e-7ee83206c06c",
   "metadata": {},
   "outputs": [],
   "source": [
    "preds = f(time, params)"
   ]
  },
  {
   "cell_type": "code",
   "execution_count": 70,
   "id": "43187f2b-5373-41b3-ae56-ee18053e5642",
   "metadata": {},
   "outputs": [
    {
     "data": {
      "image/png": "[encoded data removed]",
      "text/plain": [
       "<Figure size 432x288 with 1 Axes>"
      ]
     },
     "metadata": {
      "needs_background": "light"
     },
     "output_type": "display_data"
    }
   ],
   "source": [
    "show_preds(preds)"
   ]
  },
  {
   "cell_type": "code",
   "execution_count": 71,
   "id": "51a9c132-78f0-4f0f-b1be-4d2361feb406",
   "metadata": {},
   "outputs": [
    {
     "data": {
      "text/plain": [
       "tensor(13362.8652, grad_fn=<MeanBackward0>)"
      ]
     },
     "execution_count": 71,
     "metadata": {},
     "output_type": "execute_result"
    }
   ],
   "source": [
    "mse(preds, speed)"
   ]
  },
  {
   "cell_type": "markdown",
   "id": "8ba9f2b4-32e8-445c-b784-39b17d784a7c",
   "metadata": {},
   "source": [
    "Loss has improved"
   ]
  },
  {
   "cell_type": "code",
   "execution_count": 72,
   "id": "d51ff3ee-ad70-42c3-8534-f34e6627b741",
   "metadata": {},
   "outputs": [],
   "source": [
    "def apply_step(params, prn=True):\n",
    "    preds = f(time, params)\n",
    "    loss = mse(preds, speed)\n",
    "    loss.backward()\n",
    "    params.data -= params.grad.data * lr\n",
    "    params.grad = None\n",
    "    if prn: print(loss.item())\n",
    "    return preds"
   ]
  },
  {
   "cell_type": "code",
   "execution_count": 73,
   "id": "903c84ce-3b2c-4da6-ae37-38afc4374403",
   "metadata": {},
   "outputs": [],
   "source": [
    "#for i in range(10): apply_step(params)\n"
   ]
  },
  {
   "cell_type": "code",
   "execution_count": 74,
   "id": "f9121a03-1cfa-48f5-b681-58f79c670c38",
   "metadata": {},
   "outputs": [
    {
     "data": {
      "image/png": "[encoded data removed]",
      "text/plain": [
       "<Figure size 864x216 with 4 Axes>"
      ]
     },
     "metadata": {
      "needs_background": "light"
     },
     "output_type": "display_data"
    }
   ],
   "source": [
    "_, axs = plt.subplots(1,4, figsize=(12,3))\n",
    "for ax in axs: show_preds(apply_step(params, False), ax)\n",
    "plt.tight_layout()"
   ]
  },
  {
   "cell_type": "markdown",
   "id": "b185d6ed-cf04-47ff-8ebe-bbccae269762",
   "metadata": {},
   "source": [
    "## MNIST Loss"
   ]
  },
  {
   "cell_type": "code",
   "execution_count": 75,
   "id": "7c85697a-ca6c-4e63-825d-6e9fcdc642bf",
   "metadata": {},
   "outputs": [
    {
     "data": {
      "text/plain": [
       "torch.Size([12396, 784])"
      ]
     },
     "execution_count": 75,
     "metadata": {},
     "output_type": "execute_result"
    }
   ],
   "source": [
    "# Resize the stacked 3's and stacked 7's to a 2 dimension tensor \n",
    "# method view -1  means contain as many rows as needed to fit the data\n",
    "# cat will just concatenate all the stacked 3's and 7's to one big list of matrices\n",
    "train_x = torch.cat([stacked_threes, stacked_sevens]).view(-1, 28*28)\n",
    "train_x.shape"
   ]
  },
  {
   "cell_type": "code",
   "execution_count": 76,
   "id": "22f73b0e-71d3-42d0-b08f-c55813feb14d",
   "metadata": {},
   "outputs": [],
   "source": [
    "# we need to label those rank 1 tensors, use 1 for threes and 0 for sevens,\n",
    "# this is okay for now as we just have 2 digits\n",
    "# The unsqueeze makes the vector to a matrix by adding an additional column of unit\n",
    "# value.  \n",
    "# We can't create a dataset without the second dimention, its needed to index\n",
    "# the dataset \n",
    "train_y = tensor([1]*len(threes) + [0]*len(sevens)).unsqueeze(1)"
   ]
  },
  {
   "cell_type": "code",
   "execution_count": 77,
   "id": "e253b0e3-58e7-4d54-a809-c537e2b5614a",
   "metadata": {},
   "outputs": [
    {
     "data": {
      "text/plain": [
       "(torch.Size([12396, 784]), torch.Size([12396, 1]))"
      ]
     },
     "execution_count": 77,
     "metadata": {},
     "output_type": "execute_result"
    }
   ],
   "source": [
    "train_x.shape, train_y.shape"
   ]
  },
  {
   "cell_type": "code",
   "execution_count": 78,
   "id": "bad12391-edfe-4fbc-ad37-769fd2ffafbe",
   "metadata": {},
   "outputs": [
    {
     "data": {
      "text/plain": [
       "(torch.Size([784]), tensor([1]))"
      ]
     },
     "execution_count": 78,
     "metadata": {},
     "output_type": "execute_result"
    }
   ],
   "source": [
    "dset = list(zip(train_x, train_y))\n",
    "# Destructuing the tuple\n",
    "x,y = dset[0]\n",
    "x.shape, y"
   ]
  },
  {
   "cell_type": "code",
   "execution_count": 79,
   "id": "12f2eabb-6b39-418c-a1f3-e2826d51b694",
   "metadata": {},
   "outputs": [],
   "source": [
    "valid_x = torch.cat([valid_3_tens, valid_7_tens]).view(-1, 28*28)\n",
    "valid_y = tensor([1]*len(valid_3_tens) + [0]*len(valid_7_tens)).unsqueeze(1)\n",
    "valid_dset = list(zip(valid_x, valid_y))"
   ]
  },
  {
   "cell_type": "code",
   "execution_count": 80,
   "id": "c9a8c6d2-77ff-4b03-a2bd-e3a9d956e801",
   "metadata": {},
   "outputs": [],
   "source": [
    "def init_params(size, var=1.0): return (torch.randn(size)*var).requires_grad_()"
   ]
  },
  {
   "cell_type": "code",
   "execution_count": 81,
   "id": "925d606f-8897-48e0-aecf-9561c764dd3c",
   "metadata": {},
   "outputs": [],
   "source": [
    "# y = wx + b, lets initialize the w, weights\n",
    "weights = init_params((28*28,1))"
   ]
  },
  {
   "cell_type": "code",
   "execution_count": 82,
   "id": "dacc2fa8-ef3a-42a7-b672-f8dba2886d69",
   "metadata": {},
   "outputs": [],
   "source": [
    "# y = wx + b, lets initialize the b, bias\n",
    "bias = init_params(1)"
   ]
  },
  {
   "cell_type": "code",
   "execution_count": 83,
   "id": "21dacea5-cd14-4d4b-86d3-008dc8319adf",
   "metadata": {},
   "outputs": [
    {
     "data": {
      "text/plain": [
       "tensor([20.2336], grad_fn=<AddBackward0>)"
      ]
     },
     "execution_count": 83,
     "metadata": {},
     "output_type": "execute_result"
    }
   ],
   "source": [
    "(train_x[0]*weights.T).sum() + bias"
   ]
  },
  {
   "cell_type": "code",
   "execution_count": 84,
   "id": "7d17b3b7-9ec6-4f73-85b9-7c98786ea668",
   "metadata": {},
   "outputs": [
    {
     "data": {
      "text/plain": [
       "torch.Size([784])"
      ]
     },
     "execution_count": 84,
     "metadata": {},
     "output_type": "execute_result"
    }
   ],
   "source": [
    "train_x[0].shape"
   ]
  },
  {
   "cell_type": "code",
   "execution_count": 85,
   "id": "36daacf7-a937-4156-bd67-9b4f15507385",
   "metadata": {},
   "outputs": [
    {
     "data": {
      "text/plain": [
       "torch.Size([784, 1])"
      ]
     },
     "execution_count": 85,
     "metadata": {},
     "output_type": "execute_result"
    }
   ],
   "source": [
    "weights.shape"
   ]
  },
  {
   "cell_type": "code",
   "execution_count": 86,
   "id": "8ec2e898-2fd0-4e24-bd15-b159dd47a383",
   "metadata": {},
   "outputs": [
    {
     "data": {
      "text/plain": [
       "tensor([1.3123], grad_fn=<SelectBackward0>)"
      ]
     },
     "execution_count": 86,
     "metadata": {},
     "output_type": "execute_result"
    }
   ],
   "source": [
    "weights[0]"
   ]
  },
  {
   "cell_type": "code",
   "execution_count": 87,
   "id": "e5d082a0-dcb5-4efc-86f0-cdfe87e9ab60",
   "metadata": {},
   "outputs": [
    {
     "data": {
      "text/plain": [
       "torch.Size([784, 1])"
      ]
     },
     "execution_count": 87,
     "metadata": {},
     "output_type": "execute_result"
    }
   ],
   "source": [
    "weights.shape "
   ]
  },
  {
   "cell_type": "code",
   "execution_count": 88,
   "id": "9efff12f-619a-41eb-946d-edf659fd468e",
   "metadata": {},
   "outputs": [
    {
     "data": {
      "text/plain": [
       "torch.Size([1])"
      ]
     },
     "execution_count": 88,
     "metadata": {},
     "output_type": "execute_result"
    }
   ],
   "source": [
    "bias.shape"
   ]
  },
  {
   "cell_type": "code",
   "execution_count": 89,
   "id": "f928b549-9b23-441b-8745-5c7fbbf02262",
   "metadata": {},
   "outputs": [],
   "source": [
    "# @ is matrix multiplication\n",
    "def linear1(xb): return xb@weights + bias"
   ]
  },
  {
   "cell_type": "code",
   "execution_count": 90,
   "id": "eb16fbcd-f885-4a7a-b370-696bd54a9a52",
   "metadata": {},
   "outputs": [
    {
     "data": {
      "text/plain": [
       "torch.Size([12396, 1])"
      ]
     },
     "execution_count": 90,
     "metadata": {},
     "output_type": "execute_result"
    }
   ],
   "source": [
    "preds = linear1(train_x)\n",
    "preds.shape"
   ]
  },
  {
   "cell_type": "code",
   "execution_count": 91,
   "id": "61b89b60-25c1-470c-a28e-9a54e01104d1",
   "metadata": {},
   "outputs": [
    {
     "data": {
      "text/plain": [
       "torch.Size([12396, 1])"
      ]
     },
     "execution_count": 91,
     "metadata": {},
     "output_type": "execute_result"
    }
   ],
   "source": [
    "train_y.shape"
   ]
  },
  {
   "cell_type": "code",
   "execution_count": 92,
   "id": "420fe7ff-c37f-4f12-a752-b8323fae5a56",
   "metadata": {},
   "outputs": [
    {
     "data": {
      "text/plain": [
       "0.4912068545818329"
      ]
     },
     "execution_count": 92,
     "metadata": {},
     "output_type": "execute_result"
    }
   ],
   "source": [
    "corrects = (preds > 0.0).float() == train_y\n",
    "corrects.float().mean().item()"
   ]
  },
  {
   "cell_type": "code",
   "execution_count": 93,
   "id": "5e924169-60ec-47b6-acda-f76ed53fbbfd",
   "metadata": {},
   "outputs": [],
   "source": [
    "## New loss function\n",
    "# where operates over all elements of the tensor\n",
    "def mnist_loss(predictions, targets):\n",
    "    return torch.where(targets==1, 1-predictions, predictions).mean()"
   ]
  },
  {
   "cell_type": "raw",
   "id": "af6473dc-ae26-4e60-b603-ed550a22833a",
   "metadata": {},
   "source": [
    "This is not good because we are making predictions greater than 1, not just between 1 and zero.\n",
    "\n",
    "We need a function to make predictions between 0 and 1\n"
   ]
  },
  {
   "cell_type": "code",
   "execution_count": 94,
   "id": "7413ca04-86b2-41db-bed7-72b48c771ec8",
   "metadata": {},
   "outputs": [],
   "source": [
    "def sigmoid(x): return 1/(1+torch.exp(-x))"
   ]
  },
  {
   "cell_type": "code",
   "execution_count": 95,
   "id": "8cdf3eb9-ed26-4db8-8bc5-fab978b14b0d",
   "metadata": {},
   "outputs": [
    {
     "data": {
      "image/png": "[encoded data removed]",
      "text/plain": [
       "<Figure size 432x288 with 1 Axes>"
      ]
     },
     "metadata": {
      "needs_background": "light"
     },
     "output_type": "display_data"
    }
   ],
   "source": [
    "plot_function(sigmoid, min=-5, max=5)"
   ]
  },
  {
   "cell_type": "code",
   "execution_count": 96,
   "id": "283f9945-fdba-41a2-b3ba-a94aff08ca39",
   "metadata": {},
   "outputs": [],
   "source": [
    "def mnist_loss(predictions,targets):\n",
    "    predictions = predictions.sigmoid()\n",
    "    return torch.where(targets==1, 1-predictions, predictions).mean() "
   ]
  },
  {
   "cell_type": "markdown",
   "id": "c0b2a3c5-d5f8-4422-bff4-21850cbc8fdb",
   "metadata": {},
   "source": [
    "## Mini Batch"
   ]
  },
  {
   "cell_type": "code",
   "execution_count": 97,
   "id": "37d5982d-7a3f-4a74-9274-f88753eb3d59",
   "metadata": {},
   "outputs": [],
   "source": [
    "weights = init_params((28*28,1))\n",
    "bias = init_params(1)"
   ]
  },
  {
   "cell_type": "code",
   "execution_count": 98,
   "id": "d3f56796-439f-412b-9429-e799869cbb84",
   "metadata": {},
   "outputs": [
    {
     "data": {
      "text/plain": [
       "(torch.Size([256, 784]), torch.Size([256, 1]))"
      ]
     },
     "execution_count": 98,
     "metadata": {},
     "output_type": "execute_result"
    }
   ],
   "source": [
    "dl = DataLoader(dset, batch_size=256)\n",
    "xb, yb = first(dl)\n",
    "xb.shape, yb.shape,"
   ]
  },
  {
   "cell_type": "code",
   "execution_count": 99,
   "id": "fa2ce2f0-017b-4b3e-84d8-947ecd618906",
   "metadata": {},
   "outputs": [],
   "source": [
    "valid_dl = DataLoader(valid_dset, batch_size=256)"
   ]
  },
  {
   "cell_type": "code",
   "execution_count": 100,
   "id": "09f46843-d18a-49b7-9acb-f249fe7a932b",
   "metadata": {},
   "outputs": [],
   "source": [
    "def calc_grad(xb, yb, model):\n",
    "    preds = model(xb)\n",
    "    loss = mnist_loss(preds, yb)\n",
    "    loss.backward()"
   ]
  },
  {
   "cell_type": "code",
   "execution_count": 101,
   "id": "b737df3c-417c-4724-9489-5fe207ee8d4b",
   "metadata": {},
   "outputs": [],
   "source": [
    "# clear the grad of weight and bias after each run, otherwise it keeps adding grad\n",
    "# to the previous value.\n",
    "# weights.grad.zero_()\n",
    "# bias.grad.zero_();"
   ]
  },
  {
   "cell_type": "code",
   "execution_count": 102,
   "id": "47b8a235-6110-4a1b-9625-fcdf985aada6",
   "metadata": {},
   "outputs": [],
   "source": [
    "def train_epoch(model, lr, params):\n",
    "    for xb, yb in dl:\n",
    "        calc_grad(xb, yb, model)\n",
    "        for p in params:\n",
    "            p.data -= p.grad*lr\n",
    "            p.grad.zero_()"
   ]
  },
  {
   "cell_type": "code",
   "execution_count": 103,
   "id": "8945129e-0b8c-4987-ad44-a19c85c79910",
   "metadata": {},
   "outputs": [],
   "source": [
    "def batch_accuracy(xb, yb):\n",
    "    preds = xb.sigmoid()\n",
    "    correct = (preds>0.5)==yb\n",
    "    return correct.float().mean()"
   ]
  },
  {
   "cell_type": "code",
   "execution_count": 104,
   "id": "52176a9d-a7d6-420e-b250-6ec657965f66",
   "metadata": {},
   "outputs": [],
   "source": [
    "def validate_epoch(model):\n",
    "    accs = [batch_accuracy(model(xb), yb) for xb, yb in valid_dl]\n",
    "    return round(torch.stack(accs).mean().item(), 4)"
   ]
  },
  {
   "cell_type": "code",
   "execution_count": 105,
   "id": "cf221810-c1bd-4d3e-aa8c-f3648408d1c7",
   "metadata": {},
   "outputs": [
    {
     "data": {
      "text/plain": [
       "0.4752"
      ]
     },
     "execution_count": 105,
     "metadata": {},
     "output_type": "execute_result"
    }
   ],
   "source": [
    "validate_epoch(linear1)"
   ]
  },
  {
   "cell_type": "code",
   "execution_count": 106,
   "id": "73fbd57a-1066-4205-94c2-4ed974e9ed29",
   "metadata": {},
   "outputs": [
    {
     "data": {
      "text/plain": [
       "0.6596"
      ]
     },
     "execution_count": 106,
     "metadata": {},
     "output_type": "execute_result"
    }
   ],
   "source": [
    "lr = 1.\n",
    "params = weights, bias\n",
    "train_epoch(linear1, lr, params)\n",
    "validate_epoch(linear1)"
   ]
  },
  {
   "cell_type": "code",
   "execution_count": 107,
   "id": "853397a9-891e-4ea5-9e5b-2edb7dd6f72f",
   "metadata": {},
   "outputs": [
    {
     "name": "stdout",
     "output_type": "stream",
     "text": [
      "0.8583 0.9194 0.9384 0.9482 0.957 0.9609 0.9638 0.9653 0.9682 0.9687 0.9697 0.9702 0.9716 0.9706 0.9711 0.9711 0.9716 0.9716 0.9721 0.9726 0.9736 0.9731 0.9731 0.9741 0.9745 0.9751 0.9755 0.977 0.9775 0.9785 0.979 0.979 0.979 0.9795 0.9795 0.9795 0.9795 0.98 0.98 0.9804 0.9809 0.98 0.98 0.98 0.98 0.98 0.98 0.9804 0.9809 0.9809 0.9814 0.9814 0.9814 0.9814 0.9814 0.9819 0.9819 0.9819 0.9819 0.9819 0.9819 0.9824 0.9824 0.9824 0.9824 0.9829 0.9829 0.9829 0.9829 0.9829 0.9829 0.9829 0.9829 0.9829 0.9829 0.9829 0.9829 0.9829 0.9829 0.9834 0.9834 0.9839 0.9844 0.9844 0.9844 0.9844 0.9844 0.9844 0.9844 0.9844 0.9844 0.9844 0.9844 0.9848 0.9848 0.9853 0.9853 0.9853 0.9853 0.9853 "
     ]
    }
   ],
   "source": [
    "for i in range(100):\n",
    "    train_epoch(linear1, lr, params)\n",
    "    print(validate_epoch(linear1), end=' ')"
   ]
  },
  {
   "cell_type": "markdown",
   "id": "d2d8ac27-fac1-420a-8485-cb4ecc6b9aed",
   "metadata": {},
   "source": [
    "# Optimizer"
   ]
  },
  {
   "cell_type": "code",
   "execution_count": 108,
   "id": "a35cae25-decb-42c0-a838-018752003ae3",
   "metadata": {},
   "outputs": [],
   "source": [
    "lr = 0.5"
   ]
  },
  {
   "cell_type": "code",
   "execution_count": 109,
   "id": "64b45610-e2e9-4353-9535-d3bccba17536",
   "metadata": {},
   "outputs": [],
   "source": [
    "linear_model = nn.Linear(28*28, 1)"
   ]
  },
  {
   "cell_type": "code",
   "execution_count": 110,
   "id": "09305e45-9e0e-4497-aed1-d8480312a041",
   "metadata": {},
   "outputs": [
    {
     "data": {
      "text/plain": [
       "(torch.Size([1, 784]), torch.Size([1]))"
      ]
     },
     "execution_count": 110,
     "metadata": {},
     "output_type": "execute_result"
    }
   ],
   "source": [
    "w,b = linear_model.parameters()\n",
    "w.shape, b.shape"
   ]
  },
  {
   "cell_type": "code",
   "execution_count": 111,
   "id": "33cd1c19-1a96-4fa5-9fd4-f9659165d2c0",
   "metadata": {},
   "outputs": [],
   "source": [
    "class BasicOptim:\n",
    "    def __init__(self, params, lr): self.params, self.lr = list(params), lr\n",
    "    \n",
    "    def step(self, *args, **kwargs):\n",
    "        for p in self.params: p.data -= p.grad.data * self.lr\n",
    "    \n",
    "    def zero_grad(self, *args, **kwargs):\n",
    "        for p in self.params: p.grad.zero_()"
   ]
  },
  {
   "cell_type": "code",
   "execution_count": 112,
   "id": "e73cb1e4-a758-4ed0-8e63-7ed46cabf5fb",
   "metadata": {},
   "outputs": [],
   "source": [
    "opt = BasicOptim(linear_model.parameters(), lr)"
   ]
  },
  {
   "cell_type": "code",
   "execution_count": 113,
   "id": "423876a3-add3-4b28-99f8-fcbc90988235",
   "metadata": {},
   "outputs": [],
   "source": [
    "# New Train Epoch\n",
    "def train_epoch(model):\n",
    "    for xb, yb in dl:\n",
    "        calc_grad(xb, yb, model)\n",
    "        opt.step()\n",
    "        opt.zero_grad()\n",
    "        "
   ]
  },
  {
   "cell_type": "code",
   "execution_count": 114,
   "id": "b291ffae-1f51-4bdb-be2f-ec030d5a0349",
   "metadata": {},
   "outputs": [
    {
     "data": {
      "text/plain": [
       "0.2636"
      ]
     },
     "execution_count": 114,
     "metadata": {},
     "output_type": "execute_result"
    }
   ],
   "source": [
    "validate_epoch(linear_model)"
   ]
  },
  {
   "cell_type": "code",
   "execution_count": 115,
   "id": "85affa81-5af1-4a52-91ef-6968a2820f5b",
   "metadata": {},
   "outputs": [],
   "source": [
    "def train_model(model, epochs):\n",
    "    for i in range(epochs):\n",
    "        train_epoch(model)\n",
    "        print(validate_epoch(model), end=' ')"
   ]
  },
  {
   "cell_type": "code",
   "execution_count": 116,
   "id": "3553385a-9622-499f-a18d-3f2475bcaeb7",
   "metadata": {},
   "outputs": [
    {
     "name": "stdout",
     "output_type": "stream",
     "text": [
      "0.5132 0.8247 0.9131 0.9365 0.9497 0.9604 0.9653 0.9678 0.9692 0.9702 0.9721 0.9741 0.9751 0.9756 0.9765 0.977 0.977 0.9775 0.9775 0.9785 0.979 0.9795 0.9795 0.9804 0.9809 0.9809 0.9809 0.9814 0.9814 0.9814 0.9819 0.9824 0.9824 0.9814 0.9814 0.9819 0.9819 0.9819 0.9819 0.9824 0.9824 0.9829 0.9829 0.9829 0.9829 0.9829 0.9829 0.9829 0.9829 0.9829 "
     ]
    }
   ],
   "source": [
    "train_model(linear_model, 50)"
   ]
  },
  {
   "cell_type": "markdown",
   "id": "b4245be7-d502-4ec6-aa5a-907ab2fa8998",
   "metadata": {},
   "source": [
    "## SGD FastAI"
   ]
  },
  {
   "cell_type": "code",
   "execution_count": 117,
   "id": "a02bc1b8-95ee-44c2-b250-5e9772f552c4",
   "metadata": {},
   "outputs": [
    {
     "name": "stdout",
     "output_type": "stream",
     "text": [
      "0.5244 0.8345 0.9146 0.9375 0.9521 0.9619 0.9658 0.9678 0.9692 0.9707 0.9726 0.9736 0.9746 0.9761 0.9761 0.9765 0.977 0.977 0.977 0.9775 "
     ]
    }
   ],
   "source": [
    "linear_model = nn.Linear(28*28, 1)\n",
    "opt = SGD(linear_model.parameters(), lr)\n",
    "train_model(linear_model, 20)"
   ]
  },
  {
   "cell_type": "code",
   "execution_count": 118,
   "id": "60eb9054-7a8a-4c01-a084-27cd1bf3ba01",
   "metadata": {},
   "outputs": [],
   "source": [
    "dls = DataLoaders(dl, valid_dl)"
   ]
  },
  {
   "cell_type": "code",
   "execution_count": 119,
   "id": "eb0b2a3f-560f-47e5-859f-58d415295c18",
   "metadata": {},
   "outputs": [],
   "source": [
    "learn = Learner(dls, nn.Linear(28*28, 1), opt_func=SGD, loss_func=mnist_loss, metrics=batch_accuracy)"
   ]
  },
  {
   "cell_type": "code",
   "execution_count": 120,
   "id": "e8d11a1b-470a-4a98-8331-7c69b60780a1",
   "metadata": {},
   "outputs": [
    {
     "data": {
      "text/html": [
       "\n",
       "<style>\n",
       "    /* Turns off some styling */\n",
       "    progress {\n",
       "        /* gets rid of default border in Firefox and Opera. */\n",
       "        border: none;\n",
       "        /* Needs to be in here for Safari polyfill so background images work as expected. */\n",
       "        background-size: auto;\n",
       "    }\n",
       "    .progress-bar-interrupted, .progress-bar-interrupted::-webkit-progress-bar {\n",
       "        background: #F44336;\n",
       "    }\n",
       "</style>\n"
      ],
      "text/plain": [
       "<IPython.core.display.HTML object>"
      ]
     },
     "metadata": {},
     "output_type": "display_data"
    },
    {
     "data": {
      "text/html": [
       "<table border=\"1\" class=\"dataframe\">\n",
       "  <thead>\n",
       "    <tr style=\"text-align: left;\">\n",
       "      <th>epoch</th>\n",
       "      <th>train_loss</th>\n",
       "      <th>valid_loss</th>\n",
       "      <th>batch_accuracy</th>\n",
       "      <th>time</th>\n",
       "    </tr>\n",
       "  </thead>\n",
       "  <tbody>\n",
       "    <tr>\n",
       "      <td>0</td>\n",
       "      <td>0.177566</td>\n",
       "      <td>0.412059</td>\n",
       "      <td>0.514720</td>\n",
       "      <td>00:00</td>\n",
       "    </tr>\n",
       "    <tr>\n",
       "      <td>1</td>\n",
       "      <td>0.078277</td>\n",
       "      <td>0.199104</td>\n",
       "      <td>0.825810</td>\n",
       "      <td>00:00</td>\n",
       "    </tr>\n",
       "    <tr>\n",
       "      <td>2</td>\n",
       "      <td>0.046431</td>\n",
       "      <td>0.111860</td>\n",
       "      <td>0.912659</td>\n",
       "      <td>00:00</td>\n",
       "    </tr>\n",
       "    <tr>\n",
       "      <td>3</td>\n",
       "      <td>0.034276</td>\n",
       "      <td>0.078923</td>\n",
       "      <td>0.936212</td>\n",
       "      <td>00:00</td>\n",
       "    </tr>\n",
       "    <tr>\n",
       "      <td>4</td>\n",
       "      <td>0.028867</td>\n",
       "      <td>0.062285</td>\n",
       "      <td>0.950932</td>\n",
       "      <td>00:00</td>\n",
       "    </tr>\n",
       "    <tr>\n",
       "      <td>5</td>\n",
       "      <td>0.026116</td>\n",
       "      <td>0.052423</td>\n",
       "      <td>0.960255</td>\n",
       "      <td>00:00</td>\n",
       "    </tr>\n",
       "    <tr>\n",
       "      <td>6</td>\n",
       "      <td>0.024489</td>\n",
       "      <td>0.046056</td>\n",
       "      <td>0.965653</td>\n",
       "      <td>00:00</td>\n",
       "    </tr>\n",
       "    <tr>\n",
       "      <td>7</td>\n",
       "      <td>0.023368</td>\n",
       "      <td>0.041670</td>\n",
       "      <td>0.968106</td>\n",
       "      <td>00:00</td>\n",
       "    </tr>\n",
       "    <tr>\n",
       "      <td>8</td>\n",
       "      <td>0.022507</td>\n",
       "      <td>0.038478</td>\n",
       "      <td>0.969087</td>\n",
       "      <td>00:00</td>\n",
       "    </tr>\n",
       "    <tr>\n",
       "      <td>9</td>\n",
       "      <td>0.021801</td>\n",
       "      <td>0.036052</td>\n",
       "      <td>0.969578</td>\n",
       "      <td>00:00</td>\n",
       "    </tr>\n",
       "    <tr>\n",
       "      <td>10</td>\n",
       "      <td>0.021203</td>\n",
       "      <td>0.034141</td>\n",
       "      <td>0.972031</td>\n",
       "      <td>00:00</td>\n",
       "    </tr>\n",
       "    <tr>\n",
       "      <td>11</td>\n",
       "      <td>0.020685</td>\n",
       "      <td>0.032592</td>\n",
       "      <td>0.973503</td>\n",
       "      <td>00:00</td>\n",
       "    </tr>\n",
       "    <tr>\n",
       "      <td>12</td>\n",
       "      <td>0.020231</td>\n",
       "      <td>0.031309</td>\n",
       "      <td>0.973994</td>\n",
       "      <td>00:00</td>\n",
       "    </tr>\n",
       "    <tr>\n",
       "      <td>13</td>\n",
       "      <td>0.019829</td>\n",
       "      <td>0.030227</td>\n",
       "      <td>0.975957</td>\n",
       "      <td>00:00</td>\n",
       "    </tr>\n",
       "    <tr>\n",
       "      <td>14</td>\n",
       "      <td>0.019469</td>\n",
       "      <td>0.029302</td>\n",
       "      <td>0.976448</td>\n",
       "      <td>00:00</td>\n",
       "    </tr>\n",
       "    <tr>\n",
       "      <td>15</td>\n",
       "      <td>0.019143</td>\n",
       "      <td>0.028502</td>\n",
       "      <td>0.976448</td>\n",
       "      <td>00:00</td>\n",
       "    </tr>\n",
       "    <tr>\n",
       "      <td>16</td>\n",
       "      <td>0.018846</td>\n",
       "      <td>0.027802</td>\n",
       "      <td>0.976938</td>\n",
       "      <td>00:00</td>\n",
       "    </tr>\n",
       "    <tr>\n",
       "      <td>17</td>\n",
       "      <td>0.018574</td>\n",
       "      <td>0.027184</td>\n",
       "      <td>0.976938</td>\n",
       "      <td>00:00</td>\n",
       "    </tr>\n",
       "    <tr>\n",
       "      <td>18</td>\n",
       "      <td>0.018322</td>\n",
       "      <td>0.026635</td>\n",
       "      <td>0.977429</td>\n",
       "      <td>00:00</td>\n",
       "    </tr>\n",
       "    <tr>\n",
       "      <td>19</td>\n",
       "      <td>0.018087</td>\n",
       "      <td>0.026144</td>\n",
       "      <td>0.977429</td>\n",
       "      <td>00:00</td>\n",
       "    </tr>\n",
       "  </tbody>\n",
       "</table>"
      ],
      "text/plain": [
       "<IPython.core.display.HTML object>"
      ]
     },
     "metadata": {},
     "output_type": "display_data"
    }
   ],
   "source": [
    "learn.fit(20, lr=0.5)"
   ]
  },
  {
   "cell_type": "markdown",
   "id": "ca296ae6-6cad-4d0f-8d1c-6345a99073aa",
   "metadata": {},
   "source": [
    "## NN "
   ]
  },
  {
   "cell_type": "code",
   "execution_count": 121,
   "id": "a1e140a0-5fb3-40ca-96a3-728af23c4be9",
   "metadata": {},
   "outputs": [],
   "source": [
    "def simple_net(xb):\n",
    "    res = xb@w1 + b1\n",
    "    res = res.max(tensor(0.0))\n",
    "    res = res@w2 + b2\n",
    "    return res"
   ]
  },
  {
   "cell_type": "code",
   "execution_count": 122,
   "id": "4f0a76dd-e827-4992-a931-e70eca1c637b",
   "metadata": {},
   "outputs": [],
   "source": [
    "w1 = init_params((28*28, 30))\n",
    "b1 = init_params(30)\n",
    "w2 = init_params((30,1))\n",
    "b2 = init_params(1)"
   ]
  },
  {
   "cell_type": "code",
   "execution_count": 123,
   "id": "1eaf12a0-192a-4a2d-abc3-10e5982487f5",
   "metadata": {},
   "outputs": [
    {
     "data": {
      "image/png": "[encoded data removed]",
      "text/plain": [
       "<Figure size 432x288 with 1 Axes>"
      ]
     },
     "metadata": {
      "needs_background": "light"
     },
     "output_type": "display_data"
    }
   ],
   "source": [
    "# The res.max((tensor(0.0)) is rectified linear unit relu)\n",
    "plot_function(F.relu)"
   ]
  },
  {
   "cell_type": "code",
   "execution_count": 124,
   "id": "aad291a9-3649-43ce-bca1-c1b5bb9d830e",
   "metadata": {},
   "outputs": [],
   "source": [
    "simple_net = nn.Sequential(\n",
    "    nn.Linear(28*28, 30),\n",
    "    nn.ReLU(),\n",
    "    nn.Linear(30, 1)\n",
    ")"
   ]
  },
  {
   "cell_type": "code",
   "execution_count": 125,
   "id": "26a7e32c-e7a1-4ec9-8e84-75c2963210c8",
   "metadata": {},
   "outputs": [],
   "source": [
    "learn = Learner(dls, simple_net, opt_func=SGD, loss_func=mnist_loss, metrics=batch_accuracy)"
   ]
  },
  {
   "cell_type": "code",
   "execution_count": 126,
   "id": "e4a50ec7-44ce-4e8e-97e7-814f2419e26f",
   "metadata": {},
   "outputs": [
    {
     "data": {
      "text/html": [
       "\n",
       "<style>\n",
       "    /* Turns off some styling */\n",
       "    progress {\n",
       "        /* gets rid of default border in Firefox and Opera. */\n",
       "        border: none;\n",
       "        /* Needs to be in here for Safari polyfill so background images work as expected. */\n",
       "        background-size: auto;\n",
       "    }\n",
       "    .progress-bar-interrupted, .progress-bar-interrupted::-webkit-progress-bar {\n",
       "        background: #F44336;\n",
       "    }\n",
       "</style>\n"
      ],
      "text/plain": [
       "<IPython.core.display.HTML object>"
      ]
     },
     "metadata": {},
     "output_type": "display_data"
    },
    {
     "data": {
      "text/html": [
       "<table border=\"1\" class=\"dataframe\">\n",
       "  <thead>\n",
       "    <tr style=\"text-align: left;\">\n",
       "      <th>epoch</th>\n",
       "      <th>train_loss</th>\n",
       "      <th>valid_loss</th>\n",
       "      <th>batch_accuracy</th>\n",
       "      <th>time</th>\n",
       "    </tr>\n",
       "  </thead>\n",
       "  <tbody>\n",
       "    <tr>\n",
       "      <td>0</td>\n",
       "      <td>0.313281</td>\n",
       "      <td>0.400986</td>\n",
       "      <td>0.504907</td>\n",
       "      <td>00:00</td>\n",
       "    </tr>\n",
       "    <tr>\n",
       "      <td>1</td>\n",
       "      <td>0.145349</td>\n",
       "      <td>0.233043</td>\n",
       "      <td>0.801276</td>\n",
       "      <td>00:00</td>\n",
       "    </tr>\n",
       "    <tr>\n",
       "      <td>2</td>\n",
       "      <td>0.081081</td>\n",
       "      <td>0.117432</td>\n",
       "      <td>0.910206</td>\n",
       "      <td>00:00</td>\n",
       "    </tr>\n",
       "    <tr>\n",
       "      <td>3</td>\n",
       "      <td>0.053586</td>\n",
       "      <td>0.079024</td>\n",
       "      <td>0.938175</td>\n",
       "      <td>00:00</td>\n",
       "    </tr>\n",
       "    <tr>\n",
       "      <td>4</td>\n",
       "      <td>0.040761</td>\n",
       "      <td>0.061451</td>\n",
       "      <td>0.954367</td>\n",
       "      <td>00:00</td>\n",
       "    </tr>\n",
       "    <tr>\n",
       "      <td>5</td>\n",
       "      <td>0.034170</td>\n",
       "      <td>0.051569</td>\n",
       "      <td>0.964671</td>\n",
       "      <td>00:00</td>\n",
       "    </tr>\n",
       "    <tr>\n",
       "      <td>6</td>\n",
       "      <td>0.030359</td>\n",
       "      <td>0.045340</td>\n",
       "      <td>0.966143</td>\n",
       "      <td>00:00</td>\n",
       "    </tr>\n",
       "    <tr>\n",
       "      <td>7</td>\n",
       "      <td>0.027869</td>\n",
       "      <td>0.041096</td>\n",
       "      <td>0.967125</td>\n",
       "      <td>00:00</td>\n",
       "    </tr>\n",
       "    <tr>\n",
       "      <td>8</td>\n",
       "      <td>0.026069</td>\n",
       "      <td>0.038015</td>\n",
       "      <td>0.968106</td>\n",
       "      <td>00:00</td>\n",
       "    </tr>\n",
       "    <tr>\n",
       "      <td>9</td>\n",
       "      <td>0.024674</td>\n",
       "      <td>0.035669</td>\n",
       "      <td>0.968106</td>\n",
       "      <td>00:00</td>\n",
       "    </tr>\n",
       "    <tr>\n",
       "      <td>10</td>\n",
       "      <td>0.023541</td>\n",
       "      <td>0.033813</td>\n",
       "      <td>0.972031</td>\n",
       "      <td>00:00</td>\n",
       "    </tr>\n",
       "    <tr>\n",
       "      <td>11</td>\n",
       "      <td>0.022596</td>\n",
       "      <td>0.032297</td>\n",
       "      <td>0.973013</td>\n",
       "      <td>00:00</td>\n",
       "    </tr>\n",
       "    <tr>\n",
       "      <td>12</td>\n",
       "      <td>0.021792</td>\n",
       "      <td>0.031029</td>\n",
       "      <td>0.973994</td>\n",
       "      <td>00:00</td>\n",
       "    </tr>\n",
       "    <tr>\n",
       "      <td>13</td>\n",
       "      <td>0.021097</td>\n",
       "      <td>0.029945</td>\n",
       "      <td>0.974975</td>\n",
       "      <td>00:00</td>\n",
       "    </tr>\n",
       "    <tr>\n",
       "      <td>14</td>\n",
       "      <td>0.020489</td>\n",
       "      <td>0.029005</td>\n",
       "      <td>0.975466</td>\n",
       "      <td>00:00</td>\n",
       "    </tr>\n",
       "    <tr>\n",
       "      <td>15</td>\n",
       "      <td>0.019950</td>\n",
       "      <td>0.028179</td>\n",
       "      <td>0.975957</td>\n",
       "      <td>00:00</td>\n",
       "    </tr>\n",
       "    <tr>\n",
       "      <td>16</td>\n",
       "      <td>0.019468</td>\n",
       "      <td>0.027446</td>\n",
       "      <td>0.976938</td>\n",
       "      <td>00:00</td>\n",
       "    </tr>\n",
       "    <tr>\n",
       "      <td>17</td>\n",
       "      <td>0.019034</td>\n",
       "      <td>0.026791</td>\n",
       "      <td>0.977920</td>\n",
       "      <td>00:00</td>\n",
       "    </tr>\n",
       "    <tr>\n",
       "      <td>18</td>\n",
       "      <td>0.018639</td>\n",
       "      <td>0.026199</td>\n",
       "      <td>0.978410</td>\n",
       "      <td>00:00</td>\n",
       "    </tr>\n",
       "    <tr>\n",
       "      <td>19</td>\n",
       "      <td>0.018277</td>\n",
       "      <td>0.025664</td>\n",
       "      <td>0.978901</td>\n",
       "      <td>00:00</td>\n",
       "    </tr>\n",
       "    <tr>\n",
       "      <td>20</td>\n",
       "      <td>0.017944</td>\n",
       "      <td>0.025177</td>\n",
       "      <td>0.978901</td>\n",
       "      <td>00:00</td>\n",
       "    </tr>\n",
       "    <tr>\n",
       "      <td>21</td>\n",
       "      <td>0.017636</td>\n",
       "      <td>0.024730</td>\n",
       "      <td>0.978901</td>\n",
       "      <td>00:00</td>\n",
       "    </tr>\n",
       "    <tr>\n",
       "      <td>22</td>\n",
       "      <td>0.017349</td>\n",
       "      <td>0.024321</td>\n",
       "      <td>0.978901</td>\n",
       "      <td>00:00</td>\n",
       "    </tr>\n",
       "    <tr>\n",
       "      <td>23</td>\n",
       "      <td>0.017081</td>\n",
       "      <td>0.023943</td>\n",
       "      <td>0.978901</td>\n",
       "      <td>00:00</td>\n",
       "    </tr>\n",
       "    <tr>\n",
       "      <td>24</td>\n",
       "      <td>0.016830</td>\n",
       "      <td>0.023594</td>\n",
       "      <td>0.980373</td>\n",
       "      <td>00:00</td>\n",
       "    </tr>\n",
       "    <tr>\n",
       "      <td>25</td>\n",
       "      <td>0.016594</td>\n",
       "      <td>0.023270</td>\n",
       "      <td>0.980864</td>\n",
       "      <td>00:00</td>\n",
       "    </tr>\n",
       "    <tr>\n",
       "      <td>26</td>\n",
       "      <td>0.016372</td>\n",
       "      <td>0.022970</td>\n",
       "      <td>0.981354</td>\n",
       "      <td>00:00</td>\n",
       "    </tr>\n",
       "    <tr>\n",
       "      <td>27</td>\n",
       "      <td>0.016161</td>\n",
       "      <td>0.022690</td>\n",
       "      <td>0.981354</td>\n",
       "      <td>00:00</td>\n",
       "    </tr>\n",
       "    <tr>\n",
       "      <td>28</td>\n",
       "      <td>0.015961</td>\n",
       "      <td>0.022429</td>\n",
       "      <td>0.981845</td>\n",
       "      <td>00:00</td>\n",
       "    </tr>\n",
       "    <tr>\n",
       "      <td>29</td>\n",
       "      <td>0.015771</td>\n",
       "      <td>0.022186</td>\n",
       "      <td>0.981845</td>\n",
       "      <td>00:00</td>\n",
       "    </tr>\n",
       "    <tr>\n",
       "      <td>30</td>\n",
       "      <td>0.015590</td>\n",
       "      <td>0.021960</td>\n",
       "      <td>0.982336</td>\n",
       "      <td>00:00</td>\n",
       "    </tr>\n",
       "    <tr>\n",
       "      <td>31</td>\n",
       "      <td>0.015418</td>\n",
       "      <td>0.021748</td>\n",
       "      <td>0.982336</td>\n",
       "      <td>00:00</td>\n",
       "    </tr>\n",
       "    <tr>\n",
       "      <td>32</td>\n",
       "      <td>0.015253</td>\n",
       "      <td>0.021550</td>\n",
       "      <td>0.982336</td>\n",
       "      <td>00:00</td>\n",
       "    </tr>\n",
       "    <tr>\n",
       "      <td>33</td>\n",
       "      <td>0.015096</td>\n",
       "      <td>0.021365</td>\n",
       "      <td>0.982336</td>\n",
       "      <td>00:00</td>\n",
       "    </tr>\n",
       "    <tr>\n",
       "      <td>34</td>\n",
       "      <td>0.014945</td>\n",
       "      <td>0.021191</td>\n",
       "      <td>0.982336</td>\n",
       "      <td>00:00</td>\n",
       "    </tr>\n",
       "    <tr>\n",
       "      <td>35</td>\n",
       "      <td>0.014801</td>\n",
       "      <td>0.021028</td>\n",
       "      <td>0.982826</td>\n",
       "      <td>00:00</td>\n",
       "    </tr>\n",
       "    <tr>\n",
       "      <td>36</td>\n",
       "      <td>0.014662</td>\n",
       "      <td>0.020874</td>\n",
       "      <td>0.982826</td>\n",
       "      <td>00:00</td>\n",
       "    </tr>\n",
       "    <tr>\n",
       "      <td>37</td>\n",
       "      <td>0.014528</td>\n",
       "      <td>0.020729</td>\n",
       "      <td>0.982826</td>\n",
       "      <td>00:00</td>\n",
       "    </tr>\n",
       "    <tr>\n",
       "      <td>38</td>\n",
       "      <td>0.014399</td>\n",
       "      <td>0.020592</td>\n",
       "      <td>0.982336</td>\n",
       "      <td>00:00</td>\n",
       "    </tr>\n",
       "    <tr>\n",
       "      <td>39</td>\n",
       "      <td>0.014274</td>\n",
       "      <td>0.020462</td>\n",
       "      <td>0.982336</td>\n",
       "      <td>00:00</td>\n",
       "    </tr>\n",
       "  </tbody>\n",
       "</table>"
      ],
      "text/plain": [
       "<IPython.core.display.HTML object>"
      ]
     },
     "metadata": {},
     "output_type": "display_data"
    }
   ],
   "source": [
    "learn.fit(40, 0.1)"
   ]
  },
  {
   "cell_type": "code",
   "execution_count": 127,
   "id": "1849ed0a-0721-4d34-9138-d5e12a23c795",
   "metadata": {},
   "outputs": [
    {
     "data": {
      "image/png": "[encoded data removed]",
      "text/plain": [
       "<Figure size 432x288 with 1 Axes>"
      ]
     },
     "metadata": {
      "needs_background": "light"
     },
     "output_type": "display_data"
    }
   ],
   "source": [
    "# Recorder records all the values appearing in the table above. we get the values and do itemgot(2) to get the batch_accuracy. Itemgot is from L class.\n",
    "plt.plot(L(learn.recorder.values).itemgot(2));"
   ]
  },
  {
   "cell_type": "code",
   "execution_count": 128,
   "id": "5dfcb276-2e70-400d-877a-f62bc7b3c190",
   "metadata": {},
   "outputs": [
    {
     "data": {
      "image/png": "[encoded data removed]",
      "text/plain": [
       "<Figure size 432x288 with 1 Axes>"
      ]
     },
     "metadata": {
      "needs_background": "light"
     },
     "output_type": "display_data"
    }
   ],
   "source": [
    "# Loss\n",
    "plt.plot(L(learn.recorder.values).itemgot(1));"
   ]
  },
  {
   "cell_type": "code",
   "execution_count": 129,
   "id": "3b84c93f-689a-4a49-869b-1ac9893d01e3",
   "metadata": {},
   "outputs": [
    {
     "data": {
      "text/plain": [
       "Sequential(\n",
       "  (0): Linear(in_features=784, out_features=30, bias=True)\n",
       "  (1): ReLU()\n",
       "  (2): Linear(in_features=30, out_features=1, bias=True)\n",
       ")"
      ]
     },
     "execution_count": 129,
     "metadata": {},
     "output_type": "execute_result"
    }
   ],
   "source": [
    "learn.model"
   ]
  },
  {
   "cell_type": "code",
   "execution_count": 130,
   "id": "ec1dad37-9226-42b8-8b5b-8c7cb9863e38",
   "metadata": {},
   "outputs": [
    {
     "data": {
      "text/plain": [
       "torch.Size([30, 784])"
      ]
     },
     "execution_count": 130,
     "metadata": {},
     "output_type": "execute_result"
    }
   ],
   "source": [
    "# Looking into our model,\n",
    "m = learn.model\n",
    "w,b = m[0].parameters()\n",
    "w.shape"
   ]
  },
  {
   "cell_type": "code",
   "execution_count": 136,
   "id": "bae8d8e3-687c-42d1-8b0d-9b62b12de00e",
   "metadata": {},
   "outputs": [],
   "source": [
    "# The weights parameters\n",
    "#w[0].view(28,28)"
   ]
  },
  {
   "cell_type": "code",
   "execution_count": 139,
   "id": "d8dd0f2f-a71b-4b87-95df-7248175f02b1",
   "metadata": {},
   "outputs": [
    {
     "data": {
      "text/plain": [
       "<AxesSubplot:>"
      ]
     },
     "execution_count": 139,
     "metadata": {},
     "output_type": "execute_result"
    },
    {
     "data": {
      "image/png": "[encoded data removed]",
      "text/plain": [
       "<Figure size 72x72 with 1 Axes>"
      ]
     },
     "metadata": {
      "needs_background": "light"
     },
     "output_type": "display_data"
    }
   ],
   "source": [
    "show_image(w[1].view(28,28))"
   ]
  },
  {
   "cell_type": "code",
   "execution_count": 133,
   "id": "37c91d62-7003-43e5-8b61-034a9bb818b7",
   "metadata": {},
   "outputs": [],
   "source": [
    "# We see what is happening here, the parameters show the image they are trying to find"
   ]
  },
  {
   "cell_type": "markdown",
   "id": "01be8066-0d02-48d7-a036-dd80581beefd",
   "metadata": {},
   "source": [
    "### Everything together"
   ]
  },
  {
   "cell_type": "code",
   "execution_count": 134,
   "id": "f3d040a9-8f11-43f1-93af-9fe09c0427cd",
   "metadata": {},
   "outputs": [],
   "source": [
    "dls = ImageDataLoaders.from_folder(path)"
   ]
  },
  {
   "cell_type": "code",
   "execution_count": 140,
   "id": "38f5fe51-4b95-42d7-acfb-edeb490459d7",
   "metadata": {},
   "outputs": [
    {
     "data": {
      "text/html": [
       "\n",
       "<style>\n",
       "    /* Turns off some styling */\n",
       "    progress {\n",
       "        /* gets rid of default border in Firefox and Opera. */\n",
       "        border: none;\n",
       "        /* Needs to be in here for Safari polyfill so background images work as expected. */\n",
       "        background-size: auto;\n",
       "    }\n",
       "    .progress-bar-interrupted, .progress-bar-interrupted::-webkit-progress-bar {\n",
       "        background: #F44336;\n",
       "    }\n",
       "</style>\n"
      ],
      "text/plain": [
       "<IPython.core.display.HTML object>"
      ]
     },
     "metadata": {},
     "output_type": "display_data"
    },
    {
     "data": {
      "text/html": [
       "<table border=\"1\" class=\"dataframe\">\n",
       "  <thead>\n",
       "    <tr style=\"text-align: left;\">\n",
       "      <th>epoch</th>\n",
       "      <th>train_loss</th>\n",
       "      <th>valid_loss</th>\n",
       "      <th>accuracy</th>\n",
       "      <th>time</th>\n",
       "    </tr>\n",
       "  </thead>\n",
       "  <tbody>\n",
       "    <tr>\n",
       "      <td>0</td>\n",
       "      <td>0.270136</td>\n",
       "      <td>0.075170</td>\n",
       "      <td>0.986752</td>\n",
       "      <td>00:08</td>\n",
       "    </tr>\n",
       "    <tr>\n",
       "      <td>1</td>\n",
       "      <td>0.026929</td>\n",
       "      <td>0.005702</td>\n",
       "      <td>0.998037</td>\n",
       "      <td>00:08</td>\n",
       "    </tr>\n",
       "  </tbody>\n",
       "</table>"
      ],
      "text/plain": [
       "<IPython.core.display.HTML object>"
      ]
     },
     "metadata": {},
     "output_type": "display_data"
    }
   ],
   "source": [
    "learn = cnn_learner(dls, resnet18, pretrained=False, loss_func=F.cross_entropy, metrics=accuracy)\n",
    "learn.fit_one_cycle(2,0.1)"
   ]
  },
  {
   "cell_type": "code",
   "execution_count": null,
   "id": "fb7b7ff8-0249-404e-92ca-8b41238b1223",
   "metadata": {},
   "outputs": [],
   "source": []
  }
 ],
 "metadata": {
  "environment": {
   "kernel": "python3",
   "name": "pytorch-gpu.1-11.m91",
   "type": "gcloud",
   "uri": "gcr.io/deeplearning-platform-release/pytorch-gpu.1-11:m91"
  },
  "kernelspec": {
   "display_name": "Python 3",
   "language": "python",
   "name": "python3"
  },
  "language_info": {
   "codemirror_mode": {
    "name": "ipython",
    "version": 3
   },
   "file_extension": ".py",
   "mimetype": "text/x-python",
   "name": "python",
   "nbconvert_exporter": "python",
   "pygments_lexer": "ipython3",
   "version": "3.7.12"
  }
 },
 "nbformat": 4,
 "nbformat_minor": 5
}
