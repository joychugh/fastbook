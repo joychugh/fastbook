{
 "cells": [
  {
   "cell_type": "code",
   "execution_count": 2,
   "id": "034b10f5-c375-4fbc-828c-b5bf18be69b9",
   "metadata": {},
   "outputs": [],
   "source": [
    "!pip install -Uqq fastbook\n",
    "import fastbook\n",
    "fastbook.setup_book()\n",
    "from fastai.vision.all import *\n",
    "from fastbook import *\n",
    "\n",
    "matplotlib.rc('image', cmap='Greys')"
   ]
  },
  {
   "cell_type": "code",
   "execution_count": 3,
   "id": "0ec0ac9a-cf7f-4f3c-8092-0053310f3f86",
   "metadata": {},
   "outputs": [],
   "source": [
    "path = untar_data(URLs.MNIST_SAMPLE)"
   ]
  },
  {
   "cell_type": "code",
   "execution_count": 4,
   "id": "07e55b1c-e5bd-4fdf-ad0a-051dc45b9210",
   "metadata": {},
   "outputs": [
    {
     "data": {
      "text/plain": [
       "Path('/home/jupyter/.fastai/data/mnist_sample')"
      ]
     },
     "execution_count": 4,
     "metadata": {},
     "output_type": "execute_result"
    }
   ],
   "source": [
    "path"
   ]
  },
  {
   "cell_type": "code",
   "execution_count": 5,
   "id": "5e685b13-81bc-4176-bc4c-a8b6972a685d",
   "metadata": {},
   "outputs": [],
   "source": [
    "Path.BASE_PATH = path"
   ]
  },
  {
   "cell_type": "code",
   "execution_count": 6,
   "id": "4e9628b0-d27d-4b9d-8a7a-888330cc7073",
   "metadata": {},
   "outputs": [
    {
     "data": {
      "text/plain": [
       "(#3) [Path('labels.csv'),Path('valid'),Path('train')]"
      ]
     },
     "execution_count": 6,
     "metadata": {},
     "output_type": "execute_result"
    }
   ],
   "source": [
    "path.ls()"
   ]
  },
  {
   "cell_type": "code",
   "execution_count": 7,
   "id": "07b02500-58ea-4645-b48a-c53670cf4e93",
   "metadata": {},
   "outputs": [
    {
     "data": {
      "text/plain": [
       "(#2) [Path('train/3'),Path('train/7')]"
      ]
     },
     "execution_count": 7,
     "metadata": {},
     "output_type": "execute_result"
    }
   ],
   "source": [
    "(path/'train').ls()\n",
    "# Path is PosixPath object and / is overloaded to append to path more like path.join(a,b)"
   ]
  },
  {
   "cell_type": "code",
   "execution_count": 8,
   "id": "2d023465-37e5-4704-a0e8-67f6d1371822",
   "metadata": {},
   "outputs": [],
   "source": [
    "threes = (path/'train'/'3').ls().sorted()\n",
    "sevens = (path/'train'/'7').ls().sorted()\n"
   ]
  },
  {
   "cell_type": "code",
   "execution_count": 9,
   "id": "ef41def9-5924-435d-b34c-3899b8c7b351",
   "metadata": {},
   "outputs": [],
   "source": [
    "im3 = Image.open(threes[3])"
   ]
  },
  {
   "cell_type": "code",
   "execution_count": 10,
   "id": "31617ce9-546d-4d14-8075-0de67df4d842",
   "metadata": {},
   "outputs": [
    {
     "data": {
      "text/plain": [
       "array([[  0,   0,   0,   0,   0,   0],\n",
       "       [  0,   0,   0,   0,   0,   0],\n",
       "       [  0,   0,   0,   0,   0, 178],\n",
       "       [  0,   0,   0,   0,   0, 186],\n",
       "       [  0,   0,   0,   0,   0, 186],\n",
       "       [  0,   0,   0,   0,   0,  39]], dtype=uint8)"
      ]
     },
     "execution_count": 10,
     "metadata": {},
     "output_type": "execute_result"
    }
   ],
   "source": [
    "array(im3)[4:10,4:10]"
   ]
  },
  {
   "cell_type": "code",
   "execution_count": 11,
   "id": "2d0112b2-2006-4b00-a5e9-0c7cdbde141f",
   "metadata": {},
   "outputs": [
    {
     "data": {
      "text/plain": [
       "tensor([[  0,   0,   0,   0,   0,   0],\n",
       "        [  0,   0,   0,   0,   0,   0],\n",
       "        [  0,   0,   0,   0,   0, 178],\n",
       "        [  0,   0,   0,   0,   0, 186],\n",
       "        [  0,   0,   0,   0,   0, 186],\n",
       "        [  0,   0,   0,   0,   0,  39]], dtype=torch.uint8)"
      ]
     },
     "execution_count": 11,
     "metadata": {},
     "output_type": "execute_result"
    }
   ],
   "source": [
    "tensor(im3)[4:10, 4:10]"
   ]
  },
  {
   "cell_type": "code",
   "execution_count": 12,
   "id": "39e083a4-e1ac-42e9-93fd-aef5a2834db9",
   "metadata": {},
   "outputs": [
    {
     "data": {
      "text/plain": [
       "torch.Size([28, 28])"
      ]
     },
     "execution_count": 12,
     "metadata": {},
     "output_type": "execute_result"
    }
   ],
   "source": [
    "tensor(im3).shape"
   ]
  },
  {
   "cell_type": "code",
   "execution_count": 13,
   "id": "1bfc64bb-fc34-4b8f-9e4d-3e193a2f2389",
   "metadata": {},
   "outputs": [
    {
     "data": {
      "text/html": [
       "<style type=\"text/css\">\n",
       "#T_908d5_row0_col0, #T_908d5_row0_col1, #T_908d5_row0_col2, #T_908d5_row0_col3, #T_908d5_row0_col4, #T_908d5_row0_col5, #T_908d5_row0_col6, #T_908d5_row0_col7, #T_908d5_row0_col8, #T_908d5_row0_col9, #T_908d5_row0_col10, #T_908d5_row0_col11, #T_908d5_row0_col12, #T_908d5_row0_col13, #T_908d5_row0_col14, #T_908d5_row0_col15, #T_908d5_row0_col16, #T_908d5_row0_col17, #T_908d5_row1_col0, #T_908d5_row1_col1, #T_908d5_row1_col2, #T_908d5_row1_col3, #T_908d5_row1_col4, #T_908d5_row1_col5, #T_908d5_row1_col16, #T_908d5_row1_col17, #T_908d5_row2_col0, #T_908d5_row2_col1, #T_908d5_row2_col2, #T_908d5_row2_col3, #T_908d5_row2_col4, #T_908d5_row2_col17, #T_908d5_row3_col0, #T_908d5_row3_col1, #T_908d5_row3_col2, #T_908d5_row3_col3, #T_908d5_row3_col4, #T_908d5_row3_col17, #T_908d5_row4_col0, #T_908d5_row4_col1, #T_908d5_row4_col2, #T_908d5_row4_col3, #T_908d5_row4_col4, #T_908d5_row4_col17, #T_908d5_row5_col0, #T_908d5_row5_col1, #T_908d5_row5_col2, #T_908d5_row5_col3, #T_908d5_row5_col4, #T_908d5_row5_col8, #T_908d5_row5_col9, #T_908d5_row5_col10, #T_908d5_row5_col17, #T_908d5_row6_col0, #T_908d5_row6_col1, #T_908d5_row6_col2, #T_908d5_row6_col3, #T_908d5_row6_col4, #T_908d5_row6_col5, #T_908d5_row6_col6, #T_908d5_row6_col7, #T_908d5_row6_col8, #T_908d5_row6_col9, #T_908d5_row6_col17, #T_908d5_row7_col0, #T_908d5_row7_col1, #T_908d5_row7_col2, #T_908d5_row7_col3, #T_908d5_row7_col4, #T_908d5_row7_col5, #T_908d5_row7_col6, #T_908d5_row7_col7, #T_908d5_row7_col16, #T_908d5_row7_col17, #T_908d5_row8_col0, #T_908d5_row8_col1, #T_908d5_row8_col2, #T_908d5_row8_col3, #T_908d5_row8_col4, #T_908d5_row8_col5, #T_908d5_row8_col17, #T_908d5_row9_col0, #T_908d5_row9_col1, #T_908d5_row9_col2, #T_908d5_row9_col3, #T_908d5_row9_col4, #T_908d5_row9_col17, #T_908d5_row10_col0, #T_908d5_row10_col1, #T_908d5_row10_col2, #T_908d5_row10_col3, #T_908d5_row10_col4 {\n",
       "  font-size: 6pt;\n",
       "  background-color: #ffffff;\n",
       "  color: #000000;\n",
       "}\n",
       "#T_908d5_row1_col6 {\n",
       "  font-size: 6pt;\n",
       "  background-color: #b2b2b2;\n",
       "  color: #000000;\n",
       "}\n",
       "#T_908d5_row1_col7, #T_908d5_row1_col8, #T_908d5_row1_col9, #T_908d5_row1_col10, #T_908d5_row1_col11, #T_908d5_row1_col12, #T_908d5_row1_col13, #T_908d5_row2_col14, #T_908d5_row3_col5, #T_908d5_row3_col6, #T_908d5_row3_col14, #T_908d5_row3_col15, #T_908d5_row4_col5, #T_908d5_row4_col6, #T_908d5_row4_col14, #T_908d5_row4_col15, #T_908d5_row5_col14, #T_908d5_row5_col15, #T_908d5_row6_col14, #T_908d5_row9_col14, #T_908d5_row9_col15, #T_908d5_row10_col5, #T_908d5_row10_col6, #T_908d5_row10_col15, #T_908d5_row10_col16, #T_908d5_row10_col17 {\n",
       "  font-size: 6pt;\n",
       "  background-color: #000000;\n",
       "  color: #f1f1f1;\n",
       "}\n",
       "#T_908d5_row1_col14, #T_908d5_row4_col13 {\n",
       "  font-size: 6pt;\n",
       "  background-color: #282828;\n",
       "  color: #f1f1f1;\n",
       "}\n",
       "#T_908d5_row1_col15 {\n",
       "  font-size: 6pt;\n",
       "  background-color: #f0f0f0;\n",
       "  color: #000000;\n",
       "}\n",
       "#T_908d5_row2_col5 {\n",
       "  font-size: 6pt;\n",
       "  background-color: #0d0d0d;\n",
       "  color: #f1f1f1;\n",
       "}\n",
       "#T_908d5_row2_col6 {\n",
       "  font-size: 6pt;\n",
       "  background-color: #050505;\n",
       "  color: #f1f1f1;\n",
       "}\n",
       "#T_908d5_row2_col7, #T_908d5_row2_col8, #T_908d5_row2_col9, #T_908d5_row2_col11, #T_908d5_row2_col12, #T_908d5_row2_col13, #T_908d5_row3_col7, #T_908d5_row3_col8, #T_908d5_row3_col9, #T_908d5_row3_col11, #T_908d5_row3_col12, #T_908d5_row3_col13, #T_908d5_row6_col12, #T_908d5_row6_col13, #T_908d5_row7_col11, #T_908d5_row7_col12, #T_908d5_row7_col13, #T_908d5_row8_col9, #T_908d5_row8_col11, #T_908d5_row8_col12, #T_908d5_row8_col13, #T_908d5_row9_col7, #T_908d5_row9_col8, #T_908d5_row9_col9, #T_908d5_row9_col11, #T_908d5_row9_col12, #T_908d5_row9_col13, #T_908d5_row10_col7, #T_908d5_row10_col8, #T_908d5_row10_col9, #T_908d5_row10_col11, #T_908d5_row10_col12 {\n",
       "  font-size: 6pt;\n",
       "  background-color: #010101;\n",
       "  color: #f1f1f1;\n",
       "}\n",
       "#T_908d5_row2_col10, #T_908d5_row3_col10, #T_908d5_row7_col10, #T_908d5_row8_col10, #T_908d5_row9_col10, #T_908d5_row10_col10 {\n",
       "  font-size: 6pt;\n",
       "  background-color: #020202;\n",
       "  color: #f1f1f1;\n",
       "}\n",
       "#T_908d5_row2_col15 {\n",
       "  font-size: 6pt;\n",
       "  background-color: #2c2c2c;\n",
       "  color: #f1f1f1;\n",
       "}\n",
       "#T_908d5_row2_col16 {\n",
       "  font-size: 6pt;\n",
       "  background-color: #ececec;\n",
       "  color: #000000;\n",
       "}\n",
       "#T_908d5_row3_col16, #T_908d5_row4_col16, #T_908d5_row5_col16 {\n",
       "  font-size: 6pt;\n",
       "  background-color: #c5c5c5;\n",
       "  color: #000000;\n",
       "}\n",
       "#T_908d5_row4_col7 {\n",
       "  font-size: 6pt;\n",
       "  background-color: #0c0c0c;\n",
       "  color: #f1f1f1;\n",
       "}\n",
       "#T_908d5_row4_col8, #T_908d5_row4_col9 {\n",
       "  font-size: 6pt;\n",
       "  background-color: #646464;\n",
       "  color: #f1f1f1;\n",
       "}\n",
       "#T_908d5_row4_col10, #T_908d5_row4_col11, #T_908d5_row4_col12 {\n",
       "  font-size: 6pt;\n",
       "  background-color: #ebebeb;\n",
       "  color: #000000;\n",
       "}\n",
       "#T_908d5_row5_col5, #T_908d5_row5_col6 {\n",
       "  font-size: 6pt;\n",
       "  background-color: #e1e1e1;\n",
       "  color: #000000;\n",
       "}\n",
       "#T_908d5_row5_col7 {\n",
       "  font-size: 6pt;\n",
       "  background-color: #e5e5e5;\n",
       "  color: #000000;\n",
       "}\n",
       "#T_908d5_row5_col11 {\n",
       "  font-size: 6pt;\n",
       "  background-color: #f1f1f1;\n",
       "  color: #000000;\n",
       "}\n",
       "#T_908d5_row5_col12 {\n",
       "  font-size: 6pt;\n",
       "  background-color: #a2a2a2;\n",
       "  color: #f1f1f1;\n",
       "}\n",
       "#T_908d5_row5_col13 {\n",
       "  font-size: 6pt;\n",
       "  background-color: #0a0a0a;\n",
       "  color: #f1f1f1;\n",
       "}\n",
       "#T_908d5_row6_col10 {\n",
       "  font-size: 6pt;\n",
       "  background-color: #e0e0e0;\n",
       "  color: #000000;\n",
       "}\n",
       "#T_908d5_row6_col11 {\n",
       "  font-size: 6pt;\n",
       "  background-color: #383838;\n",
       "  color: #f1f1f1;\n",
       "}\n",
       "#T_908d5_row6_col15 {\n",
       "  font-size: 6pt;\n",
       "  background-color: #575757;\n",
       "  color: #f1f1f1;\n",
       "}\n",
       "#T_908d5_row6_col16 {\n",
       "  font-size: 6pt;\n",
       "  background-color: #f4f4f4;\n",
       "  color: #000000;\n",
       "}\n",
       "#T_908d5_row7_col8 {\n",
       "  font-size: 6pt;\n",
       "  background-color: #fefefe;\n",
       "  color: #000000;\n",
       "}\n",
       "#T_908d5_row7_col9, #T_908d5_row8_col7 {\n",
       "  font-size: 6pt;\n",
       "  background-color: #e9e9e9;\n",
       "  color: #000000;\n",
       "}\n",
       "#T_908d5_row7_col14 {\n",
       "  font-size: 6pt;\n",
       "  background-color: #393939;\n",
       "  color: #f1f1f1;\n",
       "}\n",
       "#T_908d5_row7_col15 {\n",
       "  font-size: 6pt;\n",
       "  background-color: #f5f5f5;\n",
       "  color: #000000;\n",
       "}\n",
       "#T_908d5_row8_col6 {\n",
       "  font-size: 6pt;\n",
       "  background-color: #fdfdfd;\n",
       "  color: #000000;\n",
       "}\n",
       "#T_908d5_row8_col8 {\n",
       "  font-size: 6pt;\n",
       "  background-color: #6c6c6c;\n",
       "  color: #f1f1f1;\n",
       "}\n",
       "#T_908d5_row8_col14 {\n",
       "  font-size: 6pt;\n",
       "  background-color: #1d1d1d;\n",
       "  color: #f1f1f1;\n",
       "}\n",
       "#T_908d5_row8_col15 {\n",
       "  font-size: 6pt;\n",
       "  background-color: #909090;\n",
       "  color: #f1f1f1;\n",
       "}\n",
       "#T_908d5_row8_col16 {\n",
       "  font-size: 6pt;\n",
       "  background-color: #fbfbfb;\n",
       "  color: #000000;\n",
       "}\n",
       "#T_908d5_row9_col5 {\n",
       "  font-size: 6pt;\n",
       "  background-color: #7d7d7d;\n",
       "  color: #f1f1f1;\n",
       "}\n",
       "#T_908d5_row9_col6 {\n",
       "  font-size: 6pt;\n",
       "  background-color: #6d6d6d;\n",
       "  color: #f1f1f1;\n",
       "}\n",
       "#T_908d5_row9_col16 {\n",
       "  font-size: 6pt;\n",
       "  background-color: #676767;\n",
       "  color: #f1f1f1;\n",
       "}\n",
       "#T_908d5_row10_col13 {\n",
       "  font-size: 6pt;\n",
       "  background-color: #888888;\n",
       "  color: #f1f1f1;\n",
       "}\n",
       "#T_908d5_row10_col14 {\n",
       "  font-size: 6pt;\n",
       "  background-color: #212121;\n",
       "  color: #f1f1f1;\n",
       "}\n",
       "</style>\n",
       "<table id=\"T_908d5_\">\n",
       "  <thead>\n",
       "    <tr>\n",
       "      <th class=\"blank level0\" >&nbsp;</th>\n",
       "      <th class=\"col_heading level0 col0\" >0</th>\n",
       "      <th class=\"col_heading level0 col1\" >1</th>\n",
       "      <th class=\"col_heading level0 col2\" >2</th>\n",
       "      <th class=\"col_heading level0 col3\" >3</th>\n",
       "      <th class=\"col_heading level0 col4\" >4</th>\n",
       "      <th class=\"col_heading level0 col5\" >5</th>\n",
       "      <th class=\"col_heading level0 col6\" >6</th>\n",
       "      <th class=\"col_heading level0 col7\" >7</th>\n",
       "      <th class=\"col_heading level0 col8\" >8</th>\n",
       "      <th class=\"col_heading level0 col9\" >9</th>\n",
       "      <th class=\"col_heading level0 col10\" >10</th>\n",
       "      <th class=\"col_heading level0 col11\" >11</th>\n",
       "      <th class=\"col_heading level0 col12\" >12</th>\n",
       "      <th class=\"col_heading level0 col13\" >13</th>\n",
       "      <th class=\"col_heading level0 col14\" >14</th>\n",
       "      <th class=\"col_heading level0 col15\" >15</th>\n",
       "      <th class=\"col_heading level0 col16\" >16</th>\n",
       "      <th class=\"col_heading level0 col17\" >17</th>\n",
       "    </tr>\n",
       "  </thead>\n",
       "  <tbody>\n",
       "    <tr>\n",
       "      <th id=\"T_908d5_level0_row0\" class=\"row_heading level0 row0\" >0</th>\n",
       "      <td id=\"T_908d5_row0_col0\" class=\"data row0 col0\" >0</td>\n",
       "      <td id=\"T_908d5_row0_col1\" class=\"data row0 col1\" >0</td>\n",
       "      <td id=\"T_908d5_row0_col2\" class=\"data row0 col2\" >0</td>\n",
       "      <td id=\"T_908d5_row0_col3\" class=\"data row0 col3\" >0</td>\n",
       "      <td id=\"T_908d5_row0_col4\" class=\"data row0 col4\" >0</td>\n",
       "      <td id=\"T_908d5_row0_col5\" class=\"data row0 col5\" >0</td>\n",
       "      <td id=\"T_908d5_row0_col6\" class=\"data row0 col6\" >0</td>\n",
       "      <td id=\"T_908d5_row0_col7\" class=\"data row0 col7\" >0</td>\n",
       "      <td id=\"T_908d5_row0_col8\" class=\"data row0 col8\" >0</td>\n",
       "      <td id=\"T_908d5_row0_col9\" class=\"data row0 col9\" >0</td>\n",
       "      <td id=\"T_908d5_row0_col10\" class=\"data row0 col10\" >0</td>\n",
       "      <td id=\"T_908d5_row0_col11\" class=\"data row0 col11\" >0</td>\n",
       "      <td id=\"T_908d5_row0_col12\" class=\"data row0 col12\" >0</td>\n",
       "      <td id=\"T_908d5_row0_col13\" class=\"data row0 col13\" >0</td>\n",
       "      <td id=\"T_908d5_row0_col14\" class=\"data row0 col14\" >0</td>\n",
       "      <td id=\"T_908d5_row0_col15\" class=\"data row0 col15\" >0</td>\n",
       "      <td id=\"T_908d5_row0_col16\" class=\"data row0 col16\" >0</td>\n",
       "      <td id=\"T_908d5_row0_col17\" class=\"data row0 col17\" >0</td>\n",
       "    </tr>\n",
       "    <tr>\n",
       "      <th id=\"T_908d5_level0_row1\" class=\"row_heading level0 row1\" >1</th>\n",
       "      <td id=\"T_908d5_row1_col0\" class=\"data row1 col0\" >0</td>\n",
       "      <td id=\"T_908d5_row1_col1\" class=\"data row1 col1\" >0</td>\n",
       "      <td id=\"T_908d5_row1_col2\" class=\"data row1 col2\" >0</td>\n",
       "      <td id=\"T_908d5_row1_col3\" class=\"data row1 col3\" >0</td>\n",
       "      <td id=\"T_908d5_row1_col4\" class=\"data row1 col4\" >0</td>\n",
       "      <td id=\"T_908d5_row1_col5\" class=\"data row1 col5\" >0</td>\n",
       "      <td id=\"T_908d5_row1_col6\" class=\"data row1 col6\" >104</td>\n",
       "      <td id=\"T_908d5_row1_col7\" class=\"data row1 col7\" >253</td>\n",
       "      <td id=\"T_908d5_row1_col8\" class=\"data row1 col8\" >253</td>\n",
       "      <td id=\"T_908d5_row1_col9\" class=\"data row1 col9\" >253</td>\n",
       "      <td id=\"T_908d5_row1_col10\" class=\"data row1 col10\" >255</td>\n",
       "      <td id=\"T_908d5_row1_col11\" class=\"data row1 col11\" >253</td>\n",
       "      <td id=\"T_908d5_row1_col12\" class=\"data row1 col12\" >253</td>\n",
       "      <td id=\"T_908d5_row1_col13\" class=\"data row1 col13\" >253</td>\n",
       "      <td id=\"T_908d5_row1_col14\" class=\"data row1 col14\" >218</td>\n",
       "      <td id=\"T_908d5_row1_col15\" class=\"data row1 col15\" >32</td>\n",
       "      <td id=\"T_908d5_row1_col16\" class=\"data row1 col16\" >0</td>\n",
       "      <td id=\"T_908d5_row1_col17\" class=\"data row1 col17\" >0</td>\n",
       "    </tr>\n",
       "    <tr>\n",
       "      <th id=\"T_908d5_level0_row2\" class=\"row_heading level0 row2\" >2</th>\n",
       "      <td id=\"T_908d5_row2_col0\" class=\"data row2 col0\" >0</td>\n",
       "      <td id=\"T_908d5_row2_col1\" class=\"data row2 col1\" >0</td>\n",
       "      <td id=\"T_908d5_row2_col2\" class=\"data row2 col2\" >0</td>\n",
       "      <td id=\"T_908d5_row2_col3\" class=\"data row2 col3\" >0</td>\n",
       "      <td id=\"T_908d5_row2_col4\" class=\"data row2 col4\" >0</td>\n",
       "      <td id=\"T_908d5_row2_col5\" class=\"data row2 col5\" >178</td>\n",
       "      <td id=\"T_908d5_row2_col6\" class=\"data row2 col6\" >248</td>\n",
       "      <td id=\"T_908d5_row2_col7\" class=\"data row2 col7\" >252</td>\n",
       "      <td id=\"T_908d5_row2_col8\" class=\"data row2 col8\" >252</td>\n",
       "      <td id=\"T_908d5_row2_col9\" class=\"data row2 col9\" >252</td>\n",
       "      <td id=\"T_908d5_row2_col10\" class=\"data row2 col10\" >253</td>\n",
       "      <td id=\"T_908d5_row2_col11\" class=\"data row2 col11\" >252</td>\n",
       "      <td id=\"T_908d5_row2_col12\" class=\"data row2 col12\" >252</td>\n",
       "      <td id=\"T_908d5_row2_col13\" class=\"data row2 col13\" >252</td>\n",
       "      <td id=\"T_908d5_row2_col14\" class=\"data row2 col14\" >252</td>\n",
       "      <td id=\"T_908d5_row2_col15\" class=\"data row2 col15\" >215</td>\n",
       "      <td id=\"T_908d5_row2_col16\" class=\"data row2 col16\" >34</td>\n",
       "      <td id=\"T_908d5_row2_col17\" class=\"data row2 col17\" >0</td>\n",
       "    </tr>\n",
       "    <tr>\n",
       "      <th id=\"T_908d5_level0_row3\" class=\"row_heading level0 row3\" >3</th>\n",
       "      <td id=\"T_908d5_row3_col0\" class=\"data row3 col0\" >0</td>\n",
       "      <td id=\"T_908d5_row3_col1\" class=\"data row3 col1\" >0</td>\n",
       "      <td id=\"T_908d5_row3_col2\" class=\"data row3 col2\" >0</td>\n",
       "      <td id=\"T_908d5_row3_col3\" class=\"data row3 col3\" >0</td>\n",
       "      <td id=\"T_908d5_row3_col4\" class=\"data row3 col4\" >0</td>\n",
       "      <td id=\"T_908d5_row3_col5\" class=\"data row3 col5\" >186</td>\n",
       "      <td id=\"T_908d5_row3_col6\" class=\"data row3 col6\" >252</td>\n",
       "      <td id=\"T_908d5_row3_col7\" class=\"data row3 col7\" >252</td>\n",
       "      <td id=\"T_908d5_row3_col8\" class=\"data row3 col8\" >252</td>\n",
       "      <td id=\"T_908d5_row3_col9\" class=\"data row3 col9\" >252</td>\n",
       "      <td id=\"T_908d5_row3_col10\" class=\"data row3 col10\" >253</td>\n",
       "      <td id=\"T_908d5_row3_col11\" class=\"data row3 col11\" >252</td>\n",
       "      <td id=\"T_908d5_row3_col12\" class=\"data row3 col12\" >252</td>\n",
       "      <td id=\"T_908d5_row3_col13\" class=\"data row3 col13\" >252</td>\n",
       "      <td id=\"T_908d5_row3_col14\" class=\"data row3 col14\" >252</td>\n",
       "      <td id=\"T_908d5_row3_col15\" class=\"data row3 col15\" >252</td>\n",
       "      <td id=\"T_908d5_row3_col16\" class=\"data row3 col16\" >79</td>\n",
       "      <td id=\"T_908d5_row3_col17\" class=\"data row3 col17\" >0</td>\n",
       "    </tr>\n",
       "    <tr>\n",
       "      <th id=\"T_908d5_level0_row4\" class=\"row_heading level0 row4\" >4</th>\n",
       "      <td id=\"T_908d5_row4_col0\" class=\"data row4 col0\" >0</td>\n",
       "      <td id=\"T_908d5_row4_col1\" class=\"data row4 col1\" >0</td>\n",
       "      <td id=\"T_908d5_row4_col2\" class=\"data row4 col2\" >0</td>\n",
       "      <td id=\"T_908d5_row4_col3\" class=\"data row4 col3\" >0</td>\n",
       "      <td id=\"T_908d5_row4_col4\" class=\"data row4 col4\" >0</td>\n",
       "      <td id=\"T_908d5_row4_col5\" class=\"data row4 col5\" >186</td>\n",
       "      <td id=\"T_908d5_row4_col6\" class=\"data row4 col6\" >252</td>\n",
       "      <td id=\"T_908d5_row4_col7\" class=\"data row4 col7\" >243</td>\n",
       "      <td id=\"T_908d5_row4_col8\" class=\"data row4 col8\" >172</td>\n",
       "      <td id=\"T_908d5_row4_col9\" class=\"data row4 col9\" >172</td>\n",
       "      <td id=\"T_908d5_row4_col10\" class=\"data row4 col10\" >39</td>\n",
       "      <td id=\"T_908d5_row4_col11\" class=\"data row4 col11\" >39</td>\n",
       "      <td id=\"T_908d5_row4_col12\" class=\"data row4 col12\" >39</td>\n",
       "      <td id=\"T_908d5_row4_col13\" class=\"data row4 col13\" >219</td>\n",
       "      <td id=\"T_908d5_row4_col14\" class=\"data row4 col14\" >252</td>\n",
       "      <td id=\"T_908d5_row4_col15\" class=\"data row4 col15\" >252</td>\n",
       "      <td id=\"T_908d5_row4_col16\" class=\"data row4 col16\" >79</td>\n",
       "      <td id=\"T_908d5_row4_col17\" class=\"data row4 col17\" >0</td>\n",
       "    </tr>\n",
       "    <tr>\n",
       "      <th id=\"T_908d5_level0_row5\" class=\"row_heading level0 row5\" >5</th>\n",
       "      <td id=\"T_908d5_row5_col0\" class=\"data row5 col0\" >0</td>\n",
       "      <td id=\"T_908d5_row5_col1\" class=\"data row5 col1\" >0</td>\n",
       "      <td id=\"T_908d5_row5_col2\" class=\"data row5 col2\" >0</td>\n",
       "      <td id=\"T_908d5_row5_col3\" class=\"data row5 col3\" >0</td>\n",
       "      <td id=\"T_908d5_row5_col4\" class=\"data row5 col4\" >0</td>\n",
       "      <td id=\"T_908d5_row5_col5\" class=\"data row5 col5\" >39</td>\n",
       "      <td id=\"T_908d5_row5_col6\" class=\"data row5 col6\" >53</td>\n",
       "      <td id=\"T_908d5_row5_col7\" class=\"data row5 col7\" >47</td>\n",
       "      <td id=\"T_908d5_row5_col8\" class=\"data row5 col8\" >0</td>\n",
       "      <td id=\"T_908d5_row5_col9\" class=\"data row5 col9\" >0</td>\n",
       "      <td id=\"T_908d5_row5_col10\" class=\"data row5 col10\" >0</td>\n",
       "      <td id=\"T_908d5_row5_col11\" class=\"data row5 col11\" >29</td>\n",
       "      <td id=\"T_908d5_row5_col12\" class=\"data row5 col12\" >117</td>\n",
       "      <td id=\"T_908d5_row5_col13\" class=\"data row5 col13\" >244</td>\n",
       "      <td id=\"T_908d5_row5_col14\" class=\"data row5 col14\" >252</td>\n",
       "      <td id=\"T_908d5_row5_col15\" class=\"data row5 col15\" >252</td>\n",
       "      <td id=\"T_908d5_row5_col16\" class=\"data row5 col16\" >79</td>\n",
       "      <td id=\"T_908d5_row5_col17\" class=\"data row5 col17\" >0</td>\n",
       "    </tr>\n",
       "    <tr>\n",
       "      <th id=\"T_908d5_level0_row6\" class=\"row_heading level0 row6\" >6</th>\n",
       "      <td id=\"T_908d5_row6_col0\" class=\"data row6 col0\" >0</td>\n",
       "      <td id=\"T_908d5_row6_col1\" class=\"data row6 col1\" >0</td>\n",
       "      <td id=\"T_908d5_row6_col2\" class=\"data row6 col2\" >0</td>\n",
       "      <td id=\"T_908d5_row6_col3\" class=\"data row6 col3\" >0</td>\n",
       "      <td id=\"T_908d5_row6_col4\" class=\"data row6 col4\" >0</td>\n",
       "      <td id=\"T_908d5_row6_col5\" class=\"data row6 col5\" >0</td>\n",
       "      <td id=\"T_908d5_row6_col6\" class=\"data row6 col6\" >0</td>\n",
       "      <td id=\"T_908d5_row6_col7\" class=\"data row6 col7\" >0</td>\n",
       "      <td id=\"T_908d5_row6_col8\" class=\"data row6 col8\" >0</td>\n",
       "      <td id=\"T_908d5_row6_col9\" class=\"data row6 col9\" >0</td>\n",
       "      <td id=\"T_908d5_row6_col10\" class=\"data row6 col10\" >54</td>\n",
       "      <td id=\"T_908d5_row6_col11\" class=\"data row6 col11\" >208</td>\n",
       "      <td id=\"T_908d5_row6_col12\" class=\"data row6 col12\" >252</td>\n",
       "      <td id=\"T_908d5_row6_col13\" class=\"data row6 col13\" >252</td>\n",
       "      <td id=\"T_908d5_row6_col14\" class=\"data row6 col14\" >252</td>\n",
       "      <td id=\"T_908d5_row6_col15\" class=\"data row6 col15\" >184</td>\n",
       "      <td id=\"T_908d5_row6_col16\" class=\"data row6 col16\" >21</td>\n",
       "      <td id=\"T_908d5_row6_col17\" class=\"data row6 col17\" >0</td>\n",
       "    </tr>\n",
       "    <tr>\n",
       "      <th id=\"T_908d5_level0_row7\" class=\"row_heading level0 row7\" >7</th>\n",
       "      <td id=\"T_908d5_row7_col0\" class=\"data row7 col0\" >0</td>\n",
       "      <td id=\"T_908d5_row7_col1\" class=\"data row7 col1\" >0</td>\n",
       "      <td id=\"T_908d5_row7_col2\" class=\"data row7 col2\" >0</td>\n",
       "      <td id=\"T_908d5_row7_col3\" class=\"data row7 col3\" >0</td>\n",
       "      <td id=\"T_908d5_row7_col4\" class=\"data row7 col4\" >0</td>\n",
       "      <td id=\"T_908d5_row7_col5\" class=\"data row7 col5\" >0</td>\n",
       "      <td id=\"T_908d5_row7_col6\" class=\"data row7 col6\" >0</td>\n",
       "      <td id=\"T_908d5_row7_col7\" class=\"data row7 col7\" >0</td>\n",
       "      <td id=\"T_908d5_row7_col8\" class=\"data row7 col8\" >3</td>\n",
       "      <td id=\"T_908d5_row7_col9\" class=\"data row7 col9\" >41</td>\n",
       "      <td id=\"T_908d5_row7_col10\" class=\"data row7 col10\" >253</td>\n",
       "      <td id=\"T_908d5_row7_col11\" class=\"data row7 col11\" >252</td>\n",
       "      <td id=\"T_908d5_row7_col12\" class=\"data row7 col12\" >252</td>\n",
       "      <td id=\"T_908d5_row7_col13\" class=\"data row7 col13\" >252</td>\n",
       "      <td id=\"T_908d5_row7_col14\" class=\"data row7 col14\" >206</td>\n",
       "      <td id=\"T_908d5_row7_col15\" class=\"data row7 col15\" >21</td>\n",
       "      <td id=\"T_908d5_row7_col16\" class=\"data row7 col16\" >0</td>\n",
       "      <td id=\"T_908d5_row7_col17\" class=\"data row7 col17\" >0</td>\n",
       "    </tr>\n",
       "    <tr>\n",
       "      <th id=\"T_908d5_level0_row8\" class=\"row_heading level0 row8\" >8</th>\n",
       "      <td id=\"T_908d5_row8_col0\" class=\"data row8 col0\" >0</td>\n",
       "      <td id=\"T_908d5_row8_col1\" class=\"data row8 col1\" >0</td>\n",
       "      <td id=\"T_908d5_row8_col2\" class=\"data row8 col2\" >0</td>\n",
       "      <td id=\"T_908d5_row8_col3\" class=\"data row8 col3\" >0</td>\n",
       "      <td id=\"T_908d5_row8_col4\" class=\"data row8 col4\" >0</td>\n",
       "      <td id=\"T_908d5_row8_col5\" class=\"data row8 col5\" >0</td>\n",
       "      <td id=\"T_908d5_row8_col6\" class=\"data row8 col6\" >5</td>\n",
       "      <td id=\"T_908d5_row8_col7\" class=\"data row8 col7\" >41</td>\n",
       "      <td id=\"T_908d5_row8_col8\" class=\"data row8 col8\" >165</td>\n",
       "      <td id=\"T_908d5_row8_col9\" class=\"data row8 col9\" >252</td>\n",
       "      <td id=\"T_908d5_row8_col10\" class=\"data row8 col10\" >253</td>\n",
       "      <td id=\"T_908d5_row8_col11\" class=\"data row8 col11\" >252</td>\n",
       "      <td id=\"T_908d5_row8_col12\" class=\"data row8 col12\" >252</td>\n",
       "      <td id=\"T_908d5_row8_col13\" class=\"data row8 col13\" >252</td>\n",
       "      <td id=\"T_908d5_row8_col14\" class=\"data row8 col14\" >227</td>\n",
       "      <td id=\"T_908d5_row8_col15\" class=\"data row8 col15\" >131</td>\n",
       "      <td id=\"T_908d5_row8_col16\" class=\"data row8 col16\" >9</td>\n",
       "      <td id=\"T_908d5_row8_col17\" class=\"data row8 col17\" >0</td>\n",
       "    </tr>\n",
       "    <tr>\n",
       "      <th id=\"T_908d5_level0_row9\" class=\"row_heading level0 row9\" >9</th>\n",
       "      <td id=\"T_908d5_row9_col0\" class=\"data row9 col0\" >0</td>\n",
       "      <td id=\"T_908d5_row9_col1\" class=\"data row9 col1\" >0</td>\n",
       "      <td id=\"T_908d5_row9_col2\" class=\"data row9 col2\" >0</td>\n",
       "      <td id=\"T_908d5_row9_col3\" class=\"data row9 col3\" >0</td>\n",
       "      <td id=\"T_908d5_row9_col4\" class=\"data row9 col4\" >0</td>\n",
       "      <td id=\"T_908d5_row9_col5\" class=\"data row9 col5\" >109</td>\n",
       "      <td id=\"T_908d5_row9_col6\" class=\"data row9 col6\" >163</td>\n",
       "      <td id=\"T_908d5_row9_col7\" class=\"data row9 col7\" >252</td>\n",
       "      <td id=\"T_908d5_row9_col8\" class=\"data row9 col8\" >252</td>\n",
       "      <td id=\"T_908d5_row9_col9\" class=\"data row9 col9\" >252</td>\n",
       "      <td id=\"T_908d5_row9_col10\" class=\"data row9 col10\" >253</td>\n",
       "      <td id=\"T_908d5_row9_col11\" class=\"data row9 col11\" >252</td>\n",
       "      <td id=\"T_908d5_row9_col12\" class=\"data row9 col12\" >252</td>\n",
       "      <td id=\"T_908d5_row9_col13\" class=\"data row9 col13\" >252</td>\n",
       "      <td id=\"T_908d5_row9_col14\" class=\"data row9 col14\" >252</td>\n",
       "      <td id=\"T_908d5_row9_col15\" class=\"data row9 col15\" >252</td>\n",
       "      <td id=\"T_908d5_row9_col16\" class=\"data row9 col16\" >156</td>\n",
       "      <td id=\"T_908d5_row9_col17\" class=\"data row9 col17\" >0</td>\n",
       "    </tr>\n",
       "    <tr>\n",
       "      <th id=\"T_908d5_level0_row10\" class=\"row_heading level0 row10\" >10</th>\n",
       "      <td id=\"T_908d5_row10_col0\" class=\"data row10 col0\" >0</td>\n",
       "      <td id=\"T_908d5_row10_col1\" class=\"data row10 col1\" >0</td>\n",
       "      <td id=\"T_908d5_row10_col2\" class=\"data row10 col2\" >0</td>\n",
       "      <td id=\"T_908d5_row10_col3\" class=\"data row10 col3\" >0</td>\n",
       "      <td id=\"T_908d5_row10_col4\" class=\"data row10 col4\" >0</td>\n",
       "      <td id=\"T_908d5_row10_col5\" class=\"data row10 col5\" >186</td>\n",
       "      <td id=\"T_908d5_row10_col6\" class=\"data row10 col6\" >252</td>\n",
       "      <td id=\"T_908d5_row10_col7\" class=\"data row10 col7\" >252</td>\n",
       "      <td id=\"T_908d5_row10_col8\" class=\"data row10 col8\" >252</td>\n",
       "      <td id=\"T_908d5_row10_col9\" class=\"data row10 col9\" >252</td>\n",
       "      <td id=\"T_908d5_row10_col10\" class=\"data row10 col10\" >253</td>\n",
       "      <td id=\"T_908d5_row10_col11\" class=\"data row10 col11\" >252</td>\n",
       "      <td id=\"T_908d5_row10_col12\" class=\"data row10 col12\" >252</td>\n",
       "      <td id=\"T_908d5_row10_col13\" class=\"data row10 col13\" >139</td>\n",
       "      <td id=\"T_908d5_row10_col14\" class=\"data row10 col14\" >224</td>\n",
       "      <td id=\"T_908d5_row10_col15\" class=\"data row10 col15\" >252</td>\n",
       "      <td id=\"T_908d5_row10_col16\" class=\"data row10 col16\" >233</td>\n",
       "      <td id=\"T_908d5_row10_col17\" class=\"data row10 col17\" >49</td>\n",
       "    </tr>\n",
       "  </tbody>\n",
       "</table>\n"
      ],
      "text/plain": [
       "<pandas.io.formats.style.Styler at 0x7fb818f4c850>"
      ]
     },
     "execution_count": 13,
     "metadata": {},
     "output_type": "execute_result"
    }
   ],
   "source": [
    "im3_t = tensor(im3)\n",
    "df = pd.DataFrame(im3_t[4:15,4:22])\n",
    "df.style.set_properties(**{'font-size':'6pt'}).background_gradient('Greys')"
   ]
  },
  {
   "cell_type": "code",
   "execution_count": 14,
   "id": "32428d96-0d6d-4bb2-aa70-d98863afe4f3",
   "metadata": {},
   "outputs": [],
   "source": [
    "seven_tensors = [tensor(Image.open(o)) for o in sevens]\n",
    "three_tensors = [tensor(Image.open(o)) for o in threes]"
   ]
  },
  {
   "cell_type": "code",
   "execution_count": 15,
   "id": "37df4eeb-71c4-4cd5-a7c8-011838bad449",
   "metadata": {},
   "outputs": [
    {
     "data": {
      "text/plain": [
       "(6265, 6131)"
      ]
     },
     "execution_count": 15,
     "metadata": {},
     "output_type": "execute_result"
    }
   ],
   "source": [
    "len(seven_tensors), len(three_tensors)"
   ]
  },
  {
   "cell_type": "code",
   "execution_count": 16,
   "id": "9f0f7fa3-9817-4a15-ae5c-e85814743261",
   "metadata": {},
   "outputs": [
    {
     "data": {
      "text/plain": [
       "<AxesSubplot:>"
      ]
     },
     "execution_count": 16,
     "metadata": {},
     "output_type": "execute_result"
    },
    {
     "data": {
      "image/png": "[encoded data removed]",
      "text/plain": [
       "<Figure size 72x72 with 1 Axes>"
      ]
     },
     "metadata": {
      "needs_background": "light"
     },
     "output_type": "display_data"
    },
    {
     "data": {
      "image/png": "[encoded data removed]",
      "text/plain": [
       "<Figure size 72x72 with 1 Axes>"
      ]
     },
     "metadata": {
      "needs_background": "light"
     },
     "output_type": "display_data"
    }
   ],
   "source": [
    "show_image(seven_tensors[1])\n",
    "show_image(three_tensors[13])\n",
    "# Show image is part of fastAI"
   ]
  },
  {
   "cell_type": "code",
   "execution_count": 17,
   "id": "e2dbb7ea-b498-4bd5-8ec3-b82a2562782b",
   "metadata": {},
   "outputs": [],
   "source": [
    "stacked_threes = torch.stack(three_tensors).float()/255\n",
    "stacked_sevens = torch.stack(seven_tensors).float()/255"
   ]
  },
  {
   "cell_type": "code",
   "execution_count": 18,
   "id": "df27c312-4233-41e9-9c53-92068c85c0a9",
   "metadata": {},
   "outputs": [
    {
     "data": {
      "text/plain": [
       "torch.Size([6265, 28, 28])"
      ]
     },
     "execution_count": 18,
     "metadata": {},
     "output_type": "execute_result"
    }
   ],
   "source": [
    "stacked_sevens.shape\n"
   ]
  },
  {
   "cell_type": "code",
   "execution_count": 19,
   "id": "d4d95b58-32a6-475f-9b50-58240961829f",
   "metadata": {},
   "outputs": [],
   "source": [
    "# Rank 3 Tensor, has 3 axis.\n",
    "# Axis is same has dimensions (pytorch is Axis)\n",
    "# Shape is is the list containing the size of the axis"
   ]
  },
  {
   "cell_type": "code",
   "execution_count": 20,
   "id": "19c8d201-bf07-48b3-b4f1-b1968d50ad33",
   "metadata": {},
   "outputs": [
    {
     "data": {
      "text/plain": [
       "torch.Size([28, 28])"
      ]
     },
     "execution_count": 20,
     "metadata": {},
     "output_type": "execute_result"
    }
   ],
   "source": [
    "mean3 = stacked_threes.mean(0)\n",
    "mean7 = stacked_sevens.mean(0)\n",
    "# Take mean over Axis 0 (which is over all the images, back to 28x28 tensor)\n",
    "mean3.shape"
   ]
  },
  {
   "cell_type": "code",
   "execution_count": 21,
   "id": "f5628532-2fc1-45a5-895b-1851b94c63ee",
   "metadata": {},
   "outputs": [
    {
     "data": {
      "text/plain": [
       "<AxesSubplot:>"
      ]
     },
     "execution_count": 21,
     "metadata": {},
     "output_type": "execute_result"
    },
    {
     "data": {
      "image/png": "[encoded data removed]",
      "text/plain": [
       "<Figure size 72x72 with 1 Axes>"
      ]
     },
     "metadata": {
      "needs_background": "light"
     },
     "output_type": "display_data"
    }
   ],
   "source": [
    "show_image(mean7)"
   ]
  },
  {
   "cell_type": "code",
   "execution_count": 22,
   "id": "8c9f2427-ede7-4f1f-9d76-3dc733becbf3",
   "metadata": {},
   "outputs": [
    {
     "data": {
      "text/plain": [
       "<AxesSubplot:>"
      ]
     },
     "execution_count": 22,
     "metadata": {},
     "output_type": "execute_result"
    },
    {
     "data": {
      "image/png": "[encoded data removed]",
      "text/plain": [
       "<Figure size 72x72 with 1 Axes>"
      ]
     },
     "metadata": {
      "needs_background": "light"
     },
     "output_type": "display_data"
    }
   ],
   "source": [
    "show_image(mean3)"
   ]
  },
  {
   "cell_type": "code",
   "execution_count": 23,
   "id": "eb0a1ee8-55db-407d-9865-22a8ec87a673",
   "metadata": {},
   "outputs": [
    {
     "data": {
      "text/plain": [
       "<AxesSubplot:>"
      ]
     },
     "execution_count": 23,
     "metadata": {},
     "output_type": "execute_result"
    },
    {
     "data": {
      "image/png": "[encoded data removed]",
      "text/plain": [
       "<Figure size 72x72 with 1 Axes>"
      ]
     },
     "metadata": {
      "needs_background": "light"
     },
     "output_type": "display_data"
    }
   ],
   "source": [
    "a_3 = stacked_threes[5]\n",
    "show_image(a_3)"
   ]
  },
  {
   "cell_type": "markdown",
   "id": "a0af93de-eedc-47c7-b210-385f51c4a799",
   "metadata": {},
   "source": [
    "### L1 Norm : Mean absolute difference\n"
   ]
  },
  {
   "cell_type": "code",
   "execution_count": 24,
   "id": "72f97bc4-bf83-4996-8954-9c3d1cbc1402",
   "metadata": {},
   "outputs": [
    {
     "data": {
      "text/plain": [
       "tensor(0.1700)"
      ]
     },
     "execution_count": 24,
     "metadata": {},
     "output_type": "execute_result"
    }
   ],
   "source": [
    "dist_3_abs = (a_3 - mean3).abs().mean()\n",
    "dist_3_abs"
   ]
  },
  {
   "cell_type": "markdown",
   "id": "550e67a7-fb20-4b65-af22-aaaeaba7112d",
   "metadata": {},
   "source": [
    "### L2 Norm: Root mean square error"
   ]
  },
  {
   "cell_type": "code",
   "execution_count": 25,
   "id": "20d2390e-ddc8-4e09-b102-a056153d8c39",
   "metadata": {},
   "outputs": [
    {
     "data": {
      "text/plain": [
       "tensor(0.3016)"
      ]
     },
     "execution_count": 25,
     "metadata": {},
     "output_type": "execute_result"
    }
   ],
   "source": [
    "dist_3_sqr = ((a_3 - mean3)**2).mean().sqrt()\n",
    "dist_3_sqr"
   ]
  },
  {
   "cell_type": "code",
   "execution_count": 26,
   "id": "e3aa1f33-25ab-4373-9bac-ea634bc0accd",
   "metadata": {},
   "outputs": [],
   "source": [
    "def diffs(image, image_mean):\n",
    "    l_1_norm = (image - image_mean).abs().mean()\n",
    "    l_2_norm = ((image - image_mean)**2).mean().sqrt()\n",
    "    return (l_1_norm, l_2_norm)"
   ]
  },
  {
   "cell_type": "code",
   "execution_count": 27,
   "id": "5bb67f06-c22f-4023-a1b5-b2d5278c7414",
   "metadata": {},
   "outputs": [
    {
     "data": {
      "text/plain": [
       "(tensor(0.1700), tensor(0.3016))"
      ]
     },
     "execution_count": 27,
     "metadata": {},
     "output_type": "execute_result"
    }
   ],
   "source": [
    "diffs(a_3, mean3)"
   ]
  },
  {
   "cell_type": "code",
   "execution_count": 28,
   "id": "51b5faea-4f82-42f7-b758-4b7f8ce63e3f",
   "metadata": {},
   "outputs": [
    {
     "data": {
      "text/plain": [
       "(tensor(0.2198), tensor(0.3829))"
      ]
     },
     "execution_count": 28,
     "metadata": {},
     "output_type": "execute_result"
    }
   ],
   "source": [
    "diffs(a_3, mean7)"
   ]
  },
  {
   "cell_type": "markdown",
   "id": "017ba8bb-2302-4d8d-9353-b9c2b465057c",
   "metadata": {},
   "source": [
    "## Using PyTorch for L1 and L2 norm"
   ]
  },
  {
   "cell_type": "code",
   "execution_count": 29,
   "id": "a17a3ce0-ce7e-4b23-b9dc-cc60b2765279",
   "metadata": {},
   "outputs": [
    {
     "data": {
      "text/plain": [
       "(tensor(0.1700), tensor(0.3016))"
      ]
     },
     "execution_count": 29,
     "metadata": {},
     "output_type": "execute_result"
    }
   ],
   "source": [
    "F.l1_loss(a_3, mean3), F.mse_loss(a_3, mean3).sqrt()"
   ]
  },
  {
   "cell_type": "markdown",
   "id": "b99e25b5-95a7-4383-9335-16dc0b984418",
   "metadata": {},
   "source": [
    "## Validation"
   ]
  },
  {
   "cell_type": "code",
   "execution_count": 30,
   "id": "2d70417e-ec01-4de9-94c9-941d2d93ec16",
   "metadata": {},
   "outputs": [],
   "source": [
    "valid_3_tens = torch.stack([tensor(Image.open(o)) for o in (path/'valid'/'3').ls().sorted()])\n",
    "valid_7_tens = torch.stack([tensor(Image.open(o)) for o in (path/'valid'/'7').ls().sorted()])"
   ]
  },
  {
   "cell_type": "code",
   "execution_count": 31,
   "id": "7e02d5a8-797b-47c7-8839-7e43243232ad",
   "metadata": {},
   "outputs": [],
   "source": [
    "valid_3_tens = valid_3_tens.float()/255\n",
    "valid_7_tens = valid_7_tens.float()/225\n"
   ]
  },
  {
   "cell_type": "code",
   "execution_count": 32,
   "id": "b26e2f46-18ab-4935-90f0-64e40139eedf",
   "metadata": {},
   "outputs": [
    {
     "data": {
      "text/plain": [
       "(torch.Size([1010, 28, 28]), torch.Size([1028, 28, 28]))"
      ]
     },
     "execution_count": 32,
     "metadata": {},
     "output_type": "execute_result"
    }
   ],
   "source": [
    "valid_3_tens.shape, valid_7_tens.shape"
   ]
  },
  {
   "cell_type": "code",
   "execution_count": 33,
   "id": "97d570b9-d3b8-4ac0-870c-f9cc55b54d4d",
   "metadata": {},
   "outputs": [],
   "source": [
    "def mnist_distance(a,b): return (a-b).abs().mean((-1,-2))"
   ]
  },
  {
   "cell_type": "code",
   "execution_count": 34,
   "id": "dbaa5f36-fe10-4db7-9aa7-82734af39ea7",
   "metadata": {},
   "outputs": [
    {
     "data": {
      "text/plain": [
       "tensor(0.1700)"
      ]
     },
     "execution_count": 34,
     "metadata": {},
     "output_type": "execute_result"
    }
   ],
   "source": [
    "mnist_distance(a_3, mean3)"
   ]
  },
  {
   "cell_type": "code",
   "execution_count": 35,
   "id": "96c1ce99-2ecc-4ff6-8c0a-cd2287f6acc9",
   "metadata": {},
   "outputs": [
    {
     "data": {
      "text/plain": [
       "torch.Size([1010])"
      ]
     },
     "execution_count": 35,
     "metadata": {},
     "output_type": "execute_result"
    }
   ],
   "source": [
    "mnist_distance(valid_3_tens, mean3).shape"
   ]
  },
  {
   "cell_type": "code",
   "execution_count": 36,
   "id": "89718a5e-f9a2-4719-8345-29b2f2e7908f",
   "metadata": {},
   "outputs": [],
   "source": [
    "def is_3(x): return mnist_distance(x, mean3) < mnist_distance(x, mean7)"
   ]
  },
  {
   "cell_type": "code",
   "execution_count": 37,
   "id": "c0a3dcbe-994b-4c75-b202-663b72046703",
   "metadata": {},
   "outputs": [
    {
     "data": {
      "text/plain": [
       "(tensor(False), tensor(True))"
      ]
     },
     "execution_count": 37,
     "metadata": {},
     "output_type": "execute_result"
    }
   ],
   "source": [
    "is_3(stacked_sevens[0]), is_3(stacked_threes[0])"
   ]
  },
  {
   "cell_type": "code",
   "execution_count": 38,
   "id": "6f83ca5b-f582-4d34-a82b-d58240e892ce",
   "metadata": {},
   "outputs": [
    {
     "data": {
      "text/plain": [
       "(tensor(0.9168), tensor(0.9864))"
      ]
     },
     "execution_count": 38,
     "metadata": {},
     "output_type": "execute_result"
    }
   ],
   "source": [
    "accuracy_3s = is_3(valid_3_tens).float().mean()\n",
    "accuracy_7s = 1 - is_3(valid_7_tens).float().mean()\n",
    "accuracy_3s, accuracy_7s"
   ]
  },
  {
   "cell_type": "markdown",
   "id": "05b7029e-24d9-4f5c-b383-e2b06e83da1a",
   "metadata": {},
   "source": [
    "## SGD"
   ]
  },
  {
   "cell_type": "code",
   "execution_count": 39,
   "id": "d5dd1804-908e-4653-85a5-0cb8159c1790",
   "metadata": {},
   "outputs": [],
   "source": [
    "def f(x): return x**2\n",
    "## Example function\n"
   ]
  },
  {
   "cell_type": "code",
   "execution_count": 40,
   "id": "07fdbc8d-c32f-4cda-b959-243d8de5bed6",
   "metadata": {},
   "outputs": [
    {
     "name": "stderr",
     "output_type": "stream",
     "text": [
      "/opt/conda/lib/python3.7/site-packages/fastbook/__init__.py:74: UserWarning: Not providing a value for linspace's steps is deprecated and will throw a runtime error in a future release. This warning will appear only once per process. (Triggered internally at  ../aten/src/ATen/native/RangeFactories.cpp:23.)\n",
      "  x = torch.linspace(min,max)\n"
     ]
    },
    {
     "data": {
      "image/png": "[encoded data removed]",
      "text/plain": [
       "<Figure size 432x288 with 1 Axes>"
      ]
     },
     "metadata": {
      "needs_background": "light"
     },
     "output_type": "display_data"
    }
   ],
   "source": [
    "## FastAi method\n",
    "plot_function(f, 'x', 'x**2')"
   ]
  },
  {
   "cell_type": "code",
   "execution_count": 41,
   "id": "59e96a1d-01c9-4e4f-9db9-517feeddb9eb",
   "metadata": {},
   "outputs": [],
   "source": [
    "def f_prime(x): return 2*x"
   ]
  },
  {
   "cell_type": "code",
   "execution_count": 42,
   "id": "acd87bba-6fbc-4c3b-a728-3f970101bf15",
   "metadata": {},
   "outputs": [
    {
     "data": {
      "image/png": "[encoded data removed]",
      "text/plain": [
       "<Figure size 432x288 with 1 Axes>"
      ]
     },
     "metadata": {
      "needs_background": "light"
     },
     "output_type": "display_data"
    }
   ],
   "source": [
    "plot_function(f_prime, 'x', '2*x')"
   ]
  },
  {
   "cell_type": "code",
   "execution_count": 43,
   "id": "a84c7d18-9e40-47d5-a765-f7e7f4eb97bd",
   "metadata": {},
   "outputs": [],
   "source": [
    "## Gradient\n",
    "## _ at the end of method is inplace operation\n",
    "## this method tells pytorch that we need to calculate\n",
    "## gradient of this variable \n",
    "xt = tensor(3.).requires_grad_()"
   ]
  },
  {
   "cell_type": "code",
   "execution_count": 44,
   "id": "d75d70ca-bea7-47c5-8b1f-14ece62875d0",
   "metadata": {},
   "outputs": [
    {
     "data": {
      "text/plain": [
       "tensor(9., grad_fn=<PowBackward0>)"
      ]
     },
     "execution_count": 44,
     "metadata": {},
     "output_type": "execute_result"
    }
   ],
   "source": [
    "## here we pass xt (which is value 3 from above) to the\n",
    "## square method and get back value 9, and it's gradient\n",
    "yt = f(xt)\n",
    "yt"
   ]
  },
  {
   "cell_type": "code",
   "execution_count": 45,
   "id": "1f0fc7b1-2b60-47fe-91e4-6ac52e6e5608",
   "metadata": {},
   "outputs": [],
   "source": [
    "## BACKWARD, back propogation, it's derevitive.\n",
    "yt.backward()"
   ]
  },
  {
   "cell_type": "code",
   "execution_count": 46,
   "id": "8397ba94-19ec-4df1-889b-6ab45c519cdd",
   "metadata": {},
   "outputs": [
    {
     "data": {
      "text/plain": [
       "tensor(6.)"
      ]
     },
     "execution_count": 46,
     "metadata": {},
     "output_type": "execute_result"
    }
   ],
   "source": [
    "## We got the gradient at x = 3 \n",
    "xt.grad"
   ]
  },
  {
   "cell_type": "markdown",
   "id": "984cb776-35b0-4536-9944-540f8475be09",
   "metadata": {},
   "source": [
    "### Rank 1 tensor"
   ]
  },
  {
   "cell_type": "code",
   "execution_count": 47,
   "id": "74a9be8b-9f12-40e8-b75d-d0cd64912ea6",
   "metadata": {},
   "outputs": [
    {
     "data": {
      "text/plain": [
       "tensor([ 3.,  4., 10.], requires_grad=True)"
      ]
     },
     "execution_count": 47,
     "metadata": {},
     "output_type": "execute_result"
    }
   ],
   "source": [
    "xt = tensor([3., 4., 10.]).requires_grad_()\n",
    "xt"
   ]
  },
  {
   "cell_type": "code",
   "execution_count": 48,
   "id": "998fdb2b-a26f-4ed4-a54d-d9686c4a714a",
   "metadata": {},
   "outputs": [],
   "source": [
    "def f(x): return (x**2).sum()"
   ]
  },
  {
   "cell_type": "code",
   "execution_count": 49,
   "id": "9b876589-f178-48e5-84a0-25497e164912",
   "metadata": {},
   "outputs": [
    {
     "data": {
      "text/plain": [
       "tensor(125., grad_fn=<SumBackward0>)"
      ]
     },
     "execution_count": 49,
     "metadata": {},
     "output_type": "execute_result"
    }
   ],
   "source": [
    "yt = f(xt)\n",
    "yt"
   ]
  },
  {
   "cell_type": "code",
   "execution_count": 50,
   "id": "87174917-7aac-499f-9a91-4a451d405db8",
   "metadata": {},
   "outputs": [
    {
     "data": {
      "text/plain": [
       "tensor([ 6.,  8., 20.])"
      ]
     },
     "execution_count": 50,
     "metadata": {},
     "output_type": "execute_result"
    }
   ],
   "source": [
    "## Call derivative\n",
    "yt.backward()\n",
    "## Get the new gradient\n",
    "xt.grad"
   ]
  },
  {
   "cell_type": "markdown",
   "id": "3fda3c0f-17a3-41b4-bbdc-7418660161ed",
   "metadata": {},
   "source": [
    "## Stepping with learning rate"
   ]
  },
  {
   "cell_type": "raw",
   "id": "a10746ec-9df4-4de0-be53-449a9c202abe",
   "metadata": {},
   "source": [
    "w - gradient(w)*lr \n",
    "where w are the parameters we have\n",
    "gradient(w) is the gradient (slope) of the line for the loss function at w,\n",
    "and lr is learning rate (the step size multiplier)\n",
    "\n",
    "Very important to pick correct learning rate"
   ]
  },
  {
   "cell_type": "markdown",
   "id": "580a58d3-14d8-400f-ba87-328a28b9a315",
   "metadata": {},
   "source": [
    "## End of end example of Grad Desc."
   ]
  },
  {
   "cell_type": "code",
   "execution_count": 51,
   "id": "0e8c4aa9-98d2-40ea-b2d2-2e7f33542d91",
   "metadata": {},
   "outputs": [
    {
     "data": {
      "text/plain": [
       "tensor([ 0.,  1.,  2.,  3.,  4.,  5.,  6.,  7.,  8.,  9., 10., 11., 12., 13., 14., 15., 16., 17., 18., 19.])"
      ]
     },
     "execution_count": 51,
     "metadata": {},
     "output_type": "execute_result"
    }
   ],
   "source": [
    "time = torch.arange(0, 20).float(); time"
   ]
  },
  {
   "cell_type": "code",
   "execution_count": 52,
   "id": "f62b1c22-3c63-4b50-b164-f8f2d7a07106",
   "metadata": {},
   "outputs": [],
   "source": [
    "speed = torch.randn(20)*2 + 0.75*(time-9.5)**2 + 1"
   ]
  },
  {
   "cell_type": "code",
   "execution_count": 53,
   "id": "c5336e21-6dc5-4407-9dfe-b92b857659e6",
   "metadata": {},
   "outputs": [
    {
     "data": {
      "text/plain": [
       "<matplotlib.collections.PathCollection at 0x7fb810721150>"
      ]
     },
     "execution_count": 53,
     "metadata": {},
     "output_type": "execute_result"
    },
    {
     "data": {
      "image/png": "[encoded data removed]",
      "text/plain": [
       "<Figure size 432x288 with 1 Axes>"
      ]
     },
     "metadata": {
      "needs_background": "light"
     },
     "output_type": "display_data"
    }
   ],
   "source": [
    "plt.scatter(time, speed)"
   ]
  },
  {
   "cell_type": "code",
   "execution_count": 54,
   "id": "8ffe65a8-e8f2-4762-b856-00f006920a03",
   "metadata": {},
   "outputs": [],
   "source": [
    "## We assume that the relationship of time and speed \n",
    "## is Quadratic , thus in form of ax^2 + bx + c\n",
    "## where x is time t\n",
    "def f(t, params):\n",
    "    a, b, c = params\n",
    "    return a*(t**2) + (b*t) + c"
   ]
  },
  {
   "cell_type": "code",
   "execution_count": 55,
   "id": "f3df5321-0b4f-49b6-bf6c-78ee9dcb85a4",
   "metadata": {},
   "outputs": [],
   "source": [
    "## loss function\n",
    "def mse(pred, target):\n",
    "    return ((pred-target)**2).mean()"
   ]
  },
  {
   "cell_type": "code",
   "execution_count": 56,
   "id": "71882fb8-daae-48ec-aab1-1f07cc6ba4ae",
   "metadata": {},
   "outputs": [],
   "source": [
    "# Initialize random values for a,b,c\n",
    "params = torch.randn(3).requires_grad_()"
   ]
  },
  {
   "cell_type": "code",
   "execution_count": 57,
   "id": "a4fad42a-72a7-406f-a6c6-66374d4c83bd",
   "metadata": {},
   "outputs": [],
   "source": [
    "preds = f(time, params)"
   ]
  },
  {
   "cell_type": "code",
   "execution_count": 58,
   "id": "445c3762-61ba-438a-8e17-bcd6291de788",
   "metadata": {},
   "outputs": [],
   "source": [
    "def show_preds(preds, ax=None):\n",
    "    if ax is None: ax=plt.subplots()[1]\n",
    "    ax.scatter(time, speed)\n",
    "    ax.scatter(time, to_np(preds), color='red')\n",
    "    ax.set_ylim(-300, 100)"
   ]
  },
  {
   "cell_type": "code",
   "execution_count": 59,
   "id": "7080493d-abd7-4be1-ad98-bb54738692b6",
   "metadata": {},
   "outputs": [
    {
     "data": {
      "image/png": "[encoded data removed]",
      "text/plain": [
       "<Figure size 432x288 with 1 Axes>"
      ]
     },
     "metadata": {
      "needs_background": "light"
     },
     "output_type": "display_data"
    }
   ],
   "source": [
    "show_preds(preds)"
   ]
  },
  {
   "cell_type": "code",
   "execution_count": 60,
   "id": "3fe40865-352b-416c-9a9f-dea30793c5a8",
   "metadata": {},
   "outputs": [
    {
     "data": {
      "text/plain": [
       "tensor(25798.2539, grad_fn=<MeanBackward0>)"
      ]
     },
     "execution_count": 60,
     "metadata": {},
     "output_type": "execute_result"
    }
   ],
   "source": [
    "loss = mse(preds, speed)\n",
    "loss"
   ]
  },
  {
   "cell_type": "code",
   "execution_count": 61,
   "id": "3ef8c9ac-965f-4da4-88fc-e37f889ad8c4",
   "metadata": {},
   "outputs": [
    {
     "data": {
      "text/plain": [
       "tensor([-53193.9297,  -3418.8748,   -253.4585])"
      ]
     },
     "execution_count": 61,
     "metadata": {},
     "output_type": "execute_result"
    }
   ],
   "source": [
    "## Do the derivative\n",
    "loss.backward()\n",
    "## Plug in the params in the derivative of f\n",
    "params.grad"
   ]
  },
  {
   "cell_type": "code",
   "execution_count": 62,
   "id": "aff0d9ae-6d69-457e-a51e-922e8265e086",
   "metadata": {},
   "outputs": [],
   "source": [
    "## pick a learning rate of 1e^-5 0.00001\n",
    "lr = 1e-5\n"
   ]
  },
  {
   "cell_type": "code",
   "execution_count": 63,
   "id": "d125668d-773a-41e0-a588-736018a1f7a8",
   "metadata": {},
   "outputs": [
    {
     "data": {
      "text/plain": [
       "tensor([-0.7658, -0.7506,  1.3525], requires_grad=True)"
      ]
     },
     "execution_count": 63,
     "metadata": {},
     "output_type": "execute_result"
    }
   ],
   "source": [
    "params"
   ]
  },
  {
   "cell_type": "code",
   "execution_count": 64,
   "id": "6abadd3a-7248-4caf-8ff6-a3148fc15973",
   "metadata": {},
   "outputs": [],
   "source": [
    "## Adjust the params now based on gradient and learning_rate\n",
    "## use params.data not params directly otherwise it will\n",
    "## calculate grad at that step.\n",
    "params.data -= params.data - params.grad*lr\n",
    "params.grad = None"
   ]
  },
  {
   "cell_type": "code",
   "execution_count": 65,
   "id": "37d5e047-5de5-47c4-8d6e-7ee83206c06c",
   "metadata": {},
   "outputs": [],
   "source": [
    "preds = f(time, params)"
   ]
  },
  {
   "cell_type": "code",
   "execution_count": 66,
   "id": "43187f2b-5373-41b3-ae56-ee18053e5642",
   "metadata": {},
   "outputs": [
    {
     "data": {
      "image/png": "[encoded data removed]",
      "text/plain": [
       "<Figure size 432x288 with 1 Axes>"
      ]
     },
     "metadata": {
      "needs_background": "light"
     },
     "output_type": "display_data"
    }
   ],
   "source": [
    "show_preds(preds)"
   ]
  },
  {
   "cell_type": "code",
   "execution_count": 67,
   "id": "51a9c132-78f0-4f0f-b1be-4d2361feb406",
   "metadata": {},
   "outputs": [
    {
     "data": {
      "text/plain": [
       "tensor(13362.8652, grad_fn=<MeanBackward0>)"
      ]
     },
     "execution_count": 67,
     "metadata": {},
     "output_type": "execute_result"
    }
   ],
   "source": [
    "mse(preds, speed)"
   ]
  },
  {
   "cell_type": "markdown",
   "id": "8ba9f2b4-32e8-445c-b784-39b17d784a7c",
   "metadata": {},
   "source": [
    "Loss has improved"
   ]
  },
  {
   "cell_type": "code",
   "execution_count": 68,
   "id": "d51ff3ee-ad70-42c3-8534-f34e6627b741",
   "metadata": {},
   "outputs": [],
   "source": [
    "def apply_step(params, prn=True):\n",
    "    preds = f(time, params)\n",
    "    loss = mse(preds, speed)\n",
    "    loss.backward()\n",
    "    params.data -= params.grad.data * lr\n",
    "    params.grad = None\n",
    "    if prn: print(loss.item())\n",
    "    return preds"
   ]
  },
  {
   "cell_type": "code",
   "execution_count": 69,
   "id": "903c84ce-3b2c-4da6-ae37-38afc4374403",
   "metadata": {},
   "outputs": [],
   "source": [
    "#for i in range(10): apply_step(params)\n"
   ]
  },
  {
   "cell_type": "code",
   "execution_count": 70,
   "id": "f9121a03-1cfa-48f5-b681-58f79c670c38",
   "metadata": {},
   "outputs": [
    {
     "data": {
      "image/png": "[encoded data removed]",
      "text/plain": [
       "<Figure size 864x216 with 4 Axes>"
      ]
     },
     "metadata": {
      "needs_background": "light"
     },
     "output_type": "display_data"
    }
   ],
   "source": [
    "_, axs = plt.subplots(1,4, figsize=(12,3))\n",
    "for ax in axs: show_preds(apply_step(params, False), ax)\n",
    "plt.tight_layout()"
   ]
  },
  {
   "cell_type": "markdown",
   "id": "b185d6ed-cf04-47ff-8ebe-bbccae269762",
   "metadata": {},
   "source": [
    "## MNIST Loss"
   ]
  },
  {
   "cell_type": "code",
   "execution_count": 71,
   "id": "7c85697a-ca6c-4e63-825d-6e9fcdc642bf",
   "metadata": {},
   "outputs": [
    {
     "data": {
      "text/plain": [
       "torch.Size([12396, 784])"
      ]
     },
     "execution_count": 71,
     "metadata": {},
     "output_type": "execute_result"
    }
   ],
   "source": [
    "# Resize the stacked 3's and stacked 7's to a 2 dimension tensor \n",
    "# method view -1  means contain as many rows as needed to fit the data\n",
    "# cat will just concatenate all the stacked 3's and 7's to one big list of matrices\n",
    "train_x = torch.cat([stacked_threes, stacked_sevens]).view(-1, 28*28)\n",
    "train_x.shape"
   ]
  },
  {
   "cell_type": "code",
   "execution_count": 72,
   "id": "22f73b0e-71d3-42d0-b08f-c55813feb14d",
   "metadata": {},
   "outputs": [],
   "source": [
    "# we need to label those rank 1 tensors, use 1 for threes and 0 for sevens,\n",
    "# this is okay for now as we just have 2 digits\n",
    "# The unsqueeze makes the vector to a matrix by adding an additional column of unit\n",
    "# value.  \n",
    "# We can't create a dataset without the second dimention, its needed to index\n",
    "# the dataset \n",
    "train_y = tensor([1]*len(threes) + [0]*len(sevens)).unsqueeze(1)"
   ]
  },
  {
   "cell_type": "code",
   "execution_count": 73,
   "id": "e253b0e3-58e7-4d54-a809-c537e2b5614a",
   "metadata": {},
   "outputs": [
    {
     "data": {
      "text/plain": [
       "(torch.Size([12396, 784]), torch.Size([12396, 1]))"
      ]
     },
     "execution_count": 73,
     "metadata": {},
     "output_type": "execute_result"
    }
   ],
   "source": [
    "train_x.shape, train_y.shape"
   ]
  },
  {
   "cell_type": "code",
   "execution_count": 74,
   "id": "bad12391-edfe-4fbc-ad37-769fd2ffafbe",
   "metadata": {},
   "outputs": [
    {
     "data": {
      "text/plain": [
       "(torch.Size([784]), tensor([1]))"
      ]
     },
     "execution_count": 74,
     "metadata": {},
     "output_type": "execute_result"
    }
   ],
   "source": [
    "dset = list(zip(train_x, train_y))\n",
    "# Destructuing the tuple\n",
    "x,y = dset[0]\n",
    "x.shape, y"
   ]
  },
  {
   "cell_type": "code",
   "execution_count": 75,
   "id": "12f2eabb-6b39-418c-a1f3-e2826d51b694",
   "metadata": {},
   "outputs": [],
   "source": [
    "valid_x = torch.cat([valid_3_tens, valid_7_tens]).view(-1, 28*28)\n",
    "valid_y = tensor([1]*len(valid_3_tens) + [0]*len(valid_7_tens)).unsqueeze(1)\n",
    "valid_dset = list(zip(valid_x, valid_y))"
   ]
  },
  {
   "cell_type": "code",
   "execution_count": 76,
   "id": "c9a8c6d2-77ff-4b03-a2bd-e3a9d956e801",
   "metadata": {},
   "outputs": [],
   "source": [
    "def init_params(size, var=1.0): return (torch.randn(size)*var).requires_grad_()"
   ]
  },
  {
   "cell_type": "code",
   "execution_count": 77,
   "id": "925d606f-8897-48e0-aecf-9561c764dd3c",
   "metadata": {},
   "outputs": [],
   "source": [
    "# y = wx + b, lets initialize the w, weights\n",
    "weights = init_params((28*28,1))"
   ]
  },
  {
   "cell_type": "code",
   "execution_count": 78,
   "id": "dacc2fa8-ef3a-42a7-b672-f8dba2886d69",
   "metadata": {},
   "outputs": [],
   "source": [
    "# y = wx + b, lets initialize the b, bias\n",
    "bias = init_params(1)"
   ]
  },
  {
   "cell_type": "code",
   "execution_count": 79,
   "id": "21dacea5-cd14-4d4b-86d3-008dc8319adf",
   "metadata": {},
   "outputs": [
    {
     "data": {
      "text/plain": [
       "tensor([20.2336], grad_fn=<AddBackward0>)"
      ]
     },
     "execution_count": 79,
     "metadata": {},
     "output_type": "execute_result"
    }
   ],
   "source": [
    "(train_x[0]*weights.T).sum() + bias"
   ]
  },
  {
   "cell_type": "code",
   "execution_count": 80,
   "id": "7d17b3b7-9ec6-4f73-85b9-7c98786ea668",
   "metadata": {},
   "outputs": [
    {
     "data": {
      "text/plain": [
       "torch.Size([784])"
      ]
     },
     "execution_count": 80,
     "metadata": {},
     "output_type": "execute_result"
    }
   ],
   "source": [
    "train_x[0].shape"
   ]
  },
  {
   "cell_type": "code",
   "execution_count": 81,
   "id": "36daacf7-a937-4156-bd67-9b4f15507385",
   "metadata": {},
   "outputs": [
    {
     "data": {
      "text/plain": [
       "torch.Size([784, 1])"
      ]
     },
     "execution_count": 81,
     "metadata": {},
     "output_type": "execute_result"
    }
   ],
   "source": [
    "weights.shape"
   ]
  },
  {
   "cell_type": "code",
   "execution_count": 82,
   "id": "8ec2e898-2fd0-4e24-bd15-b159dd47a383",
   "metadata": {},
   "outputs": [
    {
     "data": {
      "text/plain": [
       "tensor([1.3123], grad_fn=<SelectBackward0>)"
      ]
     },
     "execution_count": 82,
     "metadata": {},
     "output_type": "execute_result"
    }
   ],
   "source": [
    "weights[0]"
   ]
  },
  {
   "cell_type": "code",
   "execution_count": 83,
   "id": "e5d082a0-dcb5-4efc-86f0-cdfe87e9ab60",
   "metadata": {},
   "outputs": [
    {
     "data": {
      "text/plain": [
       "torch.Size([784, 1])"
      ]
     },
     "execution_count": 83,
     "metadata": {},
     "output_type": "execute_result"
    }
   ],
   "source": [
    "weights.shape "
   ]
  },
  {
   "cell_type": "code",
   "execution_count": 84,
   "id": "9efff12f-619a-41eb-946d-edf659fd468e",
   "metadata": {},
   "outputs": [
    {
     "data": {
      "text/plain": [
       "torch.Size([1])"
      ]
     },
     "execution_count": 84,
     "metadata": {},
     "output_type": "execute_result"
    }
   ],
   "source": [
    "bias.shape"
   ]
  },
  {
   "cell_type": "code",
   "execution_count": 85,
   "id": "f928b549-9b23-441b-8745-5c7fbbf02262",
   "metadata": {},
   "outputs": [],
   "source": [
    "# @ is matrix multiplication\n",
    "def linear1(xb): return xb@weights + bias"
   ]
  },
  {
   "cell_type": "code",
   "execution_count": 86,
   "id": "eb16fbcd-f885-4a7a-b370-696bd54a9a52",
   "metadata": {},
   "outputs": [
    {
     "data": {
      "text/plain": [
       "torch.Size([12396, 1])"
      ]
     },
     "execution_count": 86,
     "metadata": {},
     "output_type": "execute_result"
    }
   ],
   "source": [
    "preds = linear1(train_x)\n",
    "preds.shape"
   ]
  },
  {
   "cell_type": "code",
   "execution_count": 87,
   "id": "61b89b60-25c1-470c-a28e-9a54e01104d1",
   "metadata": {},
   "outputs": [
    {
     "data": {
      "text/plain": [
       "torch.Size([12396, 1])"
      ]
     },
     "execution_count": 87,
     "metadata": {},
     "output_type": "execute_result"
    }
   ],
   "source": [
    "train_y.shape"
   ]
  },
  {
   "cell_type": "code",
   "execution_count": 88,
   "id": "420fe7ff-c37f-4f12-a752-b8323fae5a56",
   "metadata": {},
   "outputs": [
    {
     "data": {
      "text/plain": [
       "0.4912068545818329"
      ]
     },
     "execution_count": 88,
     "metadata": {},
     "output_type": "execute_result"
    }
   ],
   "source": [
    "corrects = (preds > 0.0).float() == train_y\n",
    "corrects.float().mean().item()"
   ]
  },
  {
   "cell_type": "code",
   "execution_count": 89,
   "id": "5e924169-60ec-47b6-acda-f76ed53fbbfd",
   "metadata": {},
   "outputs": [],
   "source": [
    "## New loss function\n",
    "# where operates over all elements of the tensor\n",
    "def mnist_loss(predictions, targets):\n",
    "    return torch.where(targets==1, 1-predictions, predictions).mean()"
   ]
  },
  {
   "cell_type": "raw",
   "id": "af6473dc-ae26-4e60-b603-ed550a22833a",
   "metadata": {},
   "source": [
    "This is not good because we are making predictions greater than 1, not just between 1 and zero.\n",
    "\n",
    "We need a function to make predictions between 0 and 1\n"
   ]
  },
  {
   "cell_type": "code",
   "execution_count": 90,
   "id": "7413ca04-86b2-41db-bed7-72b48c771ec8",
   "metadata": {},
   "outputs": [],
   "source": [
    "def sigmoid(x): return 1/(1+torch.exp(-x))"
   ]
  },
  {
   "cell_type": "code",
   "execution_count": 91,
   "id": "8cdf3eb9-ed26-4db8-8bc5-fab978b14b0d",
   "metadata": {},
   "outputs": [
    {
     "data": {
      "image/png": "[encoded data removed]",
      "text/plain": [
       "<Figure size 432x288 with 1 Axes>"
      ]
     },
     "metadata": {
      "needs_background": "light"
     },
     "output_type": "display_data"
    }
   ],
   "source": [
    "plot_function(sigmoid, min=-5, max=5)"
   ]
  },
  {
   "cell_type": "code",
   "execution_count": 92,
   "id": "283f9945-fdba-41a2-b3ba-a94aff08ca39",
   "metadata": {},
   "outputs": [],
   "source": [
    "def mnist_loss(predictions,targets):\n",
    "    predictions = predictions.sigmoid()\n",
    "    return torch.where(targets==1, 1-predictions, predictions).mean() "
   ]
  },
  {
   "cell_type": "markdown",
   "id": "c0b2a3c5-d5f8-4422-bff4-21850cbc8fdb",
   "metadata": {},
   "source": [
    "## Mini Batch"
   ]
  },
  {
   "cell_type": "code",
   "execution_count": 93,
   "id": "37d5982d-7a3f-4a74-9274-f88753eb3d59",
   "metadata": {},
   "outputs": [],
   "source": [
    "weights = init_params((28*28,1))\n",
    "bias = init_params(1)"
   ]
  },
  {
   "cell_type": "code",
   "execution_count": 94,
   "id": "d3f56796-439f-412b-9429-e799869cbb84",
   "metadata": {},
   "outputs": [
    {
     "data": {
      "text/plain": [
       "(torch.Size([256, 784]), torch.Size([256, 1]))"
      ]
     },
     "execution_count": 94,
     "metadata": {},
     "output_type": "execute_result"
    }
   ],
   "source": [
    "dl = DataLoader(dset, batch_size=256)\n",
    "xb, yb = first(dl)\n",
    "xb.shape, yb.shape,"
   ]
  },
  {
   "cell_type": "code",
   "execution_count": 95,
   "id": "fa2ce2f0-017b-4b3e-84d8-947ecd618906",
   "metadata": {},
   "outputs": [],
   "source": [
    "valid_dl = DataLoader(valid_dset, batch_size=256)"
   ]
  },
  {
   "cell_type": "code",
   "execution_count": 96,
   "id": "09f46843-d18a-49b7-9acb-f249fe7a932b",
   "metadata": {},
   "outputs": [],
   "source": [
    "def calc_grad(xb, yb, model):\n",
    "    preds = model(xb)\n",
    "    loss = mnist_loss(preds, yb)\n",
    "    loss.backward()"
   ]
  },
  {
   "cell_type": "code",
   "execution_count": 97,
   "id": "b737df3c-417c-4724-9489-5fe207ee8d4b",
   "metadata": {},
   "outputs": [],
   "source": [
    "# clear the grad of weight and bias after each run, otherwise it keeps adding grad\n",
    "# to the previous value.\n",
    "# weights.grad.zero_()\n",
    "# bias.grad.zero_();"
   ]
  },
  {
   "cell_type": "code",
   "execution_count": 98,
   "id": "47b8a235-6110-4a1b-9625-fcdf985aada6",
   "metadata": {},
   "outputs": [],
   "source": [
    "def train_epoch(model, lr, params):\n",
    "    for xb, yb in dl:\n",
    "        calc_grad(xb, yb, model)\n",
    "        for p in params:\n",
    "            p.data -= p.grad*lr\n",
    "            p.grad.zero_()"
   ]
  },
  {
   "cell_type": "code",
   "execution_count": 99,
   "id": "8945129e-0b8c-4987-ad44-a19c85c79910",
   "metadata": {},
   "outputs": [],
   "source": [
    "def batch_accuracy(xb, yb):\n",
    "    preds = xb.sigmoid()\n",
    "    correct = (preds>0.5)==yb\n",
    "    return correct.float().mean()"
   ]
  },
  {
   "cell_type": "code",
   "execution_count": 100,
   "id": "52176a9d-a7d6-420e-b250-6ec657965f66",
   "metadata": {},
   "outputs": [],
   "source": [
    "def validate_epoch(model):\n",
    "    accs = [batch_accuracy(model(xb), yb) for xb, yb in valid_dl]\n",
    "    return round(torch.stack(accs).mean().item(), 4)"
   ]
  },
  {
   "cell_type": "code",
   "execution_count": 101,
   "id": "cf221810-c1bd-4d3e-aa8c-f3648408d1c7",
   "metadata": {},
   "outputs": [
    {
     "data": {
      "text/plain": [
       "0.4752"
      ]
     },
     "execution_count": 101,
     "metadata": {},
     "output_type": "execute_result"
    }
   ],
   "source": [
    "validate_epoch(linear1)"
   ]
  },
  {
   "cell_type": "code",
   "execution_count": 102,
   "id": "73fbd57a-1066-4205-94c2-4ed974e9ed29",
   "metadata": {},
   "outputs": [
    {
     "data": {
      "text/plain": [
       "0.6596"
      ]
     },
     "execution_count": 102,
     "metadata": {},
     "output_type": "execute_result"
    }
   ],
   "source": [
    "lr = 1.\n",
    "params = weights, bias\n",
    "train_epoch(linear1, lr, params)\n",
    "validate_epoch(linear1)"
   ]
  },
  {
   "cell_type": "code",
   "execution_count": 103,
   "id": "853397a9-891e-4ea5-9e5b-2edb7dd6f72f",
   "metadata": {},
   "outputs": [
    {
     "name": "stdout",
     "output_type": "stream",
     "text": [
      "0.8583 0.9194 0.9384 0.9482 0.957 0.9609 0.9638 0.9653 0.9682 0.9687 0.9697 0.9702 0.9716 0.9706 0.9711 0.9711 0.9716 0.9716 0.9721 0.9726 0.9736 0.9731 0.9731 0.9741 0.9745 0.9751 0.9755 0.977 0.9775 0.9785 0.979 0.979 0.979 0.9795 0.9795 0.9795 0.9795 0.98 0.98 0.9804 0.9809 0.98 0.98 0.98 0.98 0.98 0.98 0.9804 0.9809 0.9809 0.9814 0.9814 0.9814 0.9814 0.9814 0.9819 0.9819 0.9819 0.9819 0.9819 0.9819 0.9824 0.9824 0.9824 0.9824 0.9829 0.9829 0.9829 0.9829 0.9829 0.9829 0.9829 0.9829 0.9829 0.9829 0.9829 0.9829 0.9829 0.9829 0.9834 0.9834 0.9839 0.9844 0.9844 0.9844 0.9844 0.9844 0.9844 0.9844 0.9844 0.9844 0.9844 0.9844 0.9848 0.9848 0.9853 0.9853 0.9853 0.9853 0.9853 "
     ]
    }
   ],
   "source": [
    "for i in range(100):\n",
    "    train_epoch(linear1, lr, params)\n",
    "    print(validate_epoch(linear1), end=' ')"
   ]
  },
  {
   "cell_type": "markdown",
   "id": "d2d8ac27-fac1-420a-8485-cb4ecc6b9aed",
   "metadata": {},
   "source": [
    "# Optimizer"
   ]
  },
  {
   "cell_type": "code",
   "execution_count": 137,
   "id": "a35cae25-decb-42c0-a838-018752003ae3",
   "metadata": {},
   "outputs": [],
   "source": [
    "lr = 0.5"
   ]
  },
  {
   "cell_type": "code",
   "execution_count": 138,
   "id": "64b45610-e2e9-4353-9535-d3bccba17536",
   "metadata": {},
   "outputs": [],
   "source": [
    "linear_model = nn.Linear(28*28, 1)"
   ]
  },
  {
   "cell_type": "code",
   "execution_count": 139,
   "id": "09305e45-9e0e-4497-aed1-d8480312a041",
   "metadata": {},
   "outputs": [
    {
     "data": {
      "text/plain": [
       "(torch.Size([1, 784]), torch.Size([1]))"
      ]
     },
     "execution_count": 139,
     "metadata": {},
     "output_type": "execute_result"
    }
   ],
   "source": [
    "w,b = linear_model.parameters()\n",
    "w.shape, b.shape"
   ]
  },
  {
   "cell_type": "code",
   "execution_count": 140,
   "id": "33cd1c19-1a96-4fa5-9fd4-f9659165d2c0",
   "metadata": {},
   "outputs": [],
   "source": [
    "class BasicOptim:\n",
    "    def __init__(self, params, lr): self.params, self.lr = list(params), lr\n",
    "    \n",
    "    def step(self, *args, **kwargs):\n",
    "        for p in self.params: p.data -= p.grad.data * self.lr\n",
    "    \n",
    "    def zero_grad(self, *args, **kwargs):\n",
    "        for p in self.params: p.grad.zero_()"
   ]
  },
  {
   "cell_type": "code",
   "execution_count": 141,
   "id": "e73cb1e4-a758-4ed0-8e63-7ed46cabf5fb",
   "metadata": {},
   "outputs": [],
   "source": [
    "opt = BasicOptim(linear_model.parameters(), lr)"
   ]
  },
  {
   "cell_type": "code",
   "execution_count": 146,
   "id": "423876a3-add3-4b28-99f8-fcbc90988235",
   "metadata": {},
   "outputs": [],
   "source": [
    "# New Train Epoch\n",
    "def train_epoch(model):\n",
    "    for xb, yb in dl:\n",
    "        calc_grad(xb, yb, model)\n",
    "        opt.step()\n",
    "        opt.zero_grad()\n",
    "        "
   ]
  },
  {
   "cell_type": "code",
   "execution_count": 147,
   "id": "b291ffae-1f51-4bdb-be2f-ec030d5a0349",
   "metadata": {},
   "outputs": [
    {
     "data": {
      "text/plain": [
       "0.4932"
      ]
     },
     "execution_count": 147,
     "metadata": {},
     "output_type": "execute_result"
    }
   ],
   "source": [
    "validate_epoch(linear_model)"
   ]
  },
  {
   "cell_type": "code",
   "execution_count": 148,
   "id": "85affa81-5af1-4a52-91ef-6968a2820f5b",
   "metadata": {},
   "outputs": [],
   "source": [
    "def train_model(model, epochs):\n",
    "    for i in range(epochs):\n",
    "        train_epoch(model)\n",
    "        print(validate_epoch(model), end=' ')"
   ]
  },
  {
   "cell_type": "code",
   "execution_count": 149,
   "id": "3553385a-9622-499f-a18d-3f2475bcaeb7",
   "metadata": {},
   "outputs": [
    {
     "name": "stdout",
     "output_type": "stream",
     "text": [
      "0.4932 0.4932 0.4932 0.792 0.897 0.9321 0.9468 0.9575 0.9648 0.9663 0.9682 0.9702 0.9717 0.9731 0.9741 0.9751 0.9756 0.9765 0.9765 0.9765 0.977 0.977 0.978 0.9785 0.9785 0.98 0.98 0.98 0.9809 0.9809 0.9809 0.9809 0.9814 0.9814 0.9819 0.9819 0.9819 0.9819 0.9814 0.9819 0.9824 0.9829 0.9829 0.9829 0.9829 0.9829 0.9829 0.9829 0.9829 0.9829 "
     ]
    }
   ],
   "source": [
    "train_model(linear_model, 50)"
   ]
  },
  {
   "cell_type": "markdown",
   "id": "b4245be7-d502-4ec6-aa5a-907ab2fa8998",
   "metadata": {},
   "source": [
    "## SGD FastAI"
   ]
  },
  {
   "cell_type": "code",
   "execution_count": 129,
   "id": "a02bc1b8-95ee-44c2-b250-5e9772f552c4",
   "metadata": {},
   "outputs": [
    {
     "name": "stdout",
     "output_type": "stream",
     "text": [
      "0.5269 0.8306 0.9141 0.9375 0.9502 0.9624 0.9663 0.9678 0.9697 0.9702 0.9717 0.9731 0.9751 0.9756 0.9765 0.9765 0.977 0.9775 0.9775 0.9785 "
     ]
    }
   ],
   "source": [
    "linear_model = nn.Linear(28*28, 1)\n",
    "opt = SGD(linear_model.parameters(), lr)\n",
    "train_model(linear_model, 20)"
   ]
  },
  {
   "cell_type": "code",
   "execution_count": 130,
   "id": "60eb9054-7a8a-4c01-a084-27cd1bf3ba01",
   "metadata": {},
   "outputs": [],
   "source": [
    "dls = DataLoaders(dl, valid_dl)"
   ]
  },
  {
   "cell_type": "code",
   "execution_count": 131,
   "id": "eb0b2a3f-560f-47e5-859f-58d415295c18",
   "metadata": {},
   "outputs": [],
   "source": [
    "learn = Learner(dls, nn.Linear(28*28, 1), opt_func=SGD, loss_func=mnist_loss, metrics=batch_accuracy)"
   ]
  },
  {
   "cell_type": "code",
   "execution_count": 132,
   "id": "e8d11a1b-470a-4a98-8331-7c69b60780a1",
   "metadata": {},
   "outputs": [
    {
     "data": {
      "text/html": [
       "\n",
       "<style>\n",
       "    /* Turns off some styling */\n",
       "    progress {\n",
       "        /* gets rid of default border in Firefox and Opera. */\n",
       "        border: none;\n",
       "        /* Needs to be in here for Safari polyfill so background images work as expected. */\n",
       "        background-size: auto;\n",
       "    }\n",
       "    .progress-bar-interrupted, .progress-bar-interrupted::-webkit-progress-bar {\n",
       "        background: #F44336;\n",
       "    }\n",
       "</style>\n"
      ],
      "text/plain": [
       "<IPython.core.display.HTML object>"
      ]
     },
     "metadata": {},
     "output_type": "display_data"
    },
    {
     "data": {
      "text/html": [
       "<table border=\"1\" class=\"dataframe\">\n",
       "  <thead>\n",
       "    <tr style=\"text-align: left;\">\n",
       "      <th>epoch</th>\n",
       "      <th>train_loss</th>\n",
       "      <th>valid_loss</th>\n",
       "      <th>batch_accuracy</th>\n",
       "      <th>time</th>\n",
       "    </tr>\n",
       "  </thead>\n",
       "  <tbody>\n",
       "    <tr>\n",
       "      <td>0</td>\n",
       "      <td>0.185590</td>\n",
       "      <td>0.405705</td>\n",
       "      <td>0.520118</td>\n",
       "      <td>00:00</td>\n",
       "    </tr>\n",
       "    <tr>\n",
       "      <td>1</td>\n",
       "      <td>0.079787</td>\n",
       "      <td>0.196156</td>\n",
       "      <td>0.825810</td>\n",
       "      <td>00:00</td>\n",
       "    </tr>\n",
       "    <tr>\n",
       "      <td>2</td>\n",
       "      <td>0.047099</td>\n",
       "      <td>0.110976</td>\n",
       "      <td>0.912169</td>\n",
       "      <td>00:00</td>\n",
       "    </tr>\n",
       "    <tr>\n",
       "      <td>3</td>\n",
       "      <td>0.034634</td>\n",
       "      <td>0.078520</td>\n",
       "      <td>0.936703</td>\n",
       "      <td>00:00</td>\n",
       "    </tr>\n",
       "    <tr>\n",
       "      <td>4</td>\n",
       "      <td>0.029066</td>\n",
       "      <td>0.062020</td>\n",
       "      <td>0.950932</td>\n",
       "      <td>00:00</td>\n",
       "    </tr>\n",
       "    <tr>\n",
       "      <td>5</td>\n",
       "      <td>0.026224</td>\n",
       "      <td>0.052220</td>\n",
       "      <td>0.961727</td>\n",
       "      <td>00:00</td>\n",
       "    </tr>\n",
       "    <tr>\n",
       "      <td>6</td>\n",
       "      <td>0.024546</td>\n",
       "      <td>0.045888</td>\n",
       "      <td>0.965162</td>\n",
       "      <td>00:00</td>\n",
       "    </tr>\n",
       "    <tr>\n",
       "      <td>7</td>\n",
       "      <td>0.023394</td>\n",
       "      <td>0.041527</td>\n",
       "      <td>0.968106</td>\n",
       "      <td>00:00</td>\n",
       "    </tr>\n",
       "    <tr>\n",
       "      <td>8</td>\n",
       "      <td>0.022513</td>\n",
       "      <td>0.038356</td>\n",
       "      <td>0.968106</td>\n",
       "      <td>00:00</td>\n",
       "    </tr>\n",
       "    <tr>\n",
       "      <td>9</td>\n",
       "      <td>0.021793</td>\n",
       "      <td>0.035945</td>\n",
       "      <td>0.969578</td>\n",
       "      <td>00:00</td>\n",
       "    </tr>\n",
       "    <tr>\n",
       "      <td>10</td>\n",
       "      <td>0.021184</td>\n",
       "      <td>0.034045</td>\n",
       "      <td>0.972031</td>\n",
       "      <td>00:00</td>\n",
       "    </tr>\n",
       "    <tr>\n",
       "      <td>11</td>\n",
       "      <td>0.020659</td>\n",
       "      <td>0.032505</td>\n",
       "      <td>0.973013</td>\n",
       "      <td>00:00</td>\n",
       "    </tr>\n",
       "    <tr>\n",
       "      <td>12</td>\n",
       "      <td>0.020201</td>\n",
       "      <td>0.031228</td>\n",
       "      <td>0.974975</td>\n",
       "      <td>00:00</td>\n",
       "    </tr>\n",
       "    <tr>\n",
       "      <td>13</td>\n",
       "      <td>0.019795</td>\n",
       "      <td>0.030152</td>\n",
       "      <td>0.976448</td>\n",
       "      <td>00:00</td>\n",
       "    </tr>\n",
       "    <tr>\n",
       "      <td>14</td>\n",
       "      <td>0.019433</td>\n",
       "      <td>0.029232</td>\n",
       "      <td>0.975957</td>\n",
       "      <td>00:00</td>\n",
       "    </tr>\n",
       "    <tr>\n",
       "      <td>15</td>\n",
       "      <td>0.019107</td>\n",
       "      <td>0.028435</td>\n",
       "      <td>0.976938</td>\n",
       "      <td>00:00</td>\n",
       "    </tr>\n",
       "    <tr>\n",
       "      <td>16</td>\n",
       "      <td>0.018810</td>\n",
       "      <td>0.027740</td>\n",
       "      <td>0.976938</td>\n",
       "      <td>00:00</td>\n",
       "    </tr>\n",
       "    <tr>\n",
       "      <td>17</td>\n",
       "      <td>0.018537</td>\n",
       "      <td>0.027126</td>\n",
       "      <td>0.977429</td>\n",
       "      <td>00:00</td>\n",
       "    </tr>\n",
       "    <tr>\n",
       "      <td>18</td>\n",
       "      <td>0.018285</td>\n",
       "      <td>0.026581</td>\n",
       "      <td>0.977429</td>\n",
       "      <td>00:00</td>\n",
       "    </tr>\n",
       "    <tr>\n",
       "      <td>19</td>\n",
       "      <td>0.018051</td>\n",
       "      <td>0.026093</td>\n",
       "      <td>0.977920</td>\n",
       "      <td>00:00</td>\n",
       "    </tr>\n",
       "  </tbody>\n",
       "</table>"
      ],
      "text/plain": [
       "<IPython.core.display.HTML object>"
      ]
     },
     "metadata": {},
     "output_type": "display_data"
    }
   ],
   "source": [
    "learn.fit(20, lr=0.5)"
   ]
  },
  {
   "cell_type": "markdown",
   "id": "ca296ae6-6cad-4d0f-8d1c-6345a99073aa",
   "metadata": {},
   "source": [
    "## NN "
   ]
  },
  {
   "cell_type": "code",
   "execution_count": 151,
   "id": "a1e140a0-5fb3-40ca-96a3-728af23c4be9",
   "metadata": {},
   "outputs": [],
   "source": [
    "def simple_net(xb):\n",
    "    res = xb@w1 + b1\n",
    "    res = res.max(tensor(0.0))\n",
    "    res = res@w2 + b2\n",
    "    return res"
   ]
  },
  {
   "cell_type": "code",
   "execution_count": 152,
   "id": "4f0a76dd-e827-4992-a931-e70eca1c637b",
   "metadata": {},
   "outputs": [],
   "source": [
    "w1 = init_params((28*28, 30))\n",
    "b1 = init_params(30)\n",
    "w2 = init_params((30,1))\n",
    "b2 = init_params(1)"
   ]
  },
  {
   "cell_type": "code",
   "execution_count": 154,
   "id": "1eaf12a0-192a-4a2d-abc3-10e5982487f5",
   "metadata": {},
   "outputs": [
    {
     "data": {
      "image/png": "[encoded data removed]",
      "text/plain": [
       "<Figure size 432x288 with 1 Axes>"
      ]
     },
     "metadata": {
      "needs_background": "light"
     },
     "output_type": "display_data"
    }
   ],
   "source": [
    "# The res.max((tensor(0.0)) is rectified linear unit relu)\n",
    "plot_function(F.relu)"
   ]
  },
  {
   "cell_type": "code",
   "execution_count": 155,
   "id": "aad291a9-3649-43ce-bca1-c1b5bb9d830e",
   "metadata": {},
   "outputs": [],
   "source": [
    "simple_net = nn.Sequential(\n",
    "    nn.Linear(28*28, 30),\n",
    "    nn.ReLU(),\n",
    "    nn.Linear(30, 1)\n",
    ")"
   ]
  },
  {
   "cell_type": "code",
   "execution_count": 156,
   "id": "26a7e32c-e7a1-4ec9-8e84-75c2963210c8",
   "metadata": {},
   "outputs": [],
   "source": [
    "learn = Learner(dls, simple_net, opt_func=SGD, loss_func=mnist_loss, metrics=batch_accuracy)"
   ]
  },
  {
   "cell_type": "code",
   "execution_count": 157,
   "id": "e4a50ec7-44ce-4e8e-97e7-814f2419e26f",
   "metadata": {},
   "outputs": [
    {
     "data": {
      "text/html": [
       "\n",
       "<style>\n",
       "    /* Turns off some styling */\n",
       "    progress {\n",
       "        /* gets rid of default border in Firefox and Opera. */\n",
       "        border: none;\n",
       "        /* Needs to be in here for Safari polyfill so background images work as expected. */\n",
       "        background-size: auto;\n",
       "    }\n",
       "    .progress-bar-interrupted, .progress-bar-interrupted::-webkit-progress-bar {\n",
       "        background: #F44336;\n",
       "    }\n",
       "</style>\n"
      ],
      "text/plain": [
       "<IPython.core.display.HTML object>"
      ]
     },
     "metadata": {},
     "output_type": "display_data"
    },
    {
     "data": {
      "text/html": [
       "<table border=\"1\" class=\"dataframe\">\n",
       "  <thead>\n",
       "    <tr style=\"text-align: left;\">\n",
       "      <th>epoch</th>\n",
       "      <th>train_loss</th>\n",
       "      <th>valid_loss</th>\n",
       "      <th>batch_accuracy</th>\n",
       "      <th>time</th>\n",
       "    </tr>\n",
       "  </thead>\n",
       "  <tbody>\n",
       "    <tr>\n",
       "      <td>0</td>\n",
       "      <td>0.315603</td>\n",
       "      <td>0.404237</td>\n",
       "      <td>0.504907</td>\n",
       "      <td>00:00</td>\n",
       "    </tr>\n",
       "    <tr>\n",
       "      <td>1</td>\n",
       "      <td>0.146779</td>\n",
       "      <td>0.231773</td>\n",
       "      <td>0.795388</td>\n",
       "      <td>00:00</td>\n",
       "    </tr>\n",
       "    <tr>\n",
       "      <td>2</td>\n",
       "      <td>0.081108</td>\n",
       "      <td>0.114555</td>\n",
       "      <td>0.917076</td>\n",
       "      <td>00:00</td>\n",
       "    </tr>\n",
       "    <tr>\n",
       "      <td>3</td>\n",
       "      <td>0.053127</td>\n",
       "      <td>0.076712</td>\n",
       "      <td>0.942100</td>\n",
       "      <td>00:00</td>\n",
       "    </tr>\n",
       "    <tr>\n",
       "      <td>4</td>\n",
       "      <td>0.040172</td>\n",
       "      <td>0.059762</td>\n",
       "      <td>0.956330</td>\n",
       "      <td>00:00</td>\n",
       "    </tr>\n",
       "    <tr>\n",
       "      <td>5</td>\n",
       "      <td>0.033572</td>\n",
       "      <td>0.050319</td>\n",
       "      <td>0.963690</td>\n",
       "      <td>00:00</td>\n",
       "    </tr>\n",
       "    <tr>\n",
       "      <td>6</td>\n",
       "      <td>0.029799</td>\n",
       "      <td>0.044368</td>\n",
       "      <td>0.965653</td>\n",
       "      <td>00:00</td>\n",
       "    </tr>\n",
       "    <tr>\n",
       "      <td>7</td>\n",
       "      <td>0.027359</td>\n",
       "      <td>0.040307</td>\n",
       "      <td>0.968106</td>\n",
       "      <td>00:00</td>\n",
       "    </tr>\n",
       "    <tr>\n",
       "      <td>8</td>\n",
       "      <td>0.025609</td>\n",
       "      <td>0.037363</td>\n",
       "      <td>0.969578</td>\n",
       "      <td>00:00</td>\n",
       "    </tr>\n",
       "    <tr>\n",
       "      <td>9</td>\n",
       "      <td>0.024259</td>\n",
       "      <td>0.035124</td>\n",
       "      <td>0.971541</td>\n",
       "      <td>00:00</td>\n",
       "    </tr>\n",
       "    <tr>\n",
       "      <td>10</td>\n",
       "      <td>0.023167</td>\n",
       "      <td>0.033356</td>\n",
       "      <td>0.973013</td>\n",
       "      <td>00:00</td>\n",
       "    </tr>\n",
       "    <tr>\n",
       "      <td>11</td>\n",
       "      <td>0.022256</td>\n",
       "      <td>0.031914</td>\n",
       "      <td>0.973503</td>\n",
       "      <td>00:00</td>\n",
       "    </tr>\n",
       "    <tr>\n",
       "      <td>12</td>\n",
       "      <td>0.021480</td>\n",
       "      <td>0.030707</td>\n",
       "      <td>0.974485</td>\n",
       "      <td>00:00</td>\n",
       "    </tr>\n",
       "    <tr>\n",
       "      <td>13</td>\n",
       "      <td>0.020810</td>\n",
       "      <td>0.029675</td>\n",
       "      <td>0.974485</td>\n",
       "      <td>00:00</td>\n",
       "    </tr>\n",
       "    <tr>\n",
       "      <td>14</td>\n",
       "      <td>0.020221</td>\n",
       "      <td>0.028779</td>\n",
       "      <td>0.974975</td>\n",
       "      <td>00:00</td>\n",
       "    </tr>\n",
       "    <tr>\n",
       "      <td>15</td>\n",
       "      <td>0.019700</td>\n",
       "      <td>0.027991</td>\n",
       "      <td>0.976448</td>\n",
       "      <td>00:00</td>\n",
       "    </tr>\n",
       "    <tr>\n",
       "      <td>16</td>\n",
       "      <td>0.019235</td>\n",
       "      <td>0.027291</td>\n",
       "      <td>0.976938</td>\n",
       "      <td>00:00</td>\n",
       "    </tr>\n",
       "    <tr>\n",
       "      <td>17</td>\n",
       "      <td>0.018815</td>\n",
       "      <td>0.026665</td>\n",
       "      <td>0.977429</td>\n",
       "      <td>00:00</td>\n",
       "    </tr>\n",
       "    <tr>\n",
       "      <td>18</td>\n",
       "      <td>0.018433</td>\n",
       "      <td>0.026101</td>\n",
       "      <td>0.977920</td>\n",
       "      <td>00:00</td>\n",
       "    </tr>\n",
       "    <tr>\n",
       "      <td>19</td>\n",
       "      <td>0.018083</td>\n",
       "      <td>0.025591</td>\n",
       "      <td>0.978901</td>\n",
       "      <td>00:00</td>\n",
       "    </tr>\n",
       "    <tr>\n",
       "      <td>20</td>\n",
       "      <td>0.017762</td>\n",
       "      <td>0.025128</td>\n",
       "      <td>0.978901</td>\n",
       "      <td>00:00</td>\n",
       "    </tr>\n",
       "    <tr>\n",
       "      <td>21</td>\n",
       "      <td>0.017464</td>\n",
       "      <td>0.024703</td>\n",
       "      <td>0.979392</td>\n",
       "      <td>00:00</td>\n",
       "    </tr>\n",
       "    <tr>\n",
       "      <td>22</td>\n",
       "      <td>0.017188</td>\n",
       "      <td>0.024313</td>\n",
       "      <td>0.979882</td>\n",
       "      <td>00:00</td>\n",
       "    </tr>\n",
       "    <tr>\n",
       "      <td>23</td>\n",
       "      <td>0.016929</td>\n",
       "      <td>0.023955</td>\n",
       "      <td>0.980373</td>\n",
       "      <td>00:00</td>\n",
       "    </tr>\n",
       "    <tr>\n",
       "      <td>24</td>\n",
       "      <td>0.016686</td>\n",
       "      <td>0.023623</td>\n",
       "      <td>0.981354</td>\n",
       "      <td>00:00</td>\n",
       "    </tr>\n",
       "    <tr>\n",
       "      <td>25</td>\n",
       "      <td>0.016458</td>\n",
       "      <td>0.023316</td>\n",
       "      <td>0.981354</td>\n",
       "      <td>00:00</td>\n",
       "    </tr>\n",
       "    <tr>\n",
       "      <td>26</td>\n",
       "      <td>0.016242</td>\n",
       "      <td>0.023030</td>\n",
       "      <td>0.981354</td>\n",
       "      <td>00:00</td>\n",
       "    </tr>\n",
       "    <tr>\n",
       "      <td>27</td>\n",
       "      <td>0.016038</td>\n",
       "      <td>0.022765</td>\n",
       "      <td>0.981354</td>\n",
       "      <td>00:00</td>\n",
       "    </tr>\n",
       "    <tr>\n",
       "      <td>28</td>\n",
       "      <td>0.015844</td>\n",
       "      <td>0.022517</td>\n",
       "      <td>0.981354</td>\n",
       "      <td>00:00</td>\n",
       "    </tr>\n",
       "    <tr>\n",
       "      <td>29</td>\n",
       "      <td>0.015659</td>\n",
       "      <td>0.022286</td>\n",
       "      <td>0.981845</td>\n",
       "      <td>00:00</td>\n",
       "    </tr>\n",
       "    <tr>\n",
       "      <td>30</td>\n",
       "      <td>0.015484</td>\n",
       "      <td>0.022070</td>\n",
       "      <td>0.981845</td>\n",
       "      <td>00:00</td>\n",
       "    </tr>\n",
       "    <tr>\n",
       "      <td>31</td>\n",
       "      <td>0.015315</td>\n",
       "      <td>0.021868</td>\n",
       "      <td>0.982336</td>\n",
       "      <td>00:00</td>\n",
       "    </tr>\n",
       "    <tr>\n",
       "      <td>32</td>\n",
       "      <td>0.015154</td>\n",
       "      <td>0.021678</td>\n",
       "      <td>0.983317</td>\n",
       "      <td>00:00</td>\n",
       "    </tr>\n",
       "    <tr>\n",
       "      <td>33</td>\n",
       "      <td>0.015000</td>\n",
       "      <td>0.021500</td>\n",
       "      <td>0.983317</td>\n",
       "      <td>00:00</td>\n",
       "    </tr>\n",
       "    <tr>\n",
       "      <td>34</td>\n",
       "      <td>0.014853</td>\n",
       "      <td>0.021332</td>\n",
       "      <td>0.983317</td>\n",
       "      <td>00:00</td>\n",
       "    </tr>\n",
       "    <tr>\n",
       "      <td>35</td>\n",
       "      <td>0.014711</td>\n",
       "      <td>0.021174</td>\n",
       "      <td>0.983317</td>\n",
       "      <td>00:00</td>\n",
       "    </tr>\n",
       "    <tr>\n",
       "      <td>36</td>\n",
       "      <td>0.014574</td>\n",
       "      <td>0.021025</td>\n",
       "      <td>0.983317</td>\n",
       "      <td>00:00</td>\n",
       "    </tr>\n",
       "    <tr>\n",
       "      <td>37</td>\n",
       "      <td>0.014443</td>\n",
       "      <td>0.020884</td>\n",
       "      <td>0.983317</td>\n",
       "      <td>00:00</td>\n",
       "    </tr>\n",
       "    <tr>\n",
       "      <td>38</td>\n",
       "      <td>0.014317</td>\n",
       "      <td>0.020751</td>\n",
       "      <td>0.983317</td>\n",
       "      <td>00:00</td>\n",
       "    </tr>\n",
       "    <tr>\n",
       "      <td>39</td>\n",
       "      <td>0.014195</td>\n",
       "      <td>0.020625</td>\n",
       "      <td>0.983317</td>\n",
       "      <td>00:00</td>\n",
       "    </tr>\n",
       "  </tbody>\n",
       "</table>"
      ],
      "text/plain": [
       "<IPython.core.display.HTML object>"
      ]
     },
     "metadata": {},
     "output_type": "display_data"
    }
   ],
   "source": [
    "learn.fit(40, 0.1)"
   ]
  },
  {
   "cell_type": "code",
   "execution_count": 160,
   "id": "1849ed0a-0721-4d34-9138-d5e12a23c795",
   "metadata": {},
   "outputs": [
    {
     "data": {
      "image/png": "[encoded data removed]",
      "text/plain": [
       "<Figure size 432x288 with 1 Axes>"
      ]
     },
     "metadata": {
      "needs_background": "light"
     },
     "output_type": "display_data"
    }
   ],
   "source": [
    "# Recorder records all the values appearing in the table above. we get the values and do itemgot(2) to get the batch_accuracy. Itemgot is from L class.\n",
    "plt.plot(L(learn.recorder.values).itemgot(2));"
   ]
  },
  {
   "cell_type": "code",
   "execution_count": 161,
   "id": "5dfcb276-2e70-400d-877a-f62bc7b3c190",
   "metadata": {},
   "outputs": [
    {
     "data": {
      "image/png": "[encoded data removed]",
      "text/plain": [
       "<Figure size 432x288 with 1 Axes>"
      ]
     },
     "metadata": {
      "needs_background": "light"
     },
     "output_type": "display_data"
    }
   ],
   "source": [
    "# Loss\n",
    "plt.plot(L(learn.recorder.values).itemgot(1));"
   ]
  },
  {
   "cell_type": "code",
   "execution_count": 162,
   "id": "3b84c93f-689a-4a49-869b-1ac9893d01e3",
   "metadata": {},
   "outputs": [
    {
     "data": {
      "text/plain": [
       "Sequential(\n",
       "  (0): Linear(in_features=784, out_features=30, bias=True)\n",
       "  (1): ReLU()\n",
       "  (2): Linear(in_features=30, out_features=1, bias=True)\n",
       ")"
      ]
     },
     "execution_count": 162,
     "metadata": {},
     "output_type": "execute_result"
    }
   ],
   "source": [
    "learn.model"
   ]
  },
  {
   "cell_type": "code",
   "execution_count": 166,
   "id": "ec1dad37-9226-42b8-8b5b-8c7cb9863e38",
   "metadata": {},
   "outputs": [
    {
     "data": {
      "text/plain": [
       "torch.Size([30, 784])"
      ]
     },
     "execution_count": 166,
     "metadata": {},
     "output_type": "execute_result"
    }
   ],
   "source": [
    "# Looking into our model,\n",
    "m = learn.model\n",
    "w,b = m[0].parameters()\n",
    "w.shape"
   ]
  },
  {
   "cell_type": "code",
   "execution_count": 167,
   "id": "bae8d8e3-687c-42d1-8b0d-9b62b12de00e",
   "metadata": {},
   "outputs": [
    {
     "data": {
      "text/plain": [
       "tensor([[ 4.1994e-03, -1.2330e-02,  3.6031e-03,  2.0726e-02,  9.1690e-04,  2.2738e-02, -2.5955e-02, -2.7105e-02, -3.0218e-02,  5.9896e-03, -2.4961e-02,  2.6100e-02,  1.6652e-02,  1.0682e-02,\n",
       "         -4.8292e-03, -2.6933e-02,  3.1079e-03, -3.0944e-02, -3.3858e-02, -1.7069e-02, -1.7041e-02, -2.6772e-02,  3.6513e-03, -3.4313e-02,  3.3941e-02, -1.2197e-02, -2.7482e-03,  3.3917e-03],\n",
       "        [ 3.2745e-02,  1.4656e-02,  2.3742e-02, -5.6978e-03, -2.4607e-03, -2.5224e-03,  2.6133e-02,  1.9872e-02,  2.3582e-02,  2.2411e-02, -3.5181e-02, -1.7411e-02,  1.6673e-02,  1.1659e-02,\n",
       "         -3.2805e-02,  2.1560e-02, -1.6736e-03,  1.3061e-02,  6.6234e-03, -2.0901e-02,  1.7993e-02,  9.1874e-03,  3.2662e-02,  3.2059e-02, -1.8241e-02, -4.5639e-03, -2.7829e-02,  1.3702e-02],\n",
       "        [-2.6316e-02,  1.9076e-02, -2.4817e-02,  3.5370e-02,  2.2785e-02, -3.2419e-02, -3.2842e-03,  6.2738e-03, -8.8613e-03, -2.6889e-02, -1.2490e-02, -2.6374e-02, -9.0880e-03,  3.4146e-02,\n",
       "         -1.6119e-02,  1.4810e-02,  1.2557e-03,  1.1333e-02,  1.7289e-02, -1.2728e-03,  3.3982e-04, -1.4024e-02,  2.7420e-02,  1.1491e-02,  1.0732e-02, -8.9933e-04, -2.3962e-02, -2.9275e-02],\n",
       "        [ 1.3523e-02,  6.9313e-03,  2.5357e-02,  2.7621e-02, -2.3165e-03,  2.0409e-02, -1.0909e-02, -2.9564e-02,  5.9636e-03, -1.3160e-02,  2.7680e-02,  2.4421e-02, -2.9263e-02, -9.0561e-03,\n",
       "         -5.5960e-03, -5.1602e-02, -3.0924e-03, -5.5259e-03, -7.7381e-03, -1.8775e-02,  2.3590e-02, -2.8657e-02,  1.4476e-02,  3.8237e-03, -3.5389e-02,  1.5064e-03, -1.7246e-02, -2.0476e-02],\n",
       "        [-1.2410e-02,  2.0524e-02,  6.2455e-03, -1.3686e-02,  1.4883e-03, -5.5250e-03,  4.0147e-03, -3.6667e-03, -2.4545e-02,  8.7972e-03, -2.5475e-02, -1.8193e-02, -2.3949e-02, -1.9386e-02,\n",
       "         -4.3046e-02, -4.5276e-02, -5.1227e-02, -3.8590e-02,  3.2260e-03, -4.1591e-02, -3.4536e-02, -3.0550e-02,  5.3235e-03,  2.6921e-02, -3.4916e-02, -1.4527e-02, -3.0060e-02, -4.2460e-03],\n",
       "        [-3.9845e-03, -2.6129e-03, -1.5558e-03, -2.5740e-02,  2.6919e-02, -1.6979e-02, -6.6461e-04, -1.0157e-02, -1.1309e-03,  2.4924e-02, -3.8465e-02, -4.0812e-02, -2.1126e-02, -3.6200e-02,\n",
       "         -8.3153e-02, -6.0236e-02, -4.7858e-02, -5.5956e-02, -3.7868e-02, -4.8026e-02, -5.6505e-03, -2.0491e-02, -5.8492e-03, -1.4863e-02, -2.5790e-02, -1.0591e-02, -2.6155e-02, -3.5096e-02],\n",
       "        [-1.2972e-02, -2.5208e-02,  1.8258e-03, -2.1013e-03,  1.4088e-02,  1.9697e-03,  3.6017e-02,  2.5154e-03,  2.2975e-02,  3.0437e-02,  2.5874e-02, -2.1210e-02,  3.7609e-03, -5.5018e-02,\n",
       "         -2.8865e-02, -8.1769e-02, -6.2035e-02, -5.6967e-03, -4.0301e-02, -6.0012e-02, -1.0315e-02,  2.2269e-02, -2.2058e-02, -1.7603e-02,  1.9332e-02,  1.7495e-02,  2.8581e-02,  2.4749e-02],\n",
       "        [-3.4367e-02,  2.5080e-02,  7.5448e-03,  3.6918e-03,  2.7310e-02, -1.9802e-02,  5.8299e-03,  4.2682e-02,  1.2366e-02,  5.0256e-02,  5.2763e-02,  4.4574e-02,  4.4099e-02, -1.7869e-02,\n",
       "          2.9816e-02,  5.1482e-03,  2.0310e-02,  8.8826e-03,  9.1525e-03, -4.7731e-03, -1.3108e-02, -2.3278e-02, -1.5711e-03,  2.0473e-02,  5.4525e-03,  1.1099e-02,  1.2214e-03, -2.8918e-02],\n",
       "        [-3.0836e-02,  9.1308e-03,  3.6478e-02,  4.4637e-02, -1.1210e-02, -6.2685e-05,  7.6290e-03,  6.4303e-02,  8.9624e-05,  9.1604e-03,  5.9889e-02,  1.4739e-02,  8.8321e-02,  2.6091e-02,\n",
       "          3.4571e-02,  4.7851e-02,  2.6368e-02,  1.7070e-02,  5.9222e-02, -1.0160e-02, -8.3783e-04,  1.7631e-03,  3.2662e-02,  3.9760e-02,  2.2822e-02, -5.9777e-03,  2.5415e-02, -2.7567e-02],\n",
       "        [-2.9461e-02,  3.0549e-03,  2.5828e-02,  5.1727e-02,  1.4633e-02, -6.8338e-03,  1.6610e-02,  2.6389e-02,  7.3509e-02,  3.4986e-02,  5.1656e-02,  6.2552e-02,  8.2106e-02,  2.4220e-02,\n",
       "          7.1687e-02,  9.3703e-02,  6.8104e-02,  6.5292e-02,  2.9460e-02,  3.5983e-02, -1.5122e-02, -4.4081e-03, -2.3254e-02, -7.2453e-03, -1.8665e-02,  1.4970e-02,  2.3644e-02, -1.0287e-02],\n",
       "        [-3.5250e-02, -1.0025e-02,  3.8915e-02,  4.0990e-02, -1.2694e-02,  3.2961e-02,  4.9075e-02,  3.0505e-02,  5.0950e-02,  8.5749e-02,  9.5998e-02,  5.2189e-02, -7.9611e-03,  1.6636e-02,\n",
       "          5.0677e-02,  9.0096e-02,  1.0451e-01,  1.1650e-01,  6.1522e-02,  2.5307e-02,  3.8634e-03,  1.0270e-02,  1.0810e-03, -2.7379e-02,  1.4296e-02,  3.5012e-02,  6.0320e-03, -6.1195e-04],\n",
       "        [ 2.0896e-03, -2.3059e-02, -9.9387e-03,  3.0682e-02, -1.7986e-03,  7.4416e-02,  8.9148e-02,  5.2941e-02,  7.3594e-02,  1.0402e-01,  9.6929e-02,  6.5828e-02,  3.3052e-02,  1.5982e-02,\n",
       "          2.0133e-02,  6.6227e-02,  9.9427e-02,  5.4347e-02,  8.3421e-02,  9.7499e-02,  3.7009e-02,  4.0848e-02,  2.3249e-02,  2.5915e-02,  3.7767e-02, -1.0910e-03, -2.2478e-02,  1.4712e-02],\n",
       "        [ 3.9064e-03, -1.5702e-02,  4.6132e-02,  3.0601e-02,  4.3233e-02,  7.0057e-02,  4.9329e-02,  9.6236e-02,  4.4649e-02,  8.6830e-02,  6.4588e-02,  2.3022e-02, -6.5723e-02, -9.5369e-02,\n",
       "         -9.6625e-02, -1.3572e-02,  5.7796e-02,  3.8915e-02,  9.3287e-02,  6.0157e-02,  5.7126e-02,  3.7451e-02,  6.0650e-02, -2.5549e-04, -3.9556e-03, -2.6412e-02, -2.3423e-02, -2.8788e-02],\n",
       "        [-4.7673e-03,  3.1377e-02, -9.7066e-03, -1.6404e-02,  5.5825e-02,  5.8078e-02,  6.5661e-02,  8.5066e-02,  3.4954e-02,  1.3588e-02,  4.1044e-02, -5.5616e-02, -1.3987e-01, -1.0750e-01,\n",
       "         -1.1452e-01, -1.0375e-02,  2.8825e-02,  3.6118e-02,  5.9093e-02,  8.0615e-02,  6.1594e-02,  7.9395e-02,  3.2740e-02, -8.2111e-03,  2.0196e-02,  2.6558e-02, -5.3920e-03,  1.5393e-02],\n",
       "        [ 1.8770e-02,  6.6076e-03,  2.3579e-02,  1.0821e-02,  4.6580e-02,  4.1895e-03,  2.9639e-02,  7.0861e-02,  6.7243e-02,  6.4336e-02, -4.5922e-03, -2.9476e-02, -1.3287e-01, -1.1198e-01,\n",
       "         -6.2042e-02,  3.4183e-02,  4.9629e-02,  7.9804e-02,  1.2083e-01,  1.1569e-01,  7.4668e-02,  4.3944e-02,  3.1966e-02,  1.8099e-02, -2.3929e-02, -7.3469e-04,  1.8178e-02, -1.2112e-02],\n",
       "        [ 6.2603e-05,  3.7324e-03, -3.1060e-02,  1.2817e-03, -1.9870e-02,  1.4354e-02,  3.8437e-02,  6.6347e-02,  4.9064e-02,  8.0333e-03, -1.8333e-02, -2.3942e-02, -1.1408e-01, -8.7728e-02,\n",
       "          5.4128e-03,  7.7723e-02,  7.8099e-02,  9.7699e-02,  9.4987e-02,  8.0939e-02,  5.8607e-02,  1.4524e-02,  4.2200e-02,  1.4460e-02,  2.1855e-02,  5.5567e-03,  3.3746e-02,  3.5576e-02],\n",
       "        [ 4.8142e-03,  6.1461e-03, -2.3547e-02, -9.9105e-03,  4.0154e-03,  3.3626e-04, -1.9149e-03,  2.1955e-02,  1.4283e-03,  3.1646e-02,  3.6866e-02, -4.8394e-02, -2.5674e-02,  4.5313e-02,\n",
       "          1.3919e-01,  8.1330e-02,  9.0629e-02,  5.7430e-02,  2.4194e-02, -9.8543e-03, -1.6374e-02,  2.1981e-02, -4.9028e-03, -2.6054e-02,  2.1056e-02,  2.6760e-02,  3.1354e-02,  2.6556e-02],\n",
       "        [-1.4348e-03, -1.0534e-02, -2.2088e-02, -2.4160e-02, -4.2200e-02, -2.0938e-02,  1.5826e-02,  1.6700e-03,  2.3466e-02, -2.7402e-02, -1.5282e-02,  2.9124e-02,  6.4783e-02,  1.0561e-01,\n",
       "          1.3451e-01,  1.0457e-01,  5.6829e-02,  3.0407e-02, -2.1164e-02, -1.6272e-02, -1.6515e-02, -1.4469e-02, -3.2888e-02, -4.1326e-02,  6.4191e-03, -1.8047e-03,  3.0908e-03,  1.5964e-02],\n",
       "        [-1.0749e-02, -1.7011e-02, -3.5273e-02, -1.3008e-02, -3.3844e-02, -5.0809e-02, -3.6972e-02, -1.9993e-02,  8.7487e-04, -1.6336e-02,  2.5690e-03,  6.2845e-02,  1.5918e-01,  1.3462e-01,\n",
       "          1.1675e-01,  1.0215e-02,  2.6179e-03, -3.6453e-02, -3.1170e-02, -3.2696e-02, -5.0356e-02, -5.0801e-02, -6.5825e-02, -1.3896e-02, -2.9329e-02, -3.5145e-02, -1.3544e-02, -3.3103e-03],\n",
       "        [ 2.9287e-03, -2.2465e-02,  2.9983e-02,  1.2848e-02, -7.7161e-02, -7.5044e-02, -9.7613e-02, -4.0920e-02, -6.6798e-02, -2.6795e-02, -3.3548e-02,  4.2553e-02,  1.0514e-01,  1.1431e-01,\n",
       "          7.6540e-02,  4.3135e-02, -4.7522e-02, -6.9960e-02, -3.3711e-02, -8.2693e-02, -6.7005e-02, -4.6884e-02, -4.1669e-02,  3.7695e-03, -3.2016e-02, -2.4190e-02,  2.6611e-02,  2.7266e-02],\n",
       "        [ 4.9053e-03,  3.2000e-02, -1.0119e-02,  8.8875e-03, -6.9167e-02, -1.0216e-01, -7.3801e-02, -1.0639e-01, -6.5663e-02, -3.5113e-02,  1.6742e-02, -1.8808e-03,  3.5883e-02,  7.9654e-02,\n",
       "          3.6720e-02,  7.6729e-03, -3.5015e-02, -4.0945e-03, -7.7087e-02, -9.1721e-02, -3.9236e-02, -6.3021e-02, -1.6860e-02, -2.7336e-02,  2.3679e-03, -4.6424e-03,  1.7808e-02, -2.0477e-02],\n",
       "        [-2.9397e-02, -3.5737e-02, -2.9438e-02, -1.9656e-02, -3.3087e-02, -2.5781e-02, -5.3852e-02, -9.2939e-02, -6.9029e-02, -3.5105e-02,  8.0496e-03, -1.7295e-02,  2.5013e-02, -4.2599e-03,\n",
       "         -6.6375e-03,  6.3907e-03, -7.7695e-03, -6.8709e-02, -1.0014e-01, -4.6075e-02, -2.9748e-02, -5.7564e-02, -4.7420e-02, -3.4301e-02,  2.5562e-02, -6.9312e-03,  2.6546e-02,  2.8889e-02],\n",
       "        [-2.1796e-02, -2.7513e-02, -2.8967e-02,  1.7147e-02, -4.8660e-02, -5.5165e-02, -1.5534e-02, -5.9976e-02, -5.7232e-02, -6.6403e-02, -5.9541e-02,  1.1045e-02,  2.4957e-02,  3.4928e-02,\n",
       "          2.9839e-02,  1.3174e-02, -4.7505e-03, -3.3811e-02, -3.6292e-02, -1.5583e-02, -6.3412e-03,  5.6136e-03, -2.5633e-02,  2.5326e-02, -1.2557e-02,  9.8800e-03,  9.6067e-03,  2.2360e-02],\n",
       "        [ 4.6669e-03, -4.5357e-04, -7.5755e-03, -1.9475e-02,  1.6404e-02,  1.4685e-02,  8.3094e-03, -1.2218e-02, -1.0184e-02, -3.5189e-02, -1.7664e-02, -7.9519e-03,  1.4081e-02,  1.3248e-02,\n",
       "         -2.4612e-02, -1.4264e-02,  3.2468e-02,  2.8303e-02, -3.3175e-02, -2.7610e-02,  7.9968e-03, -2.5888e-02,  1.9000e-02, -1.6673e-02,  2.1062e-02,  1.2562e-02, -9.0731e-03, -2.5044e-02],\n",
       "        [ 2.2436e-02, -3.1558e-02, -1.8927e-02, -3.3068e-02,  3.7452e-02,  1.6709e-02,  8.4895e-03,  2.5769e-02,  4.0320e-02,  1.1894e-02,  2.3577e-02, -3.3186e-02, -2.6745e-02,  3.7610e-02,\n",
       "          4.4022e-02,  3.0758e-02,  7.5566e-02,  1.0636e-02,  4.5413e-02, -1.3154e-02, -2.2095e-02,  3.4443e-03,  2.4379e-02,  2.2909e-02,  3.6947e-03,  1.7027e-02, -1.7644e-02,  3.1063e-02],\n",
       "        [ 2.1589e-02,  1.1523e-02,  3.4958e-02, -8.6804e-03, -9.8534e-03, -1.5020e-02,  2.4263e-02, -8.7468e-03,  2.1582e-02,  4.4530e-02, -4.1396e-03,  3.6626e-03,  2.2228e-02,  4.0443e-03,\n",
       "          3.5558e-02,  6.6912e-02,  7.9582e-02,  2.3088e-02, -4.9487e-03,  2.8022e-02,  1.6360e-02, -4.9104e-03, -2.5258e-02,  2.8476e-02,  3.0459e-02, -1.5803e-02,  2.3225e-02,  2.6479e-02],\n",
       "        [ 6.5120e-03, -2.9335e-03, -1.6534e-02,  3.5060e-02,  2.3716e-02,  2.1643e-02,  3.3945e-02, -2.2769e-03,  9.6782e-03,  4.3838e-02,  5.0612e-02,  3.9367e-02,  3.1385e-02,  2.6056e-02,\n",
       "          3.2753e-02,  5.1766e-02,  5.6133e-02,  2.4358e-02, -4.6628e-03,  1.1794e-02, -1.4863e-03,  3.7880e-02, -2.9678e-02,  1.4809e-02,  2.0579e-02,  1.9309e-02,  6.7794e-03, -7.7438e-03],\n",
       "        [-3.0323e-02,  1.5736e-02, -3.1425e-02, -3.3490e-02, -2.4491e-02,  1.6598e-02,  3.2426e-02,  4.0873e-03, -1.5969e-02, -2.8032e-02, -1.0268e-02, -2.9559e-02, -4.5370e-03, -9.7068e-03,\n",
       "         -1.6791e-02, -2.9141e-02,  5.5998e-04, -1.7183e-02,  9.4591e-03,  8.5661e-03, -1.6115e-02,  2.2580e-03, -1.0647e-02, -8.6223e-03,  3.0517e-02,  3.3538e-02, -2.6900e-02, -2.3543e-02]],\n",
       "       grad_fn=<ViewBackward0>)"
      ]
     },
     "execution_count": 167,
     "metadata": {},
     "output_type": "execute_result"
    }
   ],
   "source": [
    "# The weights parameters\n",
    "w[0].view(28,28)"
   ]
  },
  {
   "cell_type": "code",
   "execution_count": 172,
   "id": "d8dd0f2f-a71b-4b87-95df-7248175f02b1",
   "metadata": {},
   "outputs": [
    {
     "data": {
      "text/plain": [
       "<AxesSubplot:>"
      ]
     },
     "execution_count": 172,
     "metadata": {},
     "output_type": "execute_result"
    },
    {
     "data": {
      "image/png": "[encoded data removed]",
      "text/plain": [
       "<Figure size 72x72 with 1 Axes>"
      ]
     },
     "metadata": {
      "needs_background": "light"
     },
     "output_type": "display_data"
    }
   ],
   "source": [
    "show_image(w[5].view(28,28))"
   ]
  },
  {
   "cell_type": "code",
   "execution_count": 173,
   "id": "37c91d62-7003-43e5-8b61-034a9bb818b7",
   "metadata": {},
   "outputs": [],
   "source": [
    "# We see what is happening here, the parameters show the image they are trying to find"
   ]
  },
  {
   "cell_type": "markdown",
   "id": "01be8066-0d02-48d7-a036-dd80581beefd",
   "metadata": {},
   "source": [
    "### Everything together"
   ]
  },
  {
   "cell_type": "code",
   "execution_count": 174,
   "id": "f3d040a9-8f11-43f1-93af-9fe09c0427cd",
   "metadata": {},
   "outputs": [],
   "source": [
    "dls = ImageDataLoaders.from_folder(path)"
   ]
  },
  {
   "cell_type": "code",
   "execution_count": 176,
   "id": "38f5fe51-4b95-42d7-acfb-edeb490459d7",
   "metadata": {},
   "outputs": [
    {
     "data": {
      "text/html": [
       "\n",
       "<style>\n",
       "    /* Turns off some styling */\n",
       "    progress {\n",
       "        /* gets rid of default border in Firefox and Opera. */\n",
       "        border: none;\n",
       "        /* Needs to be in here for Safari polyfill so background images work as expected. */\n",
       "        background-size: auto;\n",
       "    }\n",
       "    .progress-bar-interrupted, .progress-bar-interrupted::-webkit-progress-bar {\n",
       "        background: #F44336;\n",
       "    }\n",
       "</style>\n"
      ],
      "text/plain": [
       "<IPython.core.display.HTML object>"
      ]
     },
     "metadata": {},
     "output_type": "display_data"
    },
    {
     "data": {
      "text/html": [
       "<table border=\"1\" class=\"dataframe\">\n",
       "  <thead>\n",
       "    <tr style=\"text-align: left;\">\n",
       "      <th>epoch</th>\n",
       "      <th>train_loss</th>\n",
       "      <th>valid_loss</th>\n",
       "      <th>accuracy</th>\n",
       "      <th>time</th>\n",
       "    </tr>\n",
       "  </thead>\n",
       "  <tbody>\n",
       "    <tr>\n",
       "      <td>0</td>\n",
       "      <td>0.107922</td>\n",
       "      <td>0.016948</td>\n",
       "      <td>0.995093</td>\n",
       "      <td>00:07</td>\n",
       "    </tr>\n",
       "  </tbody>\n",
       "</table>"
      ],
      "text/plain": [
       "<IPython.core.display.HTML object>"
      ]
     },
     "metadata": {},
     "output_type": "display_data"
    }
   ],
   "source": [
    "learn = cnn_learner(dls, resnet18, pretrained=False, loss_func=F.cross_entropy, metrics=accuracy)\n",
    "learn.fit_one_cycle(1,0.1)"
   ]
  },
  {
   "cell_type": "code",
   "execution_count": null,
   "id": "fb7b7ff8-0249-404e-92ca-8b41238b1223",
   "metadata": {},
   "outputs": [],
   "source": []
  }
 ],
 "metadata": {
  "environment": {
   "kernel": "python3",
   "name": "common-cu110.m91",
   "type": "gcloud",
   "uri": "gcr.io/deeplearning-platform-release/base-cu110:m91"
  },
  "kernelspec": {
   "display_name": "Python 3",
   "language": "python",
   "name": "python3"
  },
  "language_info": {
   "codemirror_mode": {
    "name": "ipython",
    "version": 3
   },
   "file_extension": ".py",
   "mimetype": "text/x-python",
   "name": "python",
   "nbconvert_exporter": "python",
   "pygments_lexer": "ipython3",
   "version": "3.7.12"
  }
 },
 "nbformat": 4,
 "nbformat_minor": 5
}
